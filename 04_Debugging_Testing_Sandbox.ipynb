{
 "cells": [
  {
   "cell_type": "code",
   "execution_count": null,
   "id": "b1962ae0",
   "metadata": {},
   "outputs": [],
   "source": [
    "import pandas as  pd\n",
    "import os\n",
    "import numpy as np\n",
    "import dtale\n",
    "import json\n",
    "from tqdm import tqdm\n",
    "import sys"
   ]
  },
  {
   "cell_type": "code",
   "execution_count": null,
   "id": "13d24b9f",
   "metadata": {},
   "outputs": [],
   "source": [
    "# %load C:\\users\\derek\\.jupyter\\startup.py\n",
    "from IPython.core.interactiveshell import InteractiveShell\n",
    "InteractiveShell.ast_node_interactivity = \"all\"\n",
    "\n",
    "# from IPython.core.display import display, HTML\n",
    "# display(HTML(\"<style>.container { width:100% !important; }</style>\"))\n",
    "\n",
    "#pd.set_option('display.max_colwidth', 100)\n",
    "\n",
    "pd.set_option('display.max_colwidth', None)\n",
    "\n",
    "\n",
    "\n",
    "pd.set_option(\"display.max_rows\", None)\n",
    "\n",
    "pd.options.display.max_columns = 500\n",
    "\n",
    "pd.options.display.max_seq_items = 500\n",
    "\n"
   ]
  },
  {
   "cell_type": "code",
   "execution_count": null,
   "id": "827aa074",
   "metadata": {},
   "outputs": [],
   "source": [
    "from pyhealth.data.base_mimic import * #parallel_parse_tables"
   ]
  },
  {
   "cell_type": "code",
   "execution_count": null,
   "id": "d89ba3b5",
   "metadata": {},
   "outputs": [],
   "source": [
    "df_patients = pd.read_csv('patients.csv')#.iloc[:1000,:]\n",
    "df_episodes = pd.read_csv('df_episode.csv')#.iloc[:150,:]\n",
    "df_visits = pd.read_csv('df_visits.csv')#.iloc[:150,:]\n",
    "df_OASIS = pd.read_csv('df_OASIS.csv')#.iloc[:150,:]\n",
    "df_event_mapping = pd.read_csv('event_mapping_df.csv')"
   ]
  },
  {
   "cell_type": "code",
   "execution_count": null,
   "id": "cf6cbfe6",
   "metadata": {},
   "outputs": [],
   "source": [
    "var_list = df_event_mapping.OASIS.tolist()\n",
    "save_dir = './testing2'\n",
    "#duration = int(21600)"
   ]
  },
  {
   "cell_type": "code",
   "execution_count": null,
   "id": "fde8c6a6",
   "metadata": {},
   "outputs": [],
   "source": [
    "mimic = MIMIC_Data(df_patients.iloc[1][0], 21600, 'last')"
   ]
  },
  {
   "cell_type": "code",
   "execution_count": null,
   "id": "5836e361",
   "metadata": {},
   "outputs": [],
   "source": [
    "mimic.parse_patient(df_patients)"
   ]
  },
  {
   "cell_type": "code",
   "execution_count": null,
   "id": "1a99b43c",
   "metadata": {},
   "outputs": [],
   "source": [
    "mimic.parse_admission(df_episodes[df_episodes.pa_id == 16274])"
   ]
  },
  {
   "cell_type": "code",
   "execution_count": null,
   "id": "6af59e6c",
   "metadata": {},
   "outputs": [],
   "source": [
    "mimic.parse_icu(df_visits[df_visits.pa_id == 16274])"
   ]
  },
  {
   "cell_type": "code",
   "execution_count": null,
   "id": "7f37577b",
   "metadata": {},
   "outputs": [],
   "source": [
    "a = mimic.parse_event(df_OASIS[df_OASIS.pa_id == 16274].reset_index(), save_dir, df_event_mapping, var_list)"
   ]
  },
  {
   "cell_type": "code",
   "execution_count": null,
   "id": "22a95756",
   "metadata": {},
   "outputs": [],
   "source": [
    "a"
   ]
  },
  {
   "cell_type": "code",
   "execution_count": null,
   "id": "00c43d4f",
   "metadata": {},
   "outputs": [],
   "source": [
    "  #max_time_diff = pd_df['secs_since_entry'].max()\n",
    "    \n",
    "int(np.ceil(60 / (21600/84200))"
   ]
  },
  {
   "cell_type": "code",
   "execution_count": null,
   "id": "7e21bffe",
   "metadata": {},
   "outputs": [],
   "source": [
    "key_df = df_event_mapping[df_event_mapping['OASIS'].isin(var_list)]\n",
    "\n"
   ]
  },
  {
   "cell_type": "code",
   "execution_count": null,
   "id": "db15158a",
   "metadata": {},
   "outputs": [],
   "source": [
    "key_df"
   ]
  },
  {
   "cell_type": "code",
   "execution_count": null,
   "id": "6b930449",
   "metadata": {},
   "outputs": [],
   "source": [
    "\n",
    "tempdf = key_df.merge(a, left_on='itemID',right_on='itemID', suffixes=(None, '_delete')).drop(axis=1, columns=['index','OASIS_delete'], level=None, inplace=False, errors='raise')"
   ]
  },
  {
   "cell_type": "code",
   "execution_count": null,
   "id": "50aac9b1",
   "metadata": {},
   "outputs": [],
   "source": [
    "tempdf"
   ]
  },
  {
   "cell_type": "code",
   "execution_count": null,
   "id": "08126aa1",
   "metadata": {},
   "outputs": [],
   "source": [
    "tempdf.sort_values(by='secs_since_entry', inplace=True)\n"
   ]
  },
  {
   "cell_type": "code",
   "execution_count": null,
   "id": "a3d5373b",
   "metadata": {},
   "outputs": [],
   "source": []
  },
  {
   "cell_type": "code",
   "execution_count": null,
   "id": "b26341c2",
   "metadata": {},
   "outputs": [],
   "source": [
    "for var in var_list:\n",
    "                    print(var)\n",
    "                    var_df = tempdf[tempdf['OASIS'] == var] # This is wrong\n",
    "                    #var_df = temp_df[temp_df['variable'] == var]\n",
    "                    # write records for each variable at interest\n",
    "                   # temp_list = self.write_record(temp_list, var_df, var)\n"
   ]
  },
  {
   "cell_type": "code",
   "execution_count": null,
   "id": "cf529c10",
   "metadata": {},
   "outputs": [],
   "source": [
    "var_df"
   ]
  },
  {
   "cell_type": "code",
   "execution_count": null,
   "id": "6d3e278c",
   "metadata": {},
   "outputs": [],
   "source": []
  },
  {
   "cell_type": "code",
   "execution_count": null,
   "id": "fd4ae97e",
   "metadata": {},
   "outputs": [],
   "source": []
  },
  {
   "cell_type": "code",
   "execution_count": null,
   "id": "43b479f7",
   "metadata": {},
   "outputs": [],
   "source": [
    "mimic.episode_headers_ = ['secs_since_entry']"
   ]
  },
  {
   "cell_type": "code",
   "execution_count": null,
   "id": "bf84ec92",
   "metadata": {},
   "outputs": [],
   "source": [
    "mimic.episode_headers_\n",
    "\n",
    "#  for var in var_list:\n",
    "#             mimic.episode_headers_.extend([var, var + '_unit'])\n",
    "#             #mimic.episode_headers_.append(var)\n",
    " # self.episode_headers_.extend([var, var + '_unit'])"
   ]
  },
  {
   "cell_type": "code",
   "execution_count": null,
   "id": "457dcfbd",
   "metadata": {},
   "outputs": [],
   "source": [
    "mimic.generate_episode(a, mimic.time_duration, df_event_mapping, var_list)"
   ]
  },
  {
   "cell_type": "code",
   "execution_count": null,
   "id": "53ef59cd",
   "metadata": {},
   "outputs": [],
   "source": [
    "a.secs_since_entry.nunique()[0]"
   ]
  },
  {
   "cell_type": "code",
   "execution_count": null,
   "id": "d08ba2da",
   "metadata": {},
   "outputs": [],
   "source": [
    "a.secs_since_entry.unique()[1]"
   ]
  },
  {
   "cell_type": "code",
   "execution_count": null,
   "id": "2cced742",
   "metadata": {},
   "outputs": [],
   "source": [
    "a.secs_since_entry.unique()"
   ]
  },
  {
   "cell_type": "code",
   "execution_count": null,
   "id": "6334850e",
   "metadata": {},
   "outputs": [],
   "source": [
    "a.loc[a.secs_since_entry == a.secs_since_entry.unique()[1]]"
   ]
  },
  {
   "cell_type": "code",
   "execution_count": null,
   "id": "f9f74b25",
   "metadata": {},
   "outputs": [],
   "source": [
    "mimic.data"
   ]
  },
  {
   "cell_type": "code",
   "execution_count": null,
   "id": "313d3154",
   "metadata": {},
   "outputs": [],
   "source": []
  },
  {
   "cell_type": "code",
   "execution_count": null,
   "id": "cf3ee780",
   "metadata": {},
   "outputs": [],
   "source": [
    "df_event_mapping[df_event_mapping['OASIS'].isin(var_list)]"
   ]
  },
  {
   "cell_type": "code",
   "execution_count": null,
   "id": "d46dad7f",
   "metadata": {},
   "outputs": [],
   "source": []
  },
  {
   "cell_type": "code",
   "execution_count": null,
   "id": "30ed1963",
   "metadata": {},
   "outputs": [],
   "source": []
  },
  {
   "cell_type": "code",
   "execution_count": null,
   "id": "e541dae5",
   "metadata": {},
   "outputs": [],
   "source": [
    "df_event_mapping.dtypes"
   ]
  },
  {
   "cell_type": "code",
   "execution_count": null,
   "id": "4836a8fa",
   "metadata": {},
   "outputs": [],
   "source": [
    "var_list[0]"
   ]
  },
  {
   "cell_type": "code",
   "execution_count": null,
   "id": "cd146c1d",
   "metadata": {},
   "outputs": [],
   "source": [
    "df_OASIS[df_OASIS.pa_id == 16274].reset_index()"
   ]
  },
  {
   "cell_type": "code",
   "execution_count": null,
   "id": "a9f0edde",
   "metadata": {},
   "outputs": [],
   "source": [
    "df_patients.iloc[0].values[0]"
   ]
  },
  {
   "cell_type": "code",
   "execution_count": null,
   "id": "002e6d96",
   "metadata": {},
   "outputs": [],
   "source": [
    "df_episodes.where(df_episodes.pa_id == '16274').dropna()"
   ]
  },
  {
   "cell_type": "code",
   "execution_count": null,
   "id": "b335d793",
   "metadata": {},
   "outputs": [],
   "source": [
    "for i, admission_event in enumerate(mimic.data['admission_list']): \n",
    "    print(i, admission_event)\n"
   ]
  },
  {
   "cell_type": "code",
   "execution_count": null,
   "id": "b2eb2284",
   "metadata": {},
   "outputs": [],
   "source": []
  },
  {
   "cell_type": "code",
   "execution_count": null,
   "id": "4750ccfe",
   "metadata": {},
   "outputs": [],
   "source": [
    "df_OASIS['M0090_INFO_COMPLETED_DT'].max() \n"
   ]
  },
  {
   "cell_type": "code",
   "execution_count": null,
   "id": "67d352e6",
   "metadata": {},
   "outputs": [],
   "source": [
    "(pd.to_datetime(df_OASIS['M0090_INFO_COMPLETED_DT']) - df[\n",
    "                    'first_entry']).dt.total_seconds()"
   ]
  }
 ],
 "metadata": {
  "kernelspec": {
   "display_name": "Python [conda env:pyhealth]",
   "language": "python",
   "name": "conda-env-pyhealth-py"
  },
  "language_info": {
   "codemirror_mode": {
    "name": "ipython",
    "version": 3
   },
   "file_extension": ".py",
   "mimetype": "text/x-python",
   "name": "python",
   "nbconvert_exporter": "python",
   "pygments_lexer": "ipython3",
   "version": "3.6.13"
  }
 },
 "nbformat": 4,
 "nbformat_minor": 5
}
