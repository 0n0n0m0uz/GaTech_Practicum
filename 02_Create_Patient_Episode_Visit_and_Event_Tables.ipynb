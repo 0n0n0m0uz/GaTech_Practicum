{
 "cells": [
  {
   "cell_type": "markdown",
   "id": "b1e3ade0",
   "metadata": {},
   "source": [
    "<div class=\"alert alert-block alert-info\">\n",
    "     <b>Import Modules Needed</b> <i>(need pandas >= 1.2 and python >= 3.9.0 for all the data cleaning techniques to work)</i>\n",
    "</div>"
   ]
  },
  {
   "cell_type": "code",
   "execution_count": 1,
   "id": "9ecfe589",
   "metadata": {},
   "outputs": [],
   "source": [
    "import pandas as  pd\n",
    "import os\n",
    "import sweetviz as sv\n",
    "import numpy as np\n",
    "import dtale\n",
    "import cudf\n",
    "import dask_cudf\n",
    "\n",
    "#!pip install git+https://github.com/innovationOUtside/fstring-magic.git"
   ]
  },
  {
   "cell_type": "markdown",
   "id": "c242ff46",
   "metadata": {},
   "source": [
    "<div class=\"alert alert-block alert-info\">\n",
    "    <b>Jupyter Plumbing</b>\n",
    "</div>\n"
   ]
  },
  {
   "cell_type": "code",
   "execution_count": 2,
   "id": "8bb5b14c",
   "metadata": {},
   "outputs": [
    {
     "data": {
      "text/html": [
       "<style>.container { width:100% !important; }</style>"
      ],
      "text/plain": [
       "<IPython.core.display.HTML object>"
      ]
     },
     "metadata": {},
     "output_type": "display_data"
    }
   ],
   "source": [
    "# %load C:\\users\\derek\\.jupyter\\startup.py\n",
    "from IPython.core.interactiveshell import InteractiveShell\n",
    "InteractiveShell.ast_node_interactivity = \"all\"\n",
    "\n",
    "from IPython.core.display import display, HTML\n",
    "display(HTML(\"<style>.container { width:100% !important; }</style>\"))\n",
    "\n",
    "#pd.set_option('display.max_colwidth', 100)\n",
    "\n",
    "pd.set_option('display.max_colwidth', None)\n",
    "\n",
    "\n",
    "\n",
    "pd.set_option(\"display.max_rows\", None)\n",
    "\n",
    "pd.options.display.max_columns = 500\n",
    "\n",
    "pd.options.display.max_seq_items = 500\n",
    "\n"
   ]
  },
  {
   "cell_type": "markdown",
   "id": "056621e6",
   "metadata": {},
   "source": [
    "<div class=\"alert alert-block alert-info\">\n",
    "    <b>Find CSV Files in working dir</b>\n",
    "</div>"
   ]
  },
  {
   "cell_type": "code",
   "execution_count": 3,
   "id": "7d834cbb",
   "metadata": {},
   "outputs": [
    {
     "name": "stdout",
     "output_type": "stream",
     "text": [
      "/home/derek/Jupyter_Notebooks/__csvStore/df_visits.csv\n",
      "/home/derek/Jupyter_Notebooks/__csvStore/df_episode.csv\n",
      "/home/derek/Jupyter_Notebooks/__csvStore/final.csv\n",
      "/home/derek/Jupyter_Notebooks/__csvStore/df_OASIS.csv\n",
      "/home/derek/Jupyter_Notebooks/__csvStore/dead_patients_final.csv\n",
      "/home/derek/Jupyter_Notebooks/__csvStore/orig_data2.csv\n",
      "/home/derek/Jupyter_Notebooks/__csvStore/eliminated.csv\n",
      "/home/derek/Jupyter_Notebooks/__csvStore/orig_data.csv\n",
      "/home/derek/Jupyter_Notebooks/__csvStore/cleaned_data.csv\n",
      "/home/derek/Jupyter_Notebooks/__csvStore/event_mapping_df.csv\n",
      "/home/derek/Jupyter_Notebooks/__csvStore/soc2.csv\n",
      "/home/derek/Jupyter_Notebooks/__csvStore/du.csv\n",
      "/home/derek/Jupyter_Notebooks/__csvStore/patients.csv\n",
      "/home/derek/Jupyter_Notebooks/__csvStore/duplicate_ceo_ids.csv\n",
      "/home/derek/Jupyter_Notebooks/__csvStore/soc.csv\n",
      "/home/derek/Jupyter_Notebooks/__csvStore/alive_patients_final.csv\n",
      "/home/derek/Jupyter_Notebooks/__csvStore/dv.csv\n",
      "/home/derek/Jupyter_Notebooks/__csvStore/deduped_complete.csv\n",
      "/home/derek/Jupyter_Notebooks/__csvStore/duplicate_DispositionIDs.csv\n"
     ]
    }
   ],
   "source": [
    "csvStore = os.path.join(os.getcwd(),'__csvStore' )\n",
    "csvlist = []\n",
    "for file in enumerate(os.listdir(csvStore)):\n",
    "    if file[1].endswith(\".csv\"):\n",
    "        csvlist.append(os.path.join(str(csvStore), file[1]))\n",
    "        print(os.path.join(str(csvStore), file[1]))"
   ]
  },
  {
   "cell_type": "code",
   "execution_count": 4,
   "id": "cf8995f4",
   "metadata": {},
   "outputs": [
    {
     "data": {
      "text/plain": [
       "[(0, '/home/derek/Jupyter_Notebooks/__csvStore/df_visits.csv'),\n",
       " (1, '/home/derek/Jupyter_Notebooks/__csvStore/df_episode.csv'),\n",
       " (2, '/home/derek/Jupyter_Notebooks/__csvStore/final.csv'),\n",
       " (3, '/home/derek/Jupyter_Notebooks/__csvStore/df_OASIS.csv'),\n",
       " (4, '/home/derek/Jupyter_Notebooks/__csvStore/dead_patients_final.csv'),\n",
       " (5, '/home/derek/Jupyter_Notebooks/__csvStore/orig_data2.csv'),\n",
       " (6, '/home/derek/Jupyter_Notebooks/__csvStore/eliminated.csv'),\n",
       " (7, '/home/derek/Jupyter_Notebooks/__csvStore/orig_data.csv'),\n",
       " (8, '/home/derek/Jupyter_Notebooks/__csvStore/cleaned_data.csv'),\n",
       " (9, '/home/derek/Jupyter_Notebooks/__csvStore/event_mapping_df.csv'),\n",
       " (10, '/home/derek/Jupyter_Notebooks/__csvStore/soc2.csv'),\n",
       " (11, '/home/derek/Jupyter_Notebooks/__csvStore/du.csv'),\n",
       " (12, '/home/derek/Jupyter_Notebooks/__csvStore/patients.csv'),\n",
       " (13, '/home/derek/Jupyter_Notebooks/__csvStore/duplicate_ceo_ids.csv'),\n",
       " (14, '/home/derek/Jupyter_Notebooks/__csvStore/soc.csv'),\n",
       " (15, '/home/derek/Jupyter_Notebooks/__csvStore/alive_patients_final.csv'),\n",
       " (16, '/home/derek/Jupyter_Notebooks/__csvStore/dv.csv'),\n",
       " (17, '/home/derek/Jupyter_Notebooks/__csvStore/deduped_complete.csv'),\n",
       " (18, '/home/derek/Jupyter_Notebooks/__csvStore/duplicate_DispositionIDs.csv')]"
      ]
     },
     "execution_count": 4,
     "metadata": {},
     "output_type": "execute_result"
    }
   ],
   "source": [
    "list(enumerate(csvlist))"
   ]
  },
  {
   "cell_type": "markdown",
   "id": "39e0c9f4",
   "metadata": {},
   "source": [
    "<div class=\"alert alert-block alert-info\">\n",
    "    <b>Import the raw data</b>\n",
    "</div>"
   ]
  },
  {
   "cell_type": "code",
   "execution_count": 5,
   "id": "e3ecd911",
   "metadata": {},
   "outputs": [],
   "source": [
    "df = pd.read_csv(csvlist[2])#.iloc[: , 2:]\n"
   ]
  },
  {
   "cell_type": "code",
   "execution_count": 6,
   "id": "4bef0d9e",
   "metadata": {},
   "outputs": [
    {
     "data": {
      "text/html": [
       "\n",
       "        <iframe\n",
       "            width=\"100%\"\n",
       "            height=\"475\"\n",
       "            src=\"http://LAPTOP-3DIDAFIM:40000/dtale/iframe/1\"\n",
       "            frameborder=\"0\"\n",
       "            allowfullscreen\n",
       "            \n",
       "        ></iframe>\n",
       "        "
      ],
      "text/plain": [
       "<IPython.lib.display.IFrame at 0x7f6729ae0160>"
      ]
     },
     "metadata": {},
     "output_type": "display_data"
    },
    {
     "data": {
      "text/plain": []
     },
     "execution_count": 6,
     "metadata": {},
     "output_type": "execute_result"
    }
   ],
   "source": [
    "dtale.show(df)"
   ]
  },
  {
   "cell_type": "markdown",
   "id": "3b537621",
   "metadata": {},
   "source": [
    "<div class=\"alert alert-block alert-info\">\n",
    "    <b>Find Columns that contain mixed data types to investigate for possible data quality issues</b>\n",
    "</div>\n"
   ]
  },
  {
   "cell_type": "code",
   "execution_count": 7,
   "id": "ef2887ff",
   "metadata": {},
   "outputs": [],
   "source": [
    "if mixed_dtypes := {c: dtype for c in df.columns if (dtype := pd.api.types.infer_dtype(df[c])).startswith(\"mixed\")}:\n",
    "    raise TypeError(f\"Dataframe has one more mixed dtypes: {mixed_dtypes}\")"
   ]
  },
  {
   "cell_type": "markdown",
   "id": "3c3cd129",
   "metadata": {},
   "source": [
    "<div class=\"alert alert-block alert-info\">\n",
    "    <b>Find Columns with Dates and convert them to datetime type</b>\n",
    "</div>"
   ]
  },
  {
   "cell_type": "code",
   "execution_count": 8,
   "id": "eeb7b8ef",
   "metadata": {},
   "outputs": [
    {
     "data": {
      "text/plain": [
       "Index(['epi_SocDate', 'epi_StartOfEpisode', 'epi_EndOfEpisode',\n",
       "       'epi_DischargeDate', 'M0906_DC_TRAN_DTH_DT', 'M0090_INFO_COMPLETED_DT',\n",
       "       'cedd_dateofdeath'],\n",
       "      dtype='object')"
      ]
     },
     "execution_count": 8,
     "metadata": {},
     "output_type": "execute_result"
    }
   ],
   "source": [
    "cols_w_dates = df.columns[(df.columns.str.contains('DT', case=False) | df.columns.str.contains('date', case=False) | df.columns.str.contains('OFEPISODE', case=False))] \n",
    "df[cols_w_dates] = df[cols_w_dates].apply(pd.to_datetime)\n",
    "cols_w_dates\n"
   ]
  },
  {
   "cell_type": "markdown",
   "id": "e1d7db67",
   "metadata": {},
   "source": [
    "<div class=\"alert alert-block alert-info\">\n",
    "    <b>Break up columns</b>\n",
    "</div>"
   ]
  },
  {
   "cell_type": "code",
   "execution_count": 9,
   "id": "d8b20dc1",
   "metadata": {},
   "outputs": [
    {
     "data": {
      "text/plain": [
       "Index(['DispositionId', 'pa_id', 'mortality', 'year_born', 'pa_gender',\n",
       "       'epi_id', 'ceo_id', 'epi_SocDate', 'epi_StartOfEpisode',\n",
       "       'epi_EndOfEpisode', 'epi_DischargeDate', 'M0906_DC_TRAN_DTH_DT',\n",
       "       'M0090_INFO_COMPLETED_DT', 'cedd_dateofdeath', 'DaysToDeath',\n",
       "       'epi_AdmitType', 'dcc_desc', 'epi_dcrid', 'dcr_desc', 'ceo_HIPPS',\n",
       "       'ceo_HHRG', 'ceas_ascode', 'icd_code', 'icd_code_description',\n",
       "       'DiagnosisCategory', 'RoughAge', 'ceo_OASIScorrectionnum'],\n",
       "      dtype='object')"
      ]
     },
     "execution_count": 9,
     "metadata": {},
     "output_type": "execute_result"
    },
    {
     "data": {
      "text/plain": [
       "Index(['M0100_ASSMT_REASON', 'M0110_EPISODE_TIMING', 'M0140_ETHNIC_AI_AN',\n",
       "       'M0140_ETHNIC_ASIAN', 'M0140_ETHNIC_BLACK', 'M0140_ETHNIC_HISP',\n",
       "       'M0140_ETHNIC_NH_PI', 'M0140_ETHNIC_WHITE', 'M1000_DC_IPPS_14_DA',\n",
       "       'M1000_DC_IRF_14_DA', 'M1000_DC_LTC_14_DA', 'M1000_DC_LTCH_14_DA',\n",
       "       'M1000_DC_NONE_14_DA', 'M1000_DC_OTH_14_DA', 'M1000_DC_PSYCH_14_DA',\n",
       "       'M1000_DC_SNF_14_DA', 'M1028_ACTV_DIAG_DM', 'M1028_ACTV_DIAG_NOA',\n",
       "       'M1028_ACTV_DIAG_PVD_PAD', 'M1030_THH_ENT_NUTRITION',\n",
       "       'M1030_THH_IV_INFUSION', 'M1030_THH_NONE_ABOVE',\n",
       "       'M1030_THH_PAR_NUTRITION', 'M1033_HOSP_RISK_5PLUS_MDCTN',\n",
       "       'M1033_HOSP_RISK_COMPLIANCE', 'M1033_HOSP_RISK_CRNT_EXHSTN',\n",
       "       'M1033_HOSP_RISK_HSTRY_FALLS', 'M1033_HOSP_RISK_MLTPL_ED_VISIT',\n",
       "       'M1033_HOSP_RISK_MLTPL_HOSPZTN', 'M1033_HOSP_RISK_MNTL_BHV_DCLN',\n",
       "       'M1033_HOSP_RISK_NONE_ABOVE', 'M1033_HOSP_RISK_OTHR_RISK',\n",
       "       'M1033_HOSP_RISK_WEIGHT_LOSS', 'M1051_PVX_RCVD_AGNCY', 'M1060_HEIGHT_A',\n",
       "       'M1060_WEIGHT_B', 'M1200_VISION', 'M1242_PAIN_FREQ_ACTVTY_MVMT',\n",
       "       'M1306_UNHLD_STG2_PRSR_ULCR', 'M1322_NBR_PRSULC_STG1',\n",
       "       'M1324_STG_PRBLM_ULCER', 'M1330_STAS_ULCR_PRSNT',\n",
       "       'M1340_SRGCL_WND_PRSNT', 'M1400_WHEN_DYSPNEIC', 'M1600_UTI',\n",
       "       'M1610_UR_INCONT', 'M1620_BWL_INCONT', 'M1630_OSTOMY',\n",
       "       'M1700_COG_FUNCTION', 'M1710_WHEN_CONFUSED', 'M1720_WHEN_ANXIOUS',\n",
       "       'M1730_PHQ2_DPRSN', 'M1730_PHQ2_LACK_INTRST', 'M1730_STDZ_DPRSN_SCRNG',\n",
       "       'M1740_BD_DELUSIONS', 'M1740_BD_IMP_DECISN', 'M1740_BD_MEM_DEFICIT',\n",
       "       'M1740_BD_NONE', 'M1740_BD_PHYSICAL', 'M1740_BD_SOC_INAPPRO',\n",
       "       'M1740_BD_VERBAL', 'M1745_BEH_PROB_FREQ', 'M1800_CRNT_GROOMING',\n",
       "       'M1810_CRNT_DRESS_UPPER', 'M1820_CRNT_DRESS_LOWER', 'M1830_CRNT_BATHG',\n",
       "       'M1840_CRNT_TOILTG', 'M1845_CRNT_TOILTG_HYGN', 'M1850_CRNT_TRNSFRNG',\n",
       "       'M1860_CRNT_AMBLTN', 'M1870_CRNT_FEEDING',\n",
       "       'M1910_MLT_FCTR_FALL_RISK_ASMT', 'M2001_DRUG_RGMN_RVW',\n",
       "       'M2005_MDCTN_INTRVTN', 'M2010_HIGH_RISK_DRUG_EDCTN',\n",
       "       'M2016_DRUG_EDCTN_INTRVTN', 'M2020_CRNT_MGMT_ORAL_MDCTN',\n",
       "       'M2030_CRNT_MGMT_INJCTN_MDCTN', 'M2102_CARE_TYPE_SRC_SPRVSN',\n",
       "       'M2200_THER_NEED_NA', 'M2200_THER_NEED_NBR',\n",
       "       'M2301_EMER_USE_AFTR_LAST_ASMT', 'M2401_INTRVTN_SMRY_DBTS_FT',\n",
       "       'M2401_INTRVTN_SMRY_DPRSN', 'M2401_INTRVTN_SMRY_FALL_PRVNT',\n",
       "       'M2401_INTRVTN_SMRY_PAIN_MNTR', 'M2401_INTRVTN_SMRY_PRSULC_PRVN',\n",
       "       'M2401_INTRVTN_SMRY_PRSULC_WET', 'M2410_INPAT_FACILITY'],\n",
       "      dtype='object')"
      ]
     },
     "execution_count": 9,
     "metadata": {},
     "output_type": "execute_result"
    }
   ],
   "source": [
    "# Descriptive IDs\n",
    "df.columns[:27]\n",
    "colsMeta = df.columns[:27]\n",
    "# OASIS Factors\n",
    "df.columns[27:]\n",
    "colsOASIS = df.columns[27:]"
   ]
  },
  {
   "cell_type": "markdown",
   "id": "e58d1e37",
   "metadata": {},
   "source": [
    "<div class=\"alert alert-block alert-info\">\n",
    "    <b>Important Summary Stats</b>\n",
    "</div>"
   ]
  },
  {
   "cell_type": "code",
   "execution_count": 10,
   "id": "ed633d9a",
   "metadata": {},
   "outputs": [
    {
     "data": {
      "text/plain": [
       "'There are 3128 patients'"
      ]
     },
     "execution_count": 10,
     "metadata": {},
     "output_type": "execute_result"
    },
    {
     "data": {
      "text/plain": [
       "'Alive: 225 | Dead: 2903'"
      ]
     },
     "execution_count": 10,
     "metadata": {},
     "output_type": "execute_result"
    }
   ],
   "source": [
    "f\"There are {df.groupby('DispositionId').agg({'pa_id': 'nunique'}).sum().values[0]} patients\"\n",
    "\n",
    "f\"Alive: {df.groupby('mortality').agg({'pa_id': 'nunique'}).iloc[0,0]} | Dead: {df.groupby('mortality').agg({'pa_id': 'nunique'}).iloc[1,0]}\""
   ]
  },
  {
   "cell_type": "markdown",
   "id": "0dfce62a",
   "metadata": {},
   "source": [
    "<hr style=\"height:2px;border-width:0;color:black;background-color:black\">"
   ]
  },
  {
   "cell_type": "markdown",
   "id": "7519aa3f",
   "metadata": {},
   "source": [
    "<div class=\"alert alert-info\" role=\"alert\">\n",
    "    <b>Create a patients df and populate the death date by taking the most recent dates</b>\n",
    "</div>"
   ]
  },
  {
   "cell_type": "code",
   "execution_count": 11,
   "id": "7aa540fb",
   "metadata": {},
   "outputs": [
    {
     "data": {
      "text/plain": [
       "3128"
      ]
     },
     "execution_count": 11,
     "metadata": {},
     "output_type": "execute_result"
    }
   ],
   "source": [
    "len(df.groupby(['pa_id'])['pa_id','DispositionId','pa_gender','year_born', 'M0906_DC_TRAN_DTH_DT', 'mortality'].transform('max').drop_duplicates('pa_id'))\n",
    "\n",
    "df_patients = df.groupby(['pa_id'])['pa_id', 'DispositionId' , 'pa_gender','year_born', 'M0906_DC_TRAN_DTH_DT', 'mortality', 'cedd_dateofdeath'].transform('max').drop_duplicates('pa_id').reset_index(drop=True)"
   ]
  },
  {
   "cell_type": "markdown",
   "id": "d538057a",
   "metadata": {},
   "source": [
    "<div class=\"alert alert-info\" role=\"alert\">\n",
    "    <b>If no cedd_dateofdeath is provided then use the 'M0906_DC_TRAN_DTH_DT' </b>\n",
    "</div>"
   ]
  },
  {
   "cell_type": "code",
   "execution_count": 12,
   "id": "da315f11",
   "metadata": {},
   "outputs": [],
   "source": [
    "df_patients['cedd_dateofdeath'].where(((df_patients.mortality == 0) | (~df_patients.cedd_dateofdeath.isnull())), (df_patients['M0906_DC_TRAN_DTH_DT']), inplace=True)"
   ]
  },
  {
   "cell_type": "markdown",
   "id": "9bc2d215",
   "metadata": {},
   "source": [
    "<div class=\"alert alert-info\" role=\"alert\">\n",
    "    <b>Create a Year of Death + Age at Death column</b>\n",
    "</div>"
   ]
  },
  {
   "cell_type": "code",
   "execution_count": 13,
   "id": "cadadc2d",
   "metadata": {},
   "outputs": [],
   "source": [
    "df_patients['yod']= pd.DatetimeIndex(df_patients['cedd_dateofdeath']).year\n",
    "df_patients['aod'] = df_patients['yod'] - df_patients['year_born']\n"
   ]
  },
  {
   "cell_type": "markdown",
   "id": "3521e1f4",
   "metadata": {},
   "source": [
    "<div class=\"alert alert-info\" role=\"alert\">\n",
    "    <b>Convert YOD and AAD into integers</b>\n",
    "</div>"
   ]
  },
  {
   "cell_type": "code",
   "execution_count": 14,
   "id": "19d433fb",
   "metadata": {},
   "outputs": [],
   "source": [
    "#df_patients.fillna({'cedd_dateofdeath':0,}, inplace=True)\n",
    "df_patients.fillna({'yod':0,}, inplace=True)\n",
    "df_patients[\"yod\"] = df_patients[\"yod\"].apply(np.int64)\n",
    "df_patients.fillna({'aod':0,}, inplace=True)\n",
    "df_patients['aod'] = df_patients['aod'].apply(np.int64)"
   ]
  },
  {
   "cell_type": "code",
   "execution_count": 15,
   "id": "93f7b247",
   "metadata": {},
   "outputs": [
    {
     "data": {
      "text/html": [
       "\n",
       "        <iframe\n",
       "            width=\"100%\"\n",
       "            height=\"475\"\n",
       "            src=\"http://LAPTOP-3DIDAFIM:40000/dtale/iframe/2\"\n",
       "            frameborder=\"0\"\n",
       "            allowfullscreen\n",
       "            \n",
       "        ></iframe>\n",
       "        "
      ],
      "text/plain": [
       "<IPython.lib.display.IFrame at 0x7f67299ea040>"
      ]
     },
     "metadata": {},
     "output_type": "display_data"
    },
    {
     "data": {
      "text/plain": []
     },
     "execution_count": 15,
     "metadata": {},
     "output_type": "execute_result"
    }
   ],
   "source": [
    "dtale.show(df_patients)"
   ]
  },
  {
   "cell_type": "markdown",
   "id": "5c2f2f8d",
   "metadata": {},
   "source": [
    "<div class=\"alert alert-info\" role=\"alert\">\n",
    "    <b>Export df_patients to .csv</b>\n",
    "</div>"
   ]
  },
  {
   "cell_type": "code",
   "execution_count": 16,
   "id": "d3d8f832",
   "metadata": {},
   "outputs": [],
   "source": [
    "df_patients.to_csv(csvStore+'/patients.csv', sep=',', encoding='utf-8', index=False)"
   ]
  },
  {
   "cell_type": "markdown",
   "id": "ea3ca53d",
   "metadata": {},
   "source": [
    "<hr style=\"height:2px;border-width:0;color:black;background-color:black\">"
   ]
  },
  {
   "cell_type": "markdown",
   "id": "4efd741e",
   "metadata": {},
   "source": [
    "<div class=\"alert alert-warning\" role=\"alert\">\n",
    "    <b>Find Best Columns to Use for Event Data </b>\n",
    "</div>"
   ]
  },
  {
   "cell_type": "code",
   "execution_count": 17,
   "id": "4a86e3d4",
   "metadata": {
    "scrolled": true
   },
   "outputs": [
    {
     "data": {
      "text/plain": [
       "M1060_WEIGHT_B                    0.866373\n",
       "M1060_HEIGHT_A                    0.859031\n",
       "M1730_PHQ2_LACK_INTRST            0.822320\n",
       "M1730_PHQ2_DPRSN                  0.822320\n",
       "M1028_ACTV_DIAG_DM                0.812041\n",
       "M1028_ACTV_DIAG_NOA               0.812041\n",
       "M1028_ACTV_DIAG_PVD_PAD           0.812041\n",
       "M0140_ETHNIC_WHITE                0.810573\n",
       "M0140_ETHNIC_HISP                 0.810573\n",
       "M0140_ETHNIC_AI_AN                0.810573\n",
       "M1910_MLT_FCTR_FALL_RISK_ASMT     0.810573\n",
       "M2001_DRUG_RGMN_RVW               0.810573\n",
       "M2010_HIGH_RISK_DRUG_EDCTN        0.810573\n",
       "M1730_STDZ_DPRSN_SCRNG            0.810573\n",
       "M1000_DC_IPPS_14_DA               0.810573\n",
       "M0140_ETHNIC_BLACK                0.810573\n",
       "M0140_ETHNIC_ASIAN                0.810573\n",
       "M0140_ETHNIC_NH_PI                0.810573\n",
       "M1000_DC_NONE_14_DA               0.810573\n",
       "M1000_DC_IRF_14_DA                0.810573\n",
       "M1000_DC_SNF_14_DA                0.810573\n",
       "M1000_DC_PSYCH_14_DA              0.810573\n",
       "M1000_DC_OTH_14_DA                0.810573\n",
       "M1000_DC_LTC_14_DA                0.810573\n",
       "M1000_DC_LTCH_14_DA               0.810573\n",
       "M1610_UR_INCONT                   0.703377\n",
       "M1600_UTI                         0.615272\n",
       "M1740_BD_NONE                     0.613803\n",
       "M1740_BD_PHYSICAL                 0.613803\n",
       "M1745_BEH_PROB_FREQ               0.613803\n",
       "M1740_BD_IMP_DECISN               0.613803\n",
       "M1740_BD_DELUSIONS                0.613803\n",
       "M1740_BD_SOC_INAPPRO              0.613803\n",
       "M1740_BD_VERBAL                   0.613803\n",
       "M1700_COG_FUNCTION                0.613803\n",
       "M1740_BD_MEM_DEFICIT              0.613803\n",
       "M1710_WHEN_CONFUSED               0.613803\n",
       "M1845_CRNT_TOILTG_HYGN            0.613803\n",
       "M1870_CRNT_FEEDING                0.613803\n",
       "M2020_CRNT_MGMT_ORAL_MDCTN        0.613803\n",
       "M2102_CARE_TYPE_SRC_SPRVSN        0.613803\n",
       "M1720_WHEN_ANXIOUS                0.613803\n",
       "M2301_EMER_USE_AFTR_LAST_ASMT     0.581498\n",
       "M2016_DRUG_EDCTN_INTRVTN          0.563877\n",
       "M2401_INTRVTN_SMRY_DBTS_FT        0.563877\n",
       "M2401_INTRVTN_SMRY_DPRSN          0.563877\n",
       "M2401_INTRVTN_SMRY_FALL_PRVNT     0.563877\n",
       "M2401_INTRVTN_SMRY_PAIN_MNTR      0.563877\n",
       "M2401_INTRVTN_SMRY_PRSULC_PRVN    0.563877\n",
       "M2401_INTRVTN_SMRY_PRSULC_WET     0.563877\n",
       "M2410_INPAT_FACILITY              0.563877\n",
       "M1051_PVX_RCVD_AGNCY              0.563877\n",
       "M1033_HOSP_RISK_WEIGHT_LOSS       0.541850\n",
       "M1033_HOSP_RISK_CRNT_EXHSTN       0.541850\n",
       "M1033_HOSP_RISK_MNTL_BHV_DCLN     0.541850\n",
       "M1033_HOSP_RISK_MLTPL_HOSPZTN     0.541850\n",
       "M1033_HOSP_RISK_MLTPL_ED_VISIT    0.541850\n",
       "M1033_HOSP_RISK_HSTRY_FALLS       0.541850\n",
       "M1033_HOSP_RISK_OTHR_RISK         0.541850\n",
       "M1033_HOSP_RISK_NONE_ABOVE        0.541850\n",
       "M1033_HOSP_RISK_COMPLIANCE        0.541850\n",
       "M1033_HOSP_RISK_5PLUS_MDCTN       0.541850\n",
       "M2005_MDCTN_INTRVTN               0.518355\n",
       "M2200_THER_NEED_NBR               0.503671\n",
       "M0110_EPISODE_TIMING              0.500734\n",
       "M2200_THER_NEED_NA                0.487518\n",
       "M1030_THH_PAR_NUTRITION           0.487518\n",
       "M2030_CRNT_MGMT_INJCTN_MDCTN      0.487518\n",
       "M1030_THH_NONE_ABOVE              0.487518\n",
       "M1030_THH_IV_INFUSION             0.487518\n",
       "M1030_THH_ENT_NUTRITION           0.487518\n",
       "M1630_OSTOMY                      0.487518\n",
       "M1200_VISION                      0.487518\n",
       "M1322_NBR_PRSULC_STG1             0.487518\n",
       "M1800_CRNT_GROOMING               0.345081\n",
       "M1242_PAIN_FREQ_ACTVTY_MVMT       0.290749\n",
       "M1400_WHEN_DYSPNEIC               0.290749\n",
       "M1340_SRGCL_WND_PRSNT             0.290749\n",
       "M1330_STAS_ULCR_PRSNT             0.290749\n",
       "M1324_STG_PRBLM_ULCER             0.290749\n",
       "M1306_UNHLD_STG2_PRSR_ULCR        0.290749\n",
       "M1620_BWL_INCONT                  0.290749\n",
       "M1860_CRNT_AMBLTN                 0.290749\n",
       "M1810_CRNT_DRESS_UPPER            0.290749\n",
       "M1820_CRNT_DRESS_LOWER            0.290749\n",
       "M1830_CRNT_BATHG                  0.290749\n",
       "M1840_CRNT_TOILTG                 0.290749\n",
       "M1850_CRNT_TRNSFRNG               0.290749\n",
       "M0100_ASSMT_REASON                0.000000\n",
       "dtype: float64"
      ]
     },
     "execution_count": 17,
     "metadata": {},
     "output_type": "execute_result"
    }
   ],
   "source": [
    "(df.loc[:,colsOASIS][df['mortality']==0].isnull().sum()/len(df.loc[:,colsOASIS][df['mortality']==0])).sort_values(ascending=False)\n",
    "#mask2 = (df.loc[:,colsOASIS][df['DispositionId']==2].isnull().sum()/len(df.loc[:,colsOASIS][df['DispositionId']==2])>=.75).sort_values(ascending=False)"
   ]
  },
  {
   "cell_type": "code",
   "execution_count": 18,
   "id": "22efd891",
   "metadata": {},
   "outputs": [
    {
     "data": {
      "text/plain": [
       "M0100_ASSMT_REASON                0.000000\n",
       "M1400_WHEN_DYSPNEIC               0.270668\n",
       "M1306_UNHLD_STG2_PRSR_ULCR        0.270668\n",
       "M1810_CRNT_DRESS_UPPER            0.270668\n",
       "M1820_CRNT_DRESS_LOWER            0.270668\n",
       "M1830_CRNT_BATHG                  0.270668\n",
       "M1840_CRNT_TOILTG                 0.270668\n",
       "M1242_PAIN_FREQ_ACTVTY_MVMT       0.270668\n",
       "M1850_CRNT_TRNSFRNG               0.270668\n",
       "M1860_CRNT_AMBLTN                 0.270668\n",
       "M1324_STG_PRBLM_ULCER             0.270895\n",
       "M1330_STAS_ULCR_PRSNT             0.270895\n",
       "M1340_SRGCL_WND_PRSNT             0.270895\n",
       "M1620_BWL_INCONT                  0.271234\n",
       "M1800_CRNT_GROOMING               0.284258\n",
       "M2102_CARE_TYPE_SRC_SPRVSN        0.420951\n",
       "M1700_COG_FUNCTION                0.420951\n",
       "M1710_WHEN_CONFUSED               0.420951\n",
       "M1720_WHEN_ANXIOUS                0.420951\n",
       "M1740_BD_IMP_DECISN               0.420951\n",
       "M1845_CRNT_TOILTG_HYGN            0.420951\n",
       "M1740_BD_MEM_DEFICIT              0.420951\n",
       "M1740_BD_NONE                     0.420951\n",
       "M1740_BD_PHYSICAL                 0.420951\n",
       "M1740_BD_VERBAL                   0.420951\n",
       "M1745_BEH_PROB_FREQ               0.420951\n",
       "M1870_CRNT_FEEDING                0.420951\n",
       "M1740_BD_DELUSIONS                0.420951\n",
       "M1740_BD_SOC_INAPPRO              0.420951\n",
       "M2020_CRNT_MGMT_ORAL_MDCTN        0.421857\n",
       "M1600_UTI                         0.424462\n",
       "M2200_THER_NEED_NA                0.428992\n",
       "M1030_THH_ENT_NUTRITION           0.428992\n",
       "M1200_VISION                      0.428992\n",
       "M1030_THH_IV_INFUSION             0.428992\n",
       "M1030_THH_NONE_ABOVE              0.428992\n",
       "M1030_THH_PAR_NUTRITION           0.428992\n",
       "M1630_OSTOMY                      0.428992\n",
       "M1322_NBR_PRSULC_STG1             0.429219\n",
       "M2030_CRNT_MGMT_INJCTN_MDCTN      0.429898\n",
       "M2200_THER_NEED_NBR               0.437599\n",
       "M1033_HOSP_RISK_OTHR_RISK         0.442582\n",
       "M1033_HOSP_RISK_NONE_ABOVE        0.442582\n",
       "M1033_HOSP_RISK_5PLUS_MDCTN       0.442582\n",
       "M1033_HOSP_RISK_CRNT_EXHSTN       0.442582\n",
       "M1033_HOSP_RISK_HSTRY_FALLS       0.442582\n",
       "M1033_HOSP_RISK_MLTPL_ED_VISIT    0.442582\n",
       "M1033_HOSP_RISK_MLTPL_HOSPZTN     0.442582\n",
       "M1033_HOSP_RISK_MNTL_BHV_DCLN     0.442582\n",
       "M1033_HOSP_RISK_WEIGHT_LOSS       0.442582\n",
       "M1033_HOSP_RISK_COMPLIANCE        0.442582\n",
       "M0110_EPISODE_TIMING              0.470781\n",
       "M1610_UR_INCONT                   0.536467\n",
       "M2005_MDCTN_INTRVTN               0.574632\n",
       "M0140_ETHNIC_WHITE                0.579275\n",
       "M0140_ETHNIC_NH_PI                0.579275\n",
       "M0140_ETHNIC_HISP                 0.579275\n",
       "M1910_MLT_FCTR_FALL_RISK_ASMT     0.579275\n",
       "M0140_ETHNIC_ASIAN                0.579275\n",
       "M0140_ETHNIC_AI_AN                0.579275\n",
       "M1000_DC_IPPS_14_DA               0.579275\n",
       "M0140_ETHNIC_BLACK                0.579275\n",
       "M1000_DC_IRF_14_DA                0.579275\n",
       "M1000_DC_PSYCH_14_DA              0.579275\n",
       "M1000_DC_LTCH_14_DA               0.579275\n",
       "M1000_DC_NONE_14_DA               0.579275\n",
       "M1000_DC_OTH_14_DA                0.579275\n",
       "M1000_DC_SNF_14_DA                0.579275\n",
       "M1730_STDZ_DPRSN_SCRNG            0.579275\n",
       "M1000_DC_LTC_14_DA                0.579275\n",
       "M2001_DRUG_RGMN_RVW               0.579388\n",
       "M2010_HIGH_RISK_DRUG_EDCTN        0.580068\n",
       "M1028_ACTV_DIAG_DM                0.583126\n",
       "M1028_ACTV_DIAG_NOA               0.583126\n",
       "M1028_ACTV_DIAG_PVD_PAD           0.583126\n",
       "M1730_PHQ2_DPRSN                  0.610532\n",
       "M1730_PHQ2_LACK_INTRST            0.610532\n",
       "M2401_INTRVTN_SMRY_PRSULC_WET     0.623783\n",
       "M1051_PVX_RCVD_AGNCY              0.623783\n",
       "M2401_INTRVTN_SMRY_DBTS_FT        0.623783\n",
       "M2401_INTRVTN_SMRY_DPRSN          0.623783\n",
       "M2401_INTRVTN_SMRY_FALL_PRVNT     0.623783\n",
       "M2401_INTRVTN_SMRY_PAIN_MNTR      0.623783\n",
       "M2401_INTRVTN_SMRY_PRSULC_PRVN    0.623783\n",
       "M2016_DRUG_EDCTN_INTRVTN          0.623783\n",
       "M2410_INPAT_FACILITY              0.623783\n",
       "M2301_EMER_USE_AFTR_LAST_ASMT     0.637712\n",
       "M1060_HEIGHT_A                    0.654813\n",
       "M1060_WEIGHT_B                    0.657644\n",
       "dtype: float64"
      ]
     },
     "execution_count": 18,
     "metadata": {},
     "output_type": "execute_result"
    }
   ],
   "source": [
    "(df.loc[:,colsOASIS][df['mortality']==1].isnull().sum()/len(df.loc[:,colsOASIS][df['mortality']==1])).sort_values(ascending=True)\n",
    "#mask2 = (df.loc[:,colsOASIS][df['DispositionId']==2].isnull().sum()/len(df.loc[:,colsOASIS][df['DispositionId']==2])>=.75).sort_values(ascending=False)"
   ]
  },
  {
   "cell_type": "code",
   "execution_count": 19,
   "id": "bd8ac284",
   "metadata": {},
   "outputs": [
    {
     "data": {
      "text/plain": [
       "M0100_ASSMT_REASON                0.000000\n",
       "M1400_WHEN_DYSPNEIC               0.272106\n",
       "M1242_PAIN_FREQ_ACTVTY_MVMT       0.272106\n",
       "M1810_CRNT_DRESS_UPPER            0.272106\n",
       "M1820_CRNT_DRESS_LOWER            0.272106\n",
       "M1830_CRNT_BATHG                  0.272106\n",
       "M1840_CRNT_TOILTG                 0.272106\n",
       "M1306_UNHLD_STG2_PRSR_ULCR        0.272106\n",
       "M1860_CRNT_AMBLTN                 0.272106\n",
       "M1850_CRNT_TRNSFRNG               0.272106\n",
       "M1340_SRGCL_WND_PRSNT             0.272316\n",
       "M1324_STG_PRBLM_ULCER             0.272316\n",
       "M1330_STAS_ULCR_PRSNT             0.272316\n",
       "M1620_BWL_INCONT                  0.272632\n",
       "M1800_CRNT_GROOMING               0.288613\n",
       "M1030_THH_PAR_NUTRITION           0.433183\n",
       "M1030_THH_NONE_ABOVE              0.433183\n",
       "M1030_THH_IV_INFUSION             0.433183\n",
       "M1630_OSTOMY                      0.433183\n",
       "M1030_THH_ENT_NUTRITION           0.433183\n",
       "M1200_VISION                      0.433183\n",
       "M2200_THER_NEED_NA                0.433183\n",
       "M1322_NBR_PRSULC_STG1             0.433393\n",
       "M2030_CRNT_MGMT_INJCTN_MDCTN      0.434024\n",
       "M1700_COG_FUNCTION                0.434760\n",
       "M1710_WHEN_CONFUSED               0.434760\n",
       "M1845_CRNT_TOILTG_HYGN            0.434760\n",
       "M1740_BD_DELUSIONS                0.434760\n",
       "M1740_BD_IMP_DECISN               0.434760\n",
       "M2102_CARE_TYPE_SRC_SPRVSN        0.434760\n",
       "M1740_BD_NONE                     0.434760\n",
       "M1740_BD_PHYSICAL                 0.434760\n",
       "M1740_BD_SOC_INAPPRO              0.434760\n",
       "M1740_BD_VERBAL                   0.434760\n",
       "M1745_BEH_PROB_FREQ               0.434760\n",
       "M1870_CRNT_FEEDING                0.434760\n",
       "M1720_WHEN_ANXIOUS                0.434760\n",
       "M1740_BD_MEM_DEFICIT              0.434760\n",
       "M2020_CRNT_MGMT_ORAL_MDCTN        0.435601\n",
       "M1600_UTI                         0.438124\n",
       "M2200_THER_NEED_NBR               0.442330\n",
       "M1033_HOSP_RISK_5PLUS_MDCTN       0.449690\n",
       "M1033_HOSP_RISK_WEIGHT_LOSS       0.449690\n",
       "M1033_HOSP_RISK_OTHR_RISK         0.449690\n",
       "M1033_HOSP_RISK_COMPLIANCE        0.449690\n",
       "M1033_HOSP_RISK_CRNT_EXHSTN       0.449690\n",
       "M1033_HOSP_RISK_NONE_ABOVE        0.449690\n",
       "M1033_HOSP_RISK_MNTL_BHV_DCLN     0.449690\n",
       "M1033_HOSP_RISK_MLTPL_HOSPZTN     0.449690\n",
       "M1033_HOSP_RISK_MLTPL_ED_VISIT    0.449690\n",
       "M1033_HOSP_RISK_HSTRY_FALLS       0.449690\n",
       "M0110_EPISODE_TIMING              0.472926\n",
       "M1610_UR_INCONT                   0.548418\n",
       "M2005_MDCTN_INTRVTN               0.570602\n",
       "M1910_MLT_FCTR_FALL_RISK_ASMT     0.595836\n",
       "M0140_ETHNIC_BLACK                0.595836\n",
       "M0140_ETHNIC_ASIAN                0.595836\n",
       "M0140_ETHNIC_HISP                 0.595836\n",
       "M0140_ETHNIC_NH_PI                0.595836\n",
       "M0140_ETHNIC_WHITE                0.595836\n",
       "M1000_DC_IPPS_14_DA               0.595836\n",
       "M1000_DC_IRF_14_DA                0.595836\n",
       "M1000_DC_LTC_14_DA                0.595836\n",
       "M1000_DC_LTCH_14_DA               0.595836\n",
       "M1000_DC_OTH_14_DA                0.595836\n",
       "M1000_DC_PSYCH_14_DA              0.595836\n",
       "M1000_DC_SNF_14_DA                0.595836\n",
       "M0140_ETHNIC_AI_AN                0.595836\n",
       "M1730_STDZ_DPRSN_SCRNG            0.595836\n",
       "M1000_DC_NONE_14_DA               0.595836\n",
       "M2001_DRUG_RGMN_RVW               0.595942\n",
       "M2010_HIGH_RISK_DRUG_EDCTN        0.596572\n",
       "M1028_ACTV_DIAG_NOA               0.599516\n",
       "M1028_ACTV_DIAG_PVD_PAD           0.599516\n",
       "M1028_ACTV_DIAG_DM                0.599516\n",
       "M2401_INTRVTN_SMRY_DBTS_FT        0.619493\n",
       "M2401_INTRVTN_SMRY_DPRSN          0.619493\n",
       "M2401_INTRVTN_SMRY_FALL_PRVNT     0.619493\n",
       "M2401_INTRVTN_SMRY_PAIN_MNTR      0.619493\n",
       "M2401_INTRVTN_SMRY_PRSULC_PRVN    0.619493\n",
       "M2410_INPAT_FACILITY              0.619493\n",
       "M2401_INTRVTN_SMRY_PRSULC_WET     0.619493\n",
       "M1051_PVX_RCVD_AGNCY              0.619493\n",
       "M2016_DRUG_EDCTN_INTRVTN          0.619493\n",
       "M1730_PHQ2_LACK_INTRST            0.625697\n",
       "M1730_PHQ2_DPRSN                  0.625697\n",
       "M2301_EMER_USE_AFTR_LAST_ASMT     0.633687\n",
       "M1060_HEIGHT_A                    0.669435\n",
       "M1060_WEIGHT_B                    0.672590\n",
       "dtype: float64"
      ]
     },
     "execution_count": 19,
     "metadata": {},
     "output_type": "execute_result"
    }
   ],
   "source": [
    "(df.loc[:,colsOASIS].isnull().sum()/len(df.loc[:,colsOASIS])).sort_values(ascending=True)"
   ]
  },
  {
   "cell_type": "markdown",
   "id": "806780d0",
   "metadata": {},
   "source": [
    "<hr style=\"height:2px;border-width:0;color:black;background-color:black\">"
   ]
  },
  {
   "cell_type": "markdown",
   "id": "8b85c607",
   "metadata": {},
   "source": [
    "<div class=\"alert alert-success\" role=\"alert\">\n",
    "    <b>Create an events dataframe</b>\n",
    "</div>"
   ]
  },
  {
   "cell_type": "code",
   "execution_count": 20,
   "id": "0917fb2c",
   "metadata": {},
   "outputs": [],
   "source": [
    "cols_Oevents = ['M0100_ASSMT_REASON', \n",
    "                'M1860_CRNT_AMBLTN', \n",
    "                'M1850_CRNT_TRNSFRNG', \n",
    "                'M1830_CRNT_BATHG', \n",
    "                'M1820_CRNT_DRESS_LOWER', \n",
    "                'M1810_CRNT_DRESS_UPPER', \n",
    "                'M1306_UNHLD_STG2_PRSR_ULCR', \n",
    "                'M1242_PAIN_FREQ_ACTVTY_MVMT', \n",
    "                'M1400_WHEN_DYSPNEIC', \n",
    "                'M1340_SRGCL_WND_PRSNT', \n",
    "                'M1330_STAS_ULCR_PRSNT',\n",
    "                'M1324_STG_PRBLM_ULCER', \n",
    "                'M1620_BWL_INCONT', \n",
    "                'M1800_CRNT_GROOMING',\n",
    "                'M1030_THH_PAR_NUTRITION',\n",
    "                'M1030_THH_NONE_ABOVE',\n",
    "                'M1030_THH_IV_INFUSION',\n",
    "                'M1630_OSTOMY',\n",
    "                'M1030_THH_ENT_NUTRITION',\n",
    "                'M1200_VISION',\n",
    "                'M2200_THER_NEED_NA',\n",
    "                'M1322_NBR_PRSULC_STG1']"
   ]
  },
  {
   "cell_type": "code",
   "execution_count": 21,
   "id": "6a9d8cd8",
   "metadata": {},
   "outputs": [],
   "source": [
    "cols_Oevents = colsOASIS.tolist()"
   ]
  },
  {
   "cell_type": "markdown",
   "id": "223f0807",
   "metadata": {},
   "source": [
    "<div class=\"alert alert-success\" role=\"alert\">\n",
    "    <b>Create an Items Mapping</b>\n",
    "</div>"
   ]
  },
  {
   "cell_type": "code",
   "execution_count": 274,
   "id": "de7acc14",
   "metadata": {},
   "outputs": [],
   "source": [
    "event_mapping_df = pd.DataFrame(cols_Oevents,columns =['OASIS']).rename_axis('itemID').reset_index(inplace=False)\n",
    "event_mapping_df.itemID = np.arange(1, len(event_mapping_df) + 1)"
   ]
  },
  {
   "cell_type": "code",
   "execution_count": 275,
   "id": "ed668382",
   "metadata": {
    "scrolled": true
   },
   "outputs": [
    {
     "data": {
      "text/html": [
       "\n",
       "        <iframe\n",
       "            width=\"100%\"\n",
       "            height=\"475\"\n",
       "            src=\"http://LAPTOP-3DIDAFIM:40000/dtale/iframe/58\"\n",
       "            frameborder=\"0\"\n",
       "            allowfullscreen\n",
       "            \n",
       "        ></iframe>\n",
       "        "
      ],
      "text/plain": [
       "<IPython.lib.display.IFrame at 0x7f65939e3f10>"
      ]
     },
     "metadata": {},
     "output_type": "display_data"
    },
    {
     "data": {
      "text/plain": []
     },
     "execution_count": 275,
     "metadata": {},
     "output_type": "execute_result"
    }
   ],
   "source": [
    "dtale.show(event_mapping_df)"
   ]
  },
  {
   "cell_type": "code",
   "execution_count": 276,
   "id": "798c7d9c",
   "metadata": {},
   "outputs": [],
   "source": [
    "event_mapping_df.to_csv(csvStore+'/event_mapping_df.csv', sep=',', encoding='utf-8', index=False)"
   ]
  },
  {
   "cell_type": "markdown",
   "id": "06f3d4bb",
   "metadata": {},
   "source": [
    "<hr style=\"height:2px;border-width:0;color:black;background-color:black\">"
   ]
  },
  {
   "cell_type": "markdown",
   "id": "4279422c",
   "metadata": {},
   "source": [
    "<div class=\"alert alert-danger\" role=\"alert\">\n",
    "    <b>View the Event Data in the Features of Interest</b>\n",
    "</div>"
   ]
  },
  {
   "cell_type": "code",
   "execution_count": 277,
   "id": "e93319ec",
   "metadata": {},
   "outputs": [],
   "source": [
    "df_events_int = df[cols_Oevents].reset_index()"
   ]
  },
  {
   "cell_type": "code",
   "execution_count": 278,
   "id": "fba78a6b",
   "metadata": {
    "scrolled": true
   },
   "outputs": [
    {
     "data": {
      "text/html": [
       "\n",
       "        <iframe\n",
       "            width=\"100%\"\n",
       "            height=\"475\"\n",
       "            src=\"http://LAPTOP-3DIDAFIM:40000/dtale/iframe/59\"\n",
       "            frameborder=\"0\"\n",
       "            allowfullscreen\n",
       "            \n",
       "        ></iframe>\n",
       "        "
      ],
      "text/plain": [
       "<IPython.lib.display.IFrame at 0x7f65c34060d0>"
      ]
     },
     "metadata": {},
     "output_type": "display_data"
    },
    {
     "data": {
      "text/plain": []
     },
     "execution_count": 278,
     "metadata": {},
     "output_type": "execute_result"
    }
   ],
   "source": [
    "dtale.show(df_events_int.head())"
   ]
  },
  {
   "cell_type": "markdown",
   "id": "bed3dc8e",
   "metadata": {},
   "source": [
    "<div class=\"alert alert-danger\" role=\"alert\">\n",
    "    <b>View the Unique Values in a particular Feature Column</b>\n",
    "</div>"
   ]
  },
  {
   "cell_type": "code",
   "execution_count": 279,
   "id": "932c0f39",
   "metadata": {},
   "outputs": [
    {
     "data": {
      "text/plain": [
       "array(['LATER', nan, 'EARLY', 'NOT APPLICABLE'], dtype=object)"
      ]
     },
     "execution_count": 279,
     "metadata": {},
     "output_type": "execute_result"
    }
   ],
   "source": [
    "df_events_int.loc[:, 'M0110_EPISODE_TIMING'].unique()"
   ]
  },
  {
   "cell_type": "markdown",
   "id": "6a65641c",
   "metadata": {},
   "source": [
    "<div class=\"alert alert-danger\" role=\"alert\">\n",
    "    <b>View All Values of Enumerated Feature Columns</b>\n",
    "</div>"
   ]
  },
  {
   "cell_type": "code",
   "execution_count": 280,
   "id": "f6235cf1",
   "metadata": {},
   "outputs": [
    {
     "data": {
      "text/plain": [
       "(0, array([   0,    1,    2, ..., 9508, 9509, 9510]))"
      ]
     },
     "execution_count": 280,
     "metadata": {},
     "output_type": "execute_result"
    },
    {
     "data": {
      "text/plain": [
       "(1,\n",
       " array(['4 - RECERTIFICATION (FOLLOW-UP) REASSESSMENT',\n",
       "        '9 - DISCHARGE FROM AGENCY',\n",
       "        '1 - START OF CARE - FURTHER VISITS PLANNED',\n",
       "        '6 - TRANSFERRED TO AN INPATIENT FACILITY - PATIENT NOT DISCHARGED FROM AGENCY',\n",
       "        '8 - DEATH AT HOME',\n",
       "        '7 - TRANSFERRED TO AN INPATIENT FACILITY - PATIENT DISCHARGED FROM AGENCY',\n",
       "        '3 - RESUMPTION OF CARE (AFTER INPATIENT STAY)',\n",
       "        '5 - OTHER FOLLOW-UP'], dtype=object))"
      ]
     },
     "execution_count": 280,
     "metadata": {},
     "output_type": "execute_result"
    },
    {
     "data": {
      "text/plain": [
       "(2, array(['LATER', nan, 'EARLY', 'NOT APPLICABLE'], dtype=object))"
      ]
     },
     "execution_count": 280,
     "metadata": {},
     "output_type": "execute_result"
    },
    {
     "data": {
      "text/plain": [
       "(3, array([nan, 'NO', 'YES'], dtype=object))"
      ]
     },
     "execution_count": 280,
     "metadata": {},
     "output_type": "execute_result"
    },
    {
     "data": {
      "text/plain": [
       "(4, array([nan, 'NO', 'YES'], dtype=object))"
      ]
     },
     "execution_count": 280,
     "metadata": {},
     "output_type": "execute_result"
    },
    {
     "data": {
      "text/plain": [
       "(5, array([nan, 'NO', 'YES'], dtype=object))"
      ]
     },
     "execution_count": 280,
     "metadata": {},
     "output_type": "execute_result"
    },
    {
     "data": {
      "text/plain": [
       "(6, array([nan, 'NO', 'YES'], dtype=object))"
      ]
     },
     "execution_count": 280,
     "metadata": {},
     "output_type": "execute_result"
    },
    {
     "data": {
      "text/plain": [
       "(7, array([nan, 'NO', 'YES'], dtype=object))"
      ]
     },
     "execution_count": 280,
     "metadata": {},
     "output_type": "execute_result"
    },
    {
     "data": {
      "text/plain": [
       "(8, array([nan, 'YES', 'NO'], dtype=object))"
      ]
     },
     "execution_count": 280,
     "metadata": {},
     "output_type": "execute_result"
    },
    {
     "data": {
      "text/plain": [
       "(9, array([nan, 'NO', 'YES'], dtype=object))"
      ]
     },
     "execution_count": 280,
     "metadata": {},
     "output_type": "execute_result"
    },
    {
     "data": {
      "text/plain": [
       "(10, array([nan, 'NO', 'YES'], dtype=object))"
      ]
     },
     "execution_count": 280,
     "metadata": {},
     "output_type": "execute_result"
    },
    {
     "data": {
      "text/plain": [
       "(11, array([nan, 'YES', 'NO'], dtype=object))"
      ]
     },
     "execution_count": 280,
     "metadata": {},
     "output_type": "execute_result"
    },
    {
     "data": {
      "text/plain": [
       "(12, array([nan, 'NO', 'YES'], dtype=object))"
      ]
     },
     "execution_count": 280,
     "metadata": {},
     "output_type": "execute_result"
    },
    {
     "data": {
      "text/plain": [
       "(13, array([nan, 'NO', 'YES'], dtype=object))"
      ]
     },
     "execution_count": 280,
     "metadata": {},
     "output_type": "execute_result"
    },
    {
     "data": {
      "text/plain": [
       "(14, array([nan, 'NO', 'YES'], dtype=object))"
      ]
     },
     "execution_count": 280,
     "metadata": {},
     "output_type": "execute_result"
    },
    {
     "data": {
      "text/plain": [
       "(15, array([nan, 'NO', 'YES'], dtype=object))"
      ]
     },
     "execution_count": 280,
     "metadata": {},
     "output_type": "execute_result"
    },
    {
     "data": {
      "text/plain": [
       "(16, array([nan, 'NO', 'YES'], dtype=object))"
      ]
     },
     "execution_count": 280,
     "metadata": {},
     "output_type": "execute_result"
    },
    {
     "data": {
      "text/plain": [
       "(17, array([nan, 'YES', 'NO'], dtype=object))"
      ]
     },
     "execution_count": 280,
     "metadata": {},
     "output_type": "execute_result"
    },
    {
     "data": {
      "text/plain": [
       "(18, array([nan, 'NO', 'YES'], dtype=object))"
      ]
     },
     "execution_count": 280,
     "metadata": {},
     "output_type": "execute_result"
    },
    {
     "data": {
      "text/plain": [
       "(19, array([nan, 'YES', 'NO'], dtype=object))"
      ]
     },
     "execution_count": 280,
     "metadata": {},
     "output_type": "execute_result"
    },
    {
     "data": {
      "text/plain": [
       "(20, array(['NO', nan, 'YES'], dtype=object))"
      ]
     },
     "execution_count": 280,
     "metadata": {},
     "output_type": "execute_result"
    },
    {
     "data": {
      "text/plain": [
       "(21, array(['NO', nan, 'YES'], dtype=object))"
      ]
     },
     "execution_count": 280,
     "metadata": {},
     "output_type": "execute_result"
    },
    {
     "data": {
      "text/plain": [
       "(22, array(['YES', nan, 'NO'], dtype=object))"
      ]
     },
     "execution_count": 280,
     "metadata": {},
     "output_type": "execute_result"
    },
    {
     "data": {
      "text/plain": [
       "(23, array(['NO', nan, 'YES'], dtype=object))"
      ]
     },
     "execution_count": 280,
     "metadata": {},
     "output_type": "execute_result"
    },
    {
     "data": {
      "text/plain": [
       "(24, array([nan, 'YES', 'NO'], dtype=object))"
      ]
     },
     "execution_count": 280,
     "metadata": {},
     "output_type": "execute_result"
    },
    {
     "data": {
      "text/plain": [
       "(25, array([nan, 'NO', 'YES'], dtype=object))"
      ]
     },
     "execution_count": 280,
     "metadata": {},
     "output_type": "execute_result"
    },
    {
     "data": {
      "text/plain": [
       "(26, array([nan, 'NO', 'YES'], dtype=object))"
      ]
     },
     "execution_count": 280,
     "metadata": {},
     "output_type": "execute_result"
    },
    {
     "data": {
      "text/plain": [
       "(27, array([nan, 'NO', 'YES'], dtype=object))"
      ]
     },
     "execution_count": 280,
     "metadata": {},
     "output_type": "execute_result"
    },
    {
     "data": {
      "text/plain": [
       "(28, array([nan, 'NO', 'YES'], dtype=object))"
      ]
     },
     "execution_count": 280,
     "metadata": {},
     "output_type": "execute_result"
    },
    {
     "data": {
      "text/plain": [
       "(29, array([nan, 'NO', 'YES'], dtype=object))"
      ]
     },
     "execution_count": 280,
     "metadata": {},
     "output_type": "execute_result"
    },
    {
     "data": {
      "text/plain": [
       "(30, array([nan, 'NO', 'YES'], dtype=object))"
      ]
     },
     "execution_count": 280,
     "metadata": {},
     "output_type": "execute_result"
    },
    {
     "data": {
      "text/plain": [
       "(31, array([nan, 'NO', 'YES'], dtype=object))"
      ]
     },
     "execution_count": 280,
     "metadata": {},
     "output_type": "execute_result"
    },
    {
     "data": {
      "text/plain": [
       "(32, array([nan, 'NO', 'YES'], dtype=object))"
      ]
     },
     "execution_count": 280,
     "metadata": {},
     "output_type": "execute_result"
    },
    {
     "data": {
      "text/plain": [
       "(33, array([nan, 'NO', 'YES'], dtype=object))"
      ]
     },
     "execution_count": 280,
     "metadata": {},
     "output_type": "execute_result"
    },
    {
     "data": {
      "text/plain": [
       "(34, array([nan, '1 - YES', '0 - NO'], dtype=object))"
      ]
     },
     "execution_count": 280,
     "metadata": {},
     "output_type": "execute_result"
    },
    {
     "data": {
      "text/plain": [
       "(35,\n",
       " array([nan, 60., 64., 67., 66., 63., 69., 73., 52., 62., 61., 58., 70.,\n",
       "        68., 65., 74., 72., 75., 71., 76., 59., 56., 50., 54., 53., 77.,\n",
       "        51., 55., 78., 57., 79.]))"
      ]
     },
     "execution_count": 280,
     "metadata": {},
     "output_type": "execute_result"
    },
    {
     "data": {
      "text/plain": [
       "(36,\n",
       " array([ nan, 150., 121., 130., 200., 203., 176., 278., 414., 419., 163.,\n",
       "        193., 210., 189., 202., 151., 173., 181., 256., 270.,  98., 205.,\n",
       "        134., 108., 149., 120., 140., 187., 231., 166., 118., 190., 254.,\n",
       "        137., 201., 196., 105., 233., 284., 219., 281., 250., 216., 195.,\n",
       "        135., 114., 194., 220., 116., 215., 106., 128., 110., 191., 170.,\n",
       "        119., 234., 197., 123., 242., 230., 178., 212., 138., 199., 218.,\n",
       "        344.,  92., 146., 160., 280., 276.,  93., 168.,  85., 113., 175.,\n",
       "        262., 267., 249., 136., 100., 131., 145., 115., 147., 184., 171.,\n",
       "        263., 253., 206., 238., 183., 125.,  81., 101., 154., 265., 349.,\n",
       "        198., 144., 179., 117., 107., 320., 142., 192., 204., 112., 225.,\n",
       "        152., 235., 188., 122., 124., 240., 209., 172., 155., 127., 287.,\n",
       "        292., 237., 224., 158., 185., 223., 180., 109., 182., 214., 246.,\n",
       "        162., 139.,  84.,  86., 148., 293., 208., 340., 236.,  80., 177.,\n",
       "        103., 271., 244., 165., 289.,  88.,  89., 370., 286., 285., 156.,\n",
       "        102., 174., 226., 111., 126., 129., 268.,  95., 269., 304., 141.,\n",
       "        429., 167., 228., 239., 290., 186., 157., 305., 272., 303., 295.,\n",
       "         97., 164., 245., 247., 329., 222., 217., 153., 350.,  75., 257.,\n",
       "         90., 241., 336., 133., 277., 260., 318., 316., 325., 213.,  91.,\n",
       "         70., 159., 169., 232., 283., 143., 308., 207., 302., 221., 384.,\n",
       "        375., 315., 420.,  65., 298., 132., 211.,  96., 440., 300., 291.,\n",
       "        301., 294., 332., 333., 309.,  99., 338., 328., 229., 275., 252.,\n",
       "        161., 330.,  77., 104., 312., 274.,  94., 255., 258., 313.,  78.,\n",
       "         87., 323., 288., 266., 314., 227.,  83., 261., 251.,  71., 296.,\n",
       "        322., 354., 310., 297., 345., 248., 388.,  74., 346.]))"
      ]
     },
     "execution_count": 280,
     "metadata": {},
     "output_type": "execute_result"
    },
    {
     "data": {
      "text/plain": [
       "(37,\n",
       " array([\"1 - PARTIALLY IMPAIRED: CANNOT SEE MEDICATION LABELS OR NEWSPRINT, BUT CAN SEE OBSTACLES IN PATH, AND THE SURROUNDING LAYOUT; CAN COUNT FINGERS AT ARM'S LENGTH\",\n",
       "        nan,\n",
       "        '2 - SEVERELY IMPAIRED: CANNOT LOCATE OBJECTS WITHOUT HEARING OR TOUCHING THEM OR PATIENT NONRESPONSIVE',\n",
       "        '0 - NORMAL VISION: SEES ADEQUATELY IN MOST SITUATIONS; CAN SEE MEDICATION LABELS, NEWSPRINT'],\n",
       "       dtype=object))"
      ]
     },
     "execution_count": 280,
     "metadata": {},
     "output_type": "execute_result"
    },
    {
     "data": {
      "text/plain": [
       "(38,\n",
       " array(['3 - DAILY, BUT NOT CONSTANTLY ', '2 - LESS OFTEN THAN DAILY ',\n",
       "        '4 - ALL OF THE TIME', '0 - PATIENT HAS NO PAIN ', nan,\n",
       "        '1 - PATIENT HAS PAIN THAT DOES NOT INTERFERE WITH ACTIVITY OR MOVEMENT '],\n",
       "       dtype=object))"
      ]
     },
     "execution_count": 280,
     "metadata": {},
     "output_type": "execute_result"
    },
    {
     "data": {
      "text/plain": [
       "(39, array(['0 - NO', nan, '1 - YES'], dtype=object))"
      ]
     },
     "execution_count": 280,
     "metadata": {},
     "output_type": "execute_result"
    },
    {
     "data": {
      "text/plain": [
       "(40, array(['0', nan, '1', '2', '4 OR MORE', '3'], dtype=object))"
      ]
     },
     "execution_count": 280,
     "metadata": {},
     "output_type": "execute_result"
    },
    {
     "data": {
      "text/plain": [
       "(41,\n",
       " array(['NA - PATIENT HAS NO PRESSURE ULCERS/INJURIES OR NO STAGEABLE PRESSURE ULCERS/INJURIES',\n",
       "        nan, '2 - STAGE 2', '3 - STAGE 3', '4 - STAGE 4', '1 - STAGE 1'],\n",
       "       dtype=object))"
      ]
     },
     "execution_count": 280,
     "metadata": {},
     "output_type": "execute_result"
    },
    {
     "data": {
      "text/plain": [
       "(42,\n",
       " array(['2 - YES, PATIENT HAS OBSERVABLE STASIS ULCERS ONLY', '0 - NO',\n",
       "        nan,\n",
       "        '1 - YES, PATIENT HAS BOTH OBSERVABLE AND UNOBSERVABLE STASIS ULCERS ',\n",
       "        '3 - YES, PATIENT HAS UNOBSERVABLE STASIS ULCERS ONLY (KNOWN BUT NOT OBSERVABLE DUE TO NON-REMOVABLE DRESSING/DEVICE)'],\n",
       "       dtype=object))"
      ]
     },
     "execution_count": 280,
     "metadata": {},
     "output_type": "execute_result"
    },
    {
     "data": {
      "text/plain": [
       "(43,\n",
       " array(['0 - NO', nan,\n",
       "        '1 - YES, PATIENT HAS AT LEAST ONE (OBSERVABLE) SURGICAL WOUND  ',\n",
       "        '2 - SURGICAL WOUND KNOWN BUT NOT OBSERVABLE DUE TO NON-REMOVABLE DRESSING/DEVICE'],\n",
       "       dtype=object))"
      ]
     },
     "execution_count": 280,
     "metadata": {},
     "output_type": "execute_result"
    },
    {
     "data": {
      "text/plain": [
       "(44,\n",
       " array(['1 - WHEN WALKING MORE THAN 20 FEET, CLIMBING STAIRS ',\n",
       "        '0 - PATIENT IS NOT SHORT OF BREATH ', nan,\n",
       "        '3 - WITH MINIMAL EXERTION (FOR EXAMPLE, WHILE EATING, TALKING, OR PERFORMING OTHER ADLS) OR WITH AGITATION',\n",
       "        '2 - WITH MODERATE EXERTION (FOR EXAMPLE, WHILE DRESSING, USING COMMODE OR BEDPAN, WALKING DISTANCES LESS THAN 20 FEET)',\n",
       "        '4 - AT REST (DURING DAY OR NIGHT)'], dtype=object))"
      ]
     },
     "execution_count": 280,
     "metadata": {},
     "output_type": "execute_result"
    },
    {
     "data": {
      "text/plain": [
       "(45,\n",
       " array([nan, '0 - NO', '1 - YES',\n",
       "        'NA - PATIENT ON PROPHYLACTIC TREATMENT '], dtype=object))"
      ]
     },
     "execution_count": 280,
     "metadata": {},
     "output_type": "execute_result"
    },
    {
     "data": {
      "text/plain": [
       "(46,\n",
       " array(['1 - PATIENT IS INCONTINENT', nan,\n",
       "        '0 - NO INCONTINENCE OR CATHETER (INCLUDES ANURIA OR OSTOMY FOR URINARY DRAINAGE) ',\n",
       "        '2 - PATIENT REQUIRES A URINARY CATHETER (SPECIFICALLY: EXTERNAL, INDWELLING, INTERMITTENT, OR SUPRAPUBIC)'],\n",
       "       dtype=object))"
      ]
     },
     "execution_count": 280,
     "metadata": {},
     "output_type": "execute_result"
    },
    {
     "data": {
      "text/plain": [
       "(47,\n",
       " array(['0 - VERY RARELY OR NEVER HAS BOWEL INCONTINENCE ', nan,\n",
       "        '1 - LESS THAN ONCE WEEKLY ', '4 - ON A DAILY BASIS ',\n",
       "        'NA - PATIENT HAS OSTOMY FOR BOWEL ELIMINATION',\n",
       "        '2 - ONE TO THREE TIMES WEEKLY ',\n",
       "        '5 - MORE OFTEN THAN ONCE DAILY ', '3 - FOUR TO SIX TIMES WEEKLY '],\n",
       "       dtype=object))"
      ]
     },
     "execution_count": 280,
     "metadata": {},
     "output_type": "execute_result"
    },
    {
     "data": {
      "text/plain": [
       "(48,\n",
       " array(['0 - PATIENT DOES NOT HAVE AN OSTOMY FOR BOWEL ELIMINATION. ', nan,\n",
       "        '2 - THE OSTOMY WAS RELATED TO AN INPATIENT STAY OR DID NECESSITATE CHANGE IN MEDICAL OR TREATMENT REGIMEN.',\n",
       "        \"1 - PATIENT'S OSTOMY WAS NOT RELATED TO AN INPATIENT STAY AND DID NOT NECESSITATE CHANGE IN MEDICAL OR TREATMENT REGIMEN. \"],\n",
       "       dtype=object))"
      ]
     },
     "execution_count": 280,
     "metadata": {},
     "output_type": "execute_result"
    },
    {
     "data": {
      "text/plain": [
       "(49,\n",
       " array([nan,\n",
       "        '0 - ALERT/ORIENTED, ABLE TO FOCUS AND SHIFT ATTENTION, COMPREHENDS AND RECALLS TASK DIRECTIONS INDEPENDENTLY. ',\n",
       "        '3 - REQUIRES CONSIDERABLE ASSISTANCE IN ROUTINE SITUATIONS. IS NOT ALERT AND ORIENTED OR IS UNABLE TO SHIFT ATTENTION AND RECALL DIRECTIONS MORE THAN HALF THE TIME.',\n",
       "        '1 - REQUIRES PROMPTING (CUING, REPETITION, REMINDERS) ONLY UNDER STRESSFUL OR UNFAMILIAR CONDITIONS. ',\n",
       "        '2 - REQUIRES ASSISTANCE AND SOME DIRECTION IN SPECIFIC SITUATIONS (FOR EXAMPLE,  ON ALL TASKS INVOLVING SHIFTING OF ATTENTION), OR CONSISTENTLY REQUIRES LOW STIMULUS ENVIRONMENT DUE TO DISTRACTIBILITY. ',\n",
       "        '4 - TOTALLY DEPENDENT DUE TO DISTURBANCES SUCH AS CONSTANT DISORIENTATION, COMA, PERSISTENT VEGETATIVE STATE, OR DELIRIUM.'],\n",
       "       dtype=object))"
      ]
     },
     "execution_count": 280,
     "metadata": {},
     "output_type": "execute_result"
    },
    {
     "data": {
      "text/plain": [
       "(50,\n",
       " array([nan, '0 - NEVER ', '4 - CONSTANTLY',\n",
       "        '1 - IN NEW OR COMPLEX SITUATIONS ONLY ',\n",
       "        '2 - ON AWAKENING OR AT NIGHT ONLY ',\n",
       "        '3 - DURING THE DAY AND EVENING, BUT NOT CONSTANTLY ',\n",
       "        'NA - PATIENT NONRESPONSIVE'], dtype=object))"
      ]
     },
     "execution_count": 280,
     "metadata": {},
     "output_type": "execute_result"
    },
    {
     "data": {
      "text/plain": [
       "(51,\n",
       " array([nan, '0 - NONE OF THE TIME', '3 - ALL OF THE TIME ',\n",
       "        '1 - LESS OFTEN THAN DAILY ', '2 - DAILY, BUT NOT CONSTANTLY',\n",
       "        'NA - PATIENT NONRESPONSIVE'], dtype=object))"
      ]
     },
     "execution_count": 280,
     "metadata": {},
     "output_type": "execute_result"
    },
    {
     "data": {
      "text/plain": [
       "(52,\n",
       " array([nan, '0 - NOT AT ALL (0 - 1 DAY) ',\n",
       "        '1 - SEVERAL DAYS (2 - 6 DAYS) ',\n",
       "        '3 - NEARLY EVERY DAY (12 - 14 DAYS) ', 'N/A - UNABLE TO RESPOND',\n",
       "        '2 - MORE THAN HALF OF THE DAYS (7 - 11 DAYS) '], dtype=object))"
      ]
     },
     "execution_count": 280,
     "metadata": {},
     "output_type": "execute_result"
    },
    {
     "data": {
      "text/plain": [
       "(53,\n",
       " array([nan, '0 - NOT AT ALL (0 - 1 DAY) ',\n",
       "        '1 - SEVERAL DAYS (2 - 6 DAYS) ',\n",
       "        '3 - NEARLY EVERY DAY (12 - 14 DAYS) ', 'N/A - UNABLE TO RESPOND',\n",
       "        '2 - MORE THAN HALF OF THE DAYS (7 - 11 DAYS) '], dtype=object))"
      ]
     },
     "execution_count": 280,
     "metadata": {},
     "output_type": "execute_result"
    },
    {
     "data": {
      "text/plain": [
       "(54,\n",
       " array([nan,\n",
       "        '1 - YES, PATIENT WAS SCREENED USING THE PHQ-2(c) SCALE. (INSTRUCTIONS FOR THIS TWO-QUESTION TOOL: ASK PATIENT: \"OVER THE LAST TWO WEEKS, HOW OFTEN HAVE YOU BEEN BOTHERED BY ANY OF THE FOLLOWING PROBLEMS\")',\n",
       "        '0 - NO',\n",
       "        '3 - YES, PATIENT WAS SCREENED WITH A DIFFERENT STANDARDIZED, VALIDATED ASSESSMENT AND THE PATIENT DOES NOT MEET CRITERIA FOR FURTHER EVALUATION FOR DEPRESSION.',\n",
       "        '2 - YES, PATIENT WAS SCREENED WITH A DIFFERENT STANDARDIZED, VALIDATED ASSESSMENT AND THE PATIENT MEETS CRITERIA FOR FURTHER EVALUATION FOR DEPRESSION.'],\n",
       "       dtype=object))"
      ]
     },
     "execution_count": 280,
     "metadata": {},
     "output_type": "execute_result"
    },
    {
     "data": {
      "text/plain": [
       "(55, array([nan, 'NO', 'YES'], dtype=object))"
      ]
     },
     "execution_count": 280,
     "metadata": {},
     "output_type": "execute_result"
    },
    {
     "data": {
      "text/plain": [
       "(56, array([nan, 'NO', 'YES'], dtype=object))"
      ]
     },
     "execution_count": 280,
     "metadata": {},
     "output_type": "execute_result"
    },
    {
     "data": {
      "text/plain": [
       "(57, array([nan, 'NO', 'YES'], dtype=object))"
      ]
     },
     "execution_count": 280,
     "metadata": {},
     "output_type": "execute_result"
    },
    {
     "data": {
      "text/plain": [
       "(58, array([nan, 'YES', 'NO'], dtype=object))"
      ]
     },
     "execution_count": 280,
     "metadata": {},
     "output_type": "execute_result"
    },
    {
     "data": {
      "text/plain": [
       "(59, array([nan, 'NO', 'YES'], dtype=object))"
      ]
     },
     "execution_count": 280,
     "metadata": {},
     "output_type": "execute_result"
    },
    {
     "data": {
      "text/plain": [
       "(60, array([nan, 'NO', 'YES'], dtype=object))"
      ]
     },
     "execution_count": 280,
     "metadata": {},
     "output_type": "execute_result"
    },
    {
     "data": {
      "text/plain": [
       "(61, array([nan, 'NO', 'YES'], dtype=object))"
      ]
     },
     "execution_count": 280,
     "metadata": {},
     "output_type": "execute_result"
    },
    {
     "data": {
      "text/plain": [
       "(62,\n",
       " array([nan, '0 - NEVER', '5 - AT LEAST DAILY',\n",
       "        '1 - LESS THAN ONCE A MONTH', '4 - SEVERAL TIMES A WEEK',\n",
       "        '2 - ONCE A MONTH', '3 - SEVERAL TIMES EACH MONTH'], dtype=object))"
      ]
     },
     "execution_count": 280,
     "metadata": {},
     "output_type": "execute_result"
    },
    {
     "data": {
      "text/plain": [
       "(63,\n",
       " array([nan,\n",
       "        '0 - ABLE TO GROOM SELF UNAIDED, WITH OR WITHOUT THE USE OF ASSISTIVE DEVICES OR ADAPTED METHODS',\n",
       "        '2 - SOMEONE MUST ASSIST THE PATIENT TO GROOM SELF',\n",
       "        '1 - GROOMING UTENSILS MUST BE PLACED WITHIN REACH BEFORE ABLE TO COMPLETE GROOMING ACTIVITIES',\n",
       "        '3 - PATIENT DEPENDS ENTIRELY UPON SOMEONE ELSE FOR GROOMING NEEDS'],\n",
       "       dtype=object))"
      ]
     },
     "execution_count": 280,
     "metadata": {},
     "output_type": "execute_result"
    },
    {
     "data": {
      "text/plain": [
       "(64,\n",
       " array(['2 - SOMEONE MUST HELP THE PATIENT PUT ON UPPER BODY CLOTHING',\n",
       "        '0 - ABLE TO GET CLOTHES OUT OF CLOSETS AND DRAWERS, PUT THEM ON AND REMOVE THEM FROM THE UPPER BODY WITHOUT ASSISTANCE',\n",
       "        nan,\n",
       "        '1 - ABLE TO DRESS UPPER BODY WITHOUT ASSISTANCE IF CLOTHING IS LAID OUT OR HANDED TO THE PATIENT',\n",
       "        '3 - PATIENT DEPENDS ENTIRELY UPON ANOTHER PERSON TO DRESS UPPER BODY'],\n",
       "       dtype=object))"
      ]
     },
     "execution_count": 280,
     "metadata": {},
     "output_type": "execute_result"
    },
    {
     "data": {
      "text/plain": [
       "(65,\n",
       " array(['2 - SOMEONE MUST HELP PATIENT PUT ON UNDERGARMENTS, SLACKS, SOCKS OR NYLONS, AND SHOES',\n",
       "        '0 - ABLE TO OBTAIN, PUT ON, AND REMOVE CLOTHING AND SHOES WITHOUT ASSISTANCE',\n",
       "        nan,\n",
       "        '1 - ABLE TO DRESS LOWER BODY WITHOUT ASSISTANCE IF CLOTHING AND SHOES ARE LAID OUT OR HANDED TO THE PATIENT',\n",
       "        '3 - PATIENT DEPENDS ENTIRELY UPON ANOTHER PERSON TO DRESS LOWER BODY'],\n",
       "       dtype=object))"
      ]
     },
     "execution_count": 280,
     "metadata": {},
     "output_type": "execute_result"
    },
    {
     "data": {
      "text/plain": [
       "(66,\n",
       " array(['3 - ABLE TO PARTICIPATE IN BATHING SELF IN SHOWER OR TUB, BUT REQUIRES PRESENCE OF ANOTHER PERSON THROUGHOUT THE BATH FOR ASSISTANCE OR SUPERVISION. ',\n",
       "        '1 - WITH THE USE OF DEVICES, IS ABLE TO BATHE SELF IN SHOWER OR TUB INDEPENDENTLY, INCLUDING GETTING IN AND OUT OF THE TUB/SHOWER. ',\n",
       "        '0 - ABLE TO BATHE SELF IN SHOWER OR TUB INDEPENDENTLY, INCLUDING GETTING IN AND OUT OF TUB/SHOWER.',\n",
       "        nan,\n",
       "        '2 - ABLE TO BATHE IN SHOWER OR TUB WITH THE INTERMITTENT ASSISTANCE OF ANOTHER PERSON: (A) FOR INTERMITTENT SUPERVISION OR ENCOURAGEMENT OR REMINDERS, OR (B) TO GET IN AND OUT OF THE SHOWER OR TUB, OR (C) FOR WASHING DIFFICULT TO REACH AREAS. ',\n",
       "        '5 - UNABLE TO USE THE SHOWER OR TUB, BUT ABLE TO PARTICIPATE IN BATHING SELF IN BED, AT THE SINK, IN BEDSIDE CHAIR, OR ON COMMODE, WITH THE ASSISTANCE OR SUPERVISION OF ANOTHER PERSON.',\n",
       "        '6 - UNABLE TO PARTICIPATE EFFECTIVELY IN BATHING AND IS BATHED TOTALLY BY ANOTHER PERSON.',\n",
       "        '4 - UNABLE TO USE THE SHOWER OR TUB, BUT ABLE TO BATHE SELF INDEPENDENTLY, WITH OR WITHOUT THE USE OF DEVICES, AT THE SINK, IN CHAIR, OR ON COMMODE. '],\n",
       "       dtype=object))"
      ]
     },
     "execution_count": 280,
     "metadata": {},
     "output_type": "execute_result"
    },
    {
     "data": {
      "text/plain": [
       "(67,\n",
       " array(['1 - WHEN REMINDED, ASSISTED, OR SUPERVISED BY ANOTHER PERSON, ABLE TO GET TO AND FROM THE TOILET AND TRANSFER. ',\n",
       "        '0 - ABLE TO GET TO AND FROM THE TOILET AND TRANSFER INDEPENDENTLY WITH OR WITHOUT A DEVICE. ',\n",
       "        nan,\n",
       "        '2 - UNABLE TO GET TO AND FROM THE TOILET BUT IS ABLE TO USE A BEDSIDE COMMODE (WITH OR WITHOUT ASSISTANCE). ',\n",
       "        '4 - IS TOTALLY DEPENDENT IN TOILETING.',\n",
       "        '3 - UNABLE TO GET TO AND FROM THE TOILET OR BEDSIDE COMMODE BUT IS ABLE TO USE A BEDPAN/URINAL INDEPENDENTLY. '],\n",
       "       dtype=object))"
      ]
     },
     "execution_count": 280,
     "metadata": {},
     "output_type": "execute_result"
    },
    {
     "data": {
      "text/plain": [
       "(68,\n",
       " array([nan,\n",
       "        '1 - ABLE TO MANAGE TOILETING HYGIENE AND CLOTHING MANAGEMENT WITHOUT ASSISTANCE IF SUPPLIES/IMPLEMENTS ARE LAID OUT FOR THE PATIENT. ',\n",
       "        '0 - ABLE TO MANAGE TOILETING HYGIENE AND CLOTHING MANAGEMENT WITHOUT ASSISTANCE.',\n",
       "        '2 -SOMEONE MUST HELP THE PATIENT TO MAINTAIN TOILETING HYGIENE AND/OR ADJUST CLOTHING. ',\n",
       "        '3 - PATIENT DEPENDS ENTIRELY UPON ANOTHER PERSON TO MAINTAIN TOILETING HYGIENE.'],\n",
       "       dtype=object))"
      ]
     },
     "execution_count": 280,
     "metadata": {},
     "output_type": "execute_result"
    },
    {
     "data": {
      "text/plain": [
       "(69,\n",
       " array(['2 - ABLE TO BEAR WEIGHT AND PIVOT DURING THE TRANSFER PROCESS BUT UNABLE TO TRANSFER SELF',\n",
       "        '1 - ABLE TO TRANSFER WITH MINIMAL HUMAN ASSISTANCE OR WITH USE OF AN ASSISTIVE DEVICE',\n",
       "        '0 - ABLE TO INDEPENDENTLY TRANSFER', nan,\n",
       "        '3 - UNABLE TO TRANSFER SELF AND IS UNABLE TO BEAR WEIGHT OR PIVOT WHEN TRANSFERRED BY ANOTHER PERSON',\n",
       "        '5 - BEDFAST, UNABLE TO TRANSFER AND IS UNABLE TO TURN AND POSITION SELF',\n",
       "        '4 - BEDFAST, UNABLE TO TRANSFER BUT IS ABLE TO TURN AND POSITION SELF IN BED'],\n",
       "       dtype=object))"
      ]
     },
     "execution_count": 280,
     "metadata": {},
     "output_type": "execute_result"
    },
    {
     "data": {
      "text/plain": [
       "(70,\n",
       " array(['3 - ABLE TO WALK ONLY WITH THE SUPERVISION OR ASSISTANCE OF ANOTHER PERSON AT ALL TIMES. ',\n",
       "        '1 - WITH THE USE OF A ONE-HANDED DEVICE (FOR EXAMPLE, CANE, SINGLE CRUTCH, HEMI-WALKER), ABLE TO INDEPENDENTLY WALK ON EVEN AND UNEVEN SURFACES AND NEGOTIATE STAIRS WITH OR WITHOUT RAILINGS.',\n",
       "        '0 - ABLE TO INDEPENDENTLY WALK ON EVEN AND UNEVEN SURFACES AND NEGOTIATE STAIRS WITH OR WITHOUT RAILINGS (SPECIFICALLY: NEEDS NO HUMAN ASSISTANCE OR ASSISTIVE DEVICE).',\n",
       "        nan,\n",
       "        '2 - REQUIRES USE OF A TWO-HANDED DEVICE (FOR EXAMPLE, WALKER OR CRUTCHES) TO WALK ALONE ON A LEVEL SURFACE AND/OR REQUIRES HUMAN SUPERVISION OR ASSISTANCE TO NEGOTIATE STAIRS OR STEPS OR UNEVEN SURFACES.',\n",
       "        '4 - CHAIRFAST, UNABLE TO AMBULATE BUT IS ABLE TO WHEEL SELF INDEPENDENTLY. ',\n",
       "        '5 - CHAIRFAST, UNABLE TO AMBULATE AND IS UNABLE TO WHEEL SELF. ',\n",
       "        '6 - BEDFAST, UNABLE TO AMBULATE OR BE UP IN A CHAIR'],\n",
       "       dtype=object))"
      ]
     },
     "execution_count": 280,
     "metadata": {},
     "output_type": "execute_result"
    },
    {
     "data": {
      "text/plain": [
       "(71,\n",
       " array([nan, '0 - ABLE TO INDEPENDENTLY FEED SELF',\n",
       "        '1 - ABLE TO FEED SELF INDEPENDENTLY BUT REQUIRES: (A) MEAL SET-UP; OR (B) INTERMITTENT ASSISTANCE OR SUPERVISION FROM ANOTHER PERSON; OR (C) A LIQUID, PUREED OR GROUND MEAT DIET',\n",
       "        '4 - UNABLE TO TAKE IN NUTRIENTS ORALLY AND IS FED NUTRIENTS THROUGH NASOGASTRIC TUBE OR GASTROSTOMY',\n",
       "        '2 - UNABLE TO FEED SELF AND MUST BE ASSISTED OR SUPERVISED THROUGHOUT THE MEAL/SNACK',\n",
       "        '5 - UNABLE TO TAKE IN NUTRIENTS ORALLY OR BY TUBE FEEDING',\n",
       "        '3 - ABLE TO TAKE IN NUTRIENTS ORALLY AND RECEIVES SUPPLEMENTAL NUTRIENTS THROUGH A NASOGASTRIC TUBE OR GASTROSTOMY'],\n",
       "       dtype=object))"
      ]
     },
     "execution_count": 280,
     "metadata": {},
     "output_type": "execute_result"
    },
    {
     "data": {
      "text/plain": [
       "(72,\n",
       " array([nan, '2 - YES, AND IT DOES INDICATE A RISK FOR FALLS.',\n",
       "        '1 -YES, AND IT DOES NOT INDICATE A RISK FOR FALLS. ', '0 - NO.'],\n",
       "       dtype=object))"
      ]
     },
     "execution_count": 280,
     "metadata": {},
     "output_type": "execute_result"
    },
    {
     "data": {
      "text/plain": [
       "(73,\n",
       " array([nan, '0 - NO - NO ISSUES FOUND DURING REVIEW',\n",
       "        '1 - YES - ISSUES FOUND DURING REVIEW',\n",
       "        '9 - NA - PATIENT IS NOT TAKING ANY MEDICATIONS'], dtype=object))"
      ]
     },
     "execution_count": 280,
     "metadata": {},
     "output_type": "execute_result"
    },
    {
     "data": {
      "text/plain": [
       "(74,\n",
       " array([nan,\n",
       "        '9 - NA - THERE WERE NO POTENTIALLY CLINICALLY SIGNIFICANT MEDICATION ISSUES IDENTIFIED SINCE SOC/ROC OR PATIENT IS NOT TAKING ANY MEDICATIONS',\n",
       "        '1 - YES', '0 - NO'], dtype=object))"
      ]
     },
     "execution_count": 280,
     "metadata": {},
     "output_type": "execute_result"
    },
    {
     "data": {
      "text/plain": [
       "(75,\n",
       " array([nan, '1 - YES',\n",
       "        'NA - PATIENT NOT TAKING ANY HIGH RISK DRUGS OR PATIENT/CAREGIVER FULLY KNOWLEDGEABLE ABOUT SPECIAL PRECAUTIONS ASSOCIATED WITH ALL HIGH-RISK MEDICATIONS',\n",
       "        '0 - NO'], dtype=object))"
      ]
     },
     "execution_count": 280,
     "metadata": {},
     "output_type": "execute_result"
    },
    {
     "data": {
      "text/plain": [
       "(76,\n",
       " array([nan, '1 - YES', 'NA - PATIENT NOT TAKING ANY DRUGS', '0 - NO'],\n",
       "       dtype=object))"
      ]
     },
     "execution_count": 280,
     "metadata": {},
     "output_type": "execute_result"
    },
    {
     "data": {
      "text/plain": [
       "(77,\n",
       " array([nan,\n",
       "        '1 - ABLE TO TAKE MEDICATION(S) AT THE CORRECT TIMES IF: (A) INDIVIDUAL DOSAGES ARE PREPARED IN ADVANCE BY ANOTHER PERSON; OR (B) ANOTHER PERSON DEVELOPS A DRUG DIARY OR CHART. ',\n",
       "        '0 - ABLE TO INDEPENDENTLY TAKE THE CORRECT ORAL MEDICATION(S) AND PROPER DOSAGE(S) AT THE CORRECT TIMES. ',\n",
       "        '3 - UNABLE TO TAKE MEDICATION UNLESS ADMINISTERED BY ANOTHER PERSON. ',\n",
       "        '2 - ABLE TO TAKE MEDICATION(S) AT THE CORRECT TIMES IF GIVEN REMINDERS BY ANOTHER PERSON AT THE APPROPRIATE TIMES ',\n",
       "        'NA - NO ORAL MEDICATIONS PRESCRIBED.'], dtype=object))"
      ]
     },
     "execution_count": 280,
     "metadata": {},
     "output_type": "execute_result"
    },
    {
     "data": {
      "text/plain": [
       "(78,\n",
       " array(['NA - NO INJECTABLE MEDICATIONS PRESCRIBED', nan,\n",
       "        '3 - UNABLE TO TAKE INJECTABLE MEDICATION UNLESS ADMINISTERED BY ANOTHER PERSON. ',\n",
       "        '2 - ABLE TO TAKE MEDICATION(S) AT THE CORRECT TIMES IF GIVEN REMINDERS BY ANOTHER PERSON BASED ON THE FREQUENCY OF THE INJECTION ',\n",
       "        '0 - ABLE TO INDEPENDENTLY TAKE THE CORRECT MEDICATION(S) AND PROPER DOSAGE(S) AT THE CORRECT TIMES. ',\n",
       "        '1 - ABLE TO TAKE INJECTABLE MEDICATION(S) AT THE CORRECT TIMES IF: (A) INDIVIDUAL SYRINGES ARE PREPARED IN ADVANCE BY ANOTHER PERSON; OR (B) ANOTHER PERSON DEVELOPS A DRUG DIARY OR CHART. '],\n",
       "       dtype=object))"
      ]
     },
     "execution_count": 280,
     "metadata": {},
     "output_type": "execute_result"
    },
    {
     "data": {
      "text/plain": [
       "(79,\n",
       " array([nan,\n",
       "        '0 - NO ASSISTANCE NEEDED –PATIENT IS INDEPENDENT OR DOES NOT HAVE NEEDS IN THIS AREA',\n",
       "        '1 - NON-AGENCY CAREGIVER(S) CURRENTLY PROVIDE ASSISTANCE',\n",
       "        '2 - NON-AGENCY CAREGIVER(S) NEED TRAINING/ SUPPORTIVE SERVICES TO PROVIDE ASSISTANCE',\n",
       "        '4 - ASSISTANCE NEEDED, BUT NO NON-AGENCY CAREGIVER(S) AVAILABLE',\n",
       "        '3 - NON-AGENCY CAREGIVER(S) ARE NOT LIKELY TO PROVIDE ASSISTANCE OR IT IS UNCLEAR IF THEY WILL PROVIDE ASSISTANCE'],\n",
       "       dtype=object))"
      ]
     },
     "execution_count": 280,
     "metadata": {},
     "output_type": "execute_result"
    },
    {
     "data": {
      "text/plain": [
       "(80, array(['NO', nan, 'YES'], dtype=object))"
      ]
     },
     "execution_count": 280,
     "metadata": {},
     "output_type": "execute_result"
    },
    {
     "data": {
      "text/plain": [
       "(81,\n",
       " array([  0.,  nan,  17.,   8.,   9.,   1.,  18.,  14.,   4.,   7.,   2.,\n",
       "         12.,  20.,  22.,  11.,   3.,   5.,  16.,  27.,   6.,  32.,  15.,\n",
       "         23.,  25.,  10.,  24.,  30.,  19.,  13.,  21.,  40.,  31.,  28.,\n",
       "         29.,  35., 110.,  39.,  26.,  49.,  33., 111.,  81.,  83.]))"
      ]
     },
     "execution_count": 280,
     "metadata": {},
     "output_type": "execute_result"
    },
    {
     "data": {
      "text/plain": [
       "(82,\n",
       " array([nan, '0 - NO',\n",
       "        '2 - YES, USED HOSPITAL EMERGENCY DEPARTMENT WITH HOSPITAL ADMISSION',\n",
       "        '1 - YES, USED HOSPITAL EMERGENCY DEPARTMENT WITHOUT HOSPITAL ADMISSION '],\n",
       "       dtype=object))"
      ]
     },
     "execution_count": 280,
     "metadata": {},
     "output_type": "execute_result"
    },
    {
     "data": {
      "text/plain": [
       "(83,\n",
       " array([nan,\n",
       "        'NA - PATIENT IS NOT DIABETIC OR IS MISSING LOWER LEGS DUE TO CONGENITAL OR ACQUIRED CONDITION (BILATERAL AMPUTEE).',\n",
       "        '1 - YES', '0 - NO'], dtype=object))"
      ]
     },
     "execution_count": 280,
     "metadata": {},
     "output_type": "execute_result"
    },
    {
     "data": {
      "text/plain": [
       "(84,\n",
       " array([nan, '0 - NO',\n",
       "        'NA - (C2) PATIENT HAS NO DIAGNOSIS OF DEPRESSION AND EVERY STANDARDIZED, VALIDATED DEPRESSION SCREENING CONDUCTED AT OR SINCE THE MOST RECENT SOC/ROC ASSESSMENT INDICATES THE PATIENT HAS: 1) NO SYMPTOMS OF DEPRESSION; OR 2) HAS SOME SYMPTOMS OF DEPRESSION BUT DOES NOT MEET CRITERIA FOR FURTHER EVALUATION OF DEPRESSION BASED ON SCREENING TOOL USED.',\n",
       "        '1 - YES'], dtype=object))"
      ]
     },
     "execution_count": 280,
     "metadata": {},
     "output_type": "execute_result"
    },
    {
     "data": {
      "text/plain": [
       "(85,\n",
       " array([nan, '1 - YES', '0 - NO',\n",
       "        'NA - (C2) EVERY STANDARDIZED, VALIDATED MULTI-FACTOR FALL RISK ASSESSMENT CONDUCTED AT OR SINCE THE MOST RECENT SOC/ROC ASSESSMENT INDICATES THE PATIENT HAS NO RISK FOR FALLS.'],\n",
       "       dtype=object))"
      ]
     },
     "execution_count": 280,
     "metadata": {},
     "output_type": "execute_result"
    },
    {
     "data": {
      "text/plain": [
       "(86,\n",
       " array([nan, '1 - YES',\n",
       "        'NA - (C2) EVERY STANDARDIZED, VALIDATED PAIN ASSESSMENT CONDUCTED AT OR SINCE THE MOST RECENT SOC/ROC ASSESSMENT INDICATES THE PATIENT HAS NO PAIN.',\n",
       "        '0 - NO'], dtype=object))"
      ]
     },
     "execution_count": 280,
     "metadata": {},
     "output_type": "execute_result"
    },
    {
     "data": {
      "text/plain": [
       "(87,\n",
       " array([nan, '1 - YES',\n",
       "        'NA - (C2) EVERY STANDARDIZED, VALIDATED PRESSURE ULCER RISK ASSESSMENT CONDUCTED AT OR SINCE THE RECENT SOC/ROC  ASSESSMENT INDICATES THE PATIENT IS NOT AT RISK OF DEVELOPING PRESSURE ULCERS.',\n",
       "        '0 - NO'], dtype=object))"
      ]
     },
     "execution_count": 280,
     "metadata": {},
     "output_type": "execute_result"
    },
    {
     "data": {
      "text/plain": [
       "(88,\n",
       " array([nan, '0 - NO', '1 - YES',\n",
       "        'NA - PATIENT HAS NO PRESSURE ULCERS OR HAS NO PRESSURE ULCERS FOR WHICH MOIST WOUND HEALING IS INDICATED.'],\n",
       "       dtype=object))"
      ]
     },
     "execution_count": 280,
     "metadata": {},
     "output_type": "execute_result"
    },
    {
     "data": {
      "text/plain": [
       "(89,\n",
       " array([nan, 'NA - NO INPATIENT FACILITY ADMISSION', '1 - HOSPITAL',\n",
       "        '3 - NURSING HOME', '2 - REHABILITATION FACILITY', '4 - HOSPICE'],\n",
       "       dtype=object))"
      ]
     },
     "execution_count": 280,
     "metadata": {},
     "output_type": "execute_result"
    }
   ],
   "source": [
    "for idx, col in enumerate(df_events_int):\n",
    "    (idx, df_events_int.loc[:, col].unique())"
   ]
  },
  {
   "cell_type": "markdown",
   "id": "ac39eb86",
   "metadata": {},
   "source": [
    "<div class=\"alert alert-danger\" role=\"alert\">\n",
    "    <b>View values of a particular Feature Column</b>\n",
    "</div>"
   ]
  },
  {
   "cell_type": "code",
   "execution_count": 281,
   "id": "39b9f8b0",
   "metadata": {},
   "outputs": [
    {
     "data": {
      "text/plain": [
       "0      NaN\n",
       "1      NaN\n",
       "2      NaN\n",
       "3      NaN\n",
       "4    150.0\n",
       "Name: M1060_WEIGHT_B, dtype: float64"
      ]
     },
     "execution_count": 281,
     "metadata": {},
     "output_type": "execute_result"
    }
   ],
   "source": [
    "#df[cols_Oevents].iloc[: , 35]\n",
    "df_events_int.iloc[: , 36].head()"
   ]
  },
  {
   "cell_type": "markdown",
   "id": "25517115",
   "metadata": {},
   "source": [
    "<div class=\"alert alert-danger\" role=\"alert\">\n",
    "    <b>Get DataTypes of Each Feature Column</b>\n",
    "</div>"
   ]
  },
  {
   "cell_type": "code",
   "execution_count": 282,
   "id": "8774a452",
   "metadata": {},
   "outputs": [
    {
     "data": {
      "text/plain": [
       "index                               int64\n",
       "M0100_ASSMT_REASON                 object\n",
       "M0110_EPISODE_TIMING               object\n",
       "M0140_ETHNIC_AI_AN                 object\n",
       "M0140_ETHNIC_ASIAN                 object\n",
       "M0140_ETHNIC_BLACK                 object\n",
       "M0140_ETHNIC_HISP                  object\n",
       "M0140_ETHNIC_NH_PI                 object\n",
       "M0140_ETHNIC_WHITE                 object\n",
       "M1000_DC_IPPS_14_DA                object\n",
       "M1000_DC_IRF_14_DA                 object\n",
       "M1000_DC_LTC_14_DA                 object\n",
       "M1000_DC_LTCH_14_DA                object\n",
       "M1000_DC_NONE_14_DA                object\n",
       "M1000_DC_OTH_14_DA                 object\n",
       "M1000_DC_PSYCH_14_DA               object\n",
       "M1000_DC_SNF_14_DA                 object\n",
       "M1028_ACTV_DIAG_DM                 object\n",
       "M1028_ACTV_DIAG_NOA                object\n",
       "M1028_ACTV_DIAG_PVD_PAD            object\n",
       "M1030_THH_ENT_NUTRITION            object\n",
       "M1030_THH_IV_INFUSION              object\n",
       "M1030_THH_NONE_ABOVE               object\n",
       "M1030_THH_PAR_NUTRITION            object\n",
       "M1033_HOSP_RISK_5PLUS_MDCTN        object\n",
       "M1033_HOSP_RISK_COMPLIANCE         object\n",
       "M1033_HOSP_RISK_CRNT_EXHSTN        object\n",
       "M1033_HOSP_RISK_HSTRY_FALLS        object\n",
       "M1033_HOSP_RISK_MLTPL_ED_VISIT     object\n",
       "M1033_HOSP_RISK_MLTPL_HOSPZTN      object\n",
       "M1033_HOSP_RISK_MNTL_BHV_DCLN      object\n",
       "M1033_HOSP_RISK_NONE_ABOVE         object\n",
       "M1033_HOSP_RISK_OTHR_RISK          object\n",
       "M1033_HOSP_RISK_WEIGHT_LOSS        object\n",
       "M1051_PVX_RCVD_AGNCY               object\n",
       "M1060_HEIGHT_A                    float64\n",
       "M1060_WEIGHT_B                    float64\n",
       "M1200_VISION                       object\n",
       "M1242_PAIN_FREQ_ACTVTY_MVMT        object\n",
       "M1306_UNHLD_STG2_PRSR_ULCR         object\n",
       "M1322_NBR_PRSULC_STG1              object\n",
       "M1324_STG_PRBLM_ULCER              object\n",
       "M1330_STAS_ULCR_PRSNT              object\n",
       "M1340_SRGCL_WND_PRSNT              object\n",
       "M1400_WHEN_DYSPNEIC                object\n",
       "M1600_UTI                          object\n",
       "M1610_UR_INCONT                    object\n",
       "M1620_BWL_INCONT                   object\n",
       "M1630_OSTOMY                       object\n",
       "M1700_COG_FUNCTION                 object\n",
       "M1710_WHEN_CONFUSED                object\n",
       "M1720_WHEN_ANXIOUS                 object\n",
       "M1730_PHQ2_DPRSN                   object\n",
       "M1730_PHQ2_LACK_INTRST             object\n",
       "M1730_STDZ_DPRSN_SCRNG             object\n",
       "M1740_BD_DELUSIONS                 object\n",
       "M1740_BD_IMP_DECISN                object\n",
       "M1740_BD_MEM_DEFICIT               object\n",
       "M1740_BD_NONE                      object\n",
       "M1740_BD_PHYSICAL                  object\n",
       "M1740_BD_SOC_INAPPRO               object\n",
       "M1740_BD_VERBAL                    object\n",
       "M1745_BEH_PROB_FREQ                object\n",
       "M1800_CRNT_GROOMING                object\n",
       "M1810_CRNT_DRESS_UPPER             object\n",
       "M1820_CRNT_DRESS_LOWER             object\n",
       "M1830_CRNT_BATHG                   object\n",
       "M1840_CRNT_TOILTG                  object\n",
       "M1845_CRNT_TOILTG_HYGN             object\n",
       "M1850_CRNT_TRNSFRNG                object\n",
       "M1860_CRNT_AMBLTN                  object\n",
       "M1870_CRNT_FEEDING                 object\n",
       "M1910_MLT_FCTR_FALL_RISK_ASMT      object\n",
       "M2001_DRUG_RGMN_RVW                object\n",
       "M2005_MDCTN_INTRVTN                object\n",
       "M2010_HIGH_RISK_DRUG_EDCTN         object\n",
       "M2016_DRUG_EDCTN_INTRVTN           object\n",
       "M2020_CRNT_MGMT_ORAL_MDCTN         object\n",
       "M2030_CRNT_MGMT_INJCTN_MDCTN       object\n",
       "M2102_CARE_TYPE_SRC_SPRVSN         object\n",
       "M2200_THER_NEED_NA                 object\n",
       "M2200_THER_NEED_NBR               float64\n",
       "M2301_EMER_USE_AFTR_LAST_ASMT      object\n",
       "M2401_INTRVTN_SMRY_DBTS_FT         object\n",
       "M2401_INTRVTN_SMRY_DPRSN           object\n",
       "M2401_INTRVTN_SMRY_FALL_PRVNT      object\n",
       "M2401_INTRVTN_SMRY_PAIN_MNTR       object\n",
       "M2401_INTRVTN_SMRY_PRSULC_PRVN     object\n",
       "M2401_INTRVTN_SMRY_PRSULC_WET      object\n",
       "M2410_INPAT_FACILITY               object\n",
       "dtype: object"
      ]
     },
     "execution_count": 282,
     "metadata": {},
     "output_type": "execute_result"
    }
   ],
   "source": [
    "df_events_int.dtypes"
   ]
  },
  {
   "cell_type": "code",
   "execution_count": 283,
   "id": "39401fa1",
   "metadata": {},
   "outputs": [
    {
     "data": {
      "text/plain": [
       "Index(['index', 'M0100_ASSMT_REASON', 'M0110_EPISODE_TIMING',\n",
       "       'M0140_ETHNIC_AI_AN', 'M0140_ETHNIC_ASIAN', 'M0140_ETHNIC_BLACK',\n",
       "       'M0140_ETHNIC_HISP', 'M0140_ETHNIC_NH_PI', 'M0140_ETHNIC_WHITE',\n",
       "       'M1000_DC_IPPS_14_DA', 'M1000_DC_IRF_14_DA', 'M1000_DC_LTC_14_DA',\n",
       "       'M1000_DC_LTCH_14_DA', 'M1000_DC_NONE_14_DA', 'M1000_DC_OTH_14_DA',\n",
       "       'M1000_DC_PSYCH_14_DA', 'M1000_DC_SNF_14_DA', 'M1028_ACTV_DIAG_DM',\n",
       "       'M1028_ACTV_DIAG_NOA', 'M1028_ACTV_DIAG_PVD_PAD',\n",
       "       'M1030_THH_ENT_NUTRITION', 'M1030_THH_IV_INFUSION',\n",
       "       'M1030_THH_NONE_ABOVE', 'M1030_THH_PAR_NUTRITION',\n",
       "       'M1033_HOSP_RISK_5PLUS_MDCTN', 'M1033_HOSP_RISK_COMPLIANCE',\n",
       "       'M1033_HOSP_RISK_CRNT_EXHSTN', 'M1033_HOSP_RISK_HSTRY_FALLS',\n",
       "       'M1033_HOSP_RISK_MLTPL_ED_VISIT', 'M1033_HOSP_RISK_MLTPL_HOSPZTN',\n",
       "       'M1033_HOSP_RISK_MNTL_BHV_DCLN', 'M1033_HOSP_RISK_NONE_ABOVE',\n",
       "       'M1033_HOSP_RISK_OTHR_RISK', 'M1033_HOSP_RISK_WEIGHT_LOSS',\n",
       "       'M1051_PVX_RCVD_AGNCY', 'M1060_HEIGHT_A', 'M1060_WEIGHT_B',\n",
       "       'M1200_VISION', 'M1242_PAIN_FREQ_ACTVTY_MVMT',\n",
       "       'M1306_UNHLD_STG2_PRSR_ULCR', 'M1322_NBR_PRSULC_STG1',\n",
       "       'M1324_STG_PRBLM_ULCER', 'M1330_STAS_ULCR_PRSNT',\n",
       "       'M1340_SRGCL_WND_PRSNT', 'M1400_WHEN_DYSPNEIC', 'M1600_UTI',\n",
       "       'M1610_UR_INCONT', 'M1620_BWL_INCONT', 'M1630_OSTOMY',\n",
       "       'M1700_COG_FUNCTION', 'M1710_WHEN_CONFUSED', 'M1720_WHEN_ANXIOUS',\n",
       "       'M1730_PHQ2_DPRSN', 'M1730_PHQ2_LACK_INTRST', 'M1730_STDZ_DPRSN_SCRNG',\n",
       "       'M1740_BD_DELUSIONS', 'M1740_BD_IMP_DECISN', 'M1740_BD_MEM_DEFICIT',\n",
       "       'M1740_BD_NONE', 'M1740_BD_PHYSICAL', 'M1740_BD_SOC_INAPPRO',\n",
       "       'M1740_BD_VERBAL', 'M1745_BEH_PROB_FREQ', 'M1800_CRNT_GROOMING',\n",
       "       'M1810_CRNT_DRESS_UPPER', 'M1820_CRNT_DRESS_LOWER', 'M1830_CRNT_BATHG',\n",
       "       'M1840_CRNT_TOILTG', 'M1845_CRNT_TOILTG_HYGN', 'M1850_CRNT_TRNSFRNG',\n",
       "       'M1860_CRNT_AMBLTN', 'M1870_CRNT_FEEDING',\n",
       "       'M1910_MLT_FCTR_FALL_RISK_ASMT', 'M2001_DRUG_RGMN_RVW',\n",
       "       'M2005_MDCTN_INTRVTN', 'M2010_HIGH_RISK_DRUG_EDCTN',\n",
       "       'M2016_DRUG_EDCTN_INTRVTN', 'M2020_CRNT_MGMT_ORAL_MDCTN',\n",
       "       'M2030_CRNT_MGMT_INJCTN_MDCTN', 'M2102_CARE_TYPE_SRC_SPRVSN',\n",
       "       'M2200_THER_NEED_NA', 'M2200_THER_NEED_NBR',\n",
       "       'M2301_EMER_USE_AFTR_LAST_ASMT', 'M2401_INTRVTN_SMRY_DBTS_FT',\n",
       "       'M2401_INTRVTN_SMRY_DPRSN', 'M2401_INTRVTN_SMRY_FALL_PRVNT',\n",
       "       'M2401_INTRVTN_SMRY_PAIN_MNTR', 'M2401_INTRVTN_SMRY_PRSULC_PRVN',\n",
       "       'M2401_INTRVTN_SMRY_PRSULC_WET', 'M2410_INPAT_FACILITY'],\n",
       "      dtype='object')"
      ]
     },
     "execution_count": 283,
     "metadata": {},
     "output_type": "execute_result"
    }
   ],
   "source": [
    "df_events_int.columns"
   ]
  },
  {
   "cell_type": "code",
   "execution_count": 284,
   "id": "79eee9d9",
   "metadata": {
    "scrolled": true
   },
   "outputs": [
    {
     "data": {
      "text/html": [
       "\n",
       "        <iframe\n",
       "            width=\"100%\"\n",
       "            height=\"475\"\n",
       "            src=\"http://LAPTOP-3DIDAFIM:40000/dtale/iframe/60\"\n",
       "            frameborder=\"0\"\n",
       "            allowfullscreen\n",
       "            \n",
       "        ></iframe>\n",
       "        "
      ],
      "text/plain": [
       "<IPython.lib.display.IFrame at 0x7f6593985790>"
      ]
     },
     "metadata": {},
     "output_type": "display_data"
    },
    {
     "data": {
      "text/plain": []
     },
     "execution_count": 284,
     "metadata": {},
     "output_type": "execute_result"
    }
   ],
   "source": [
    "dtale.show(df_events_int)"
   ]
  },
  {
   "cell_type": "markdown",
   "id": "45918c80",
   "metadata": {},
   "source": [
    "<hr style=\"height:2px;border-width:0;color:black;background-color:black\">"
   ]
  },
  {
   "cell_type": "markdown",
   "id": "d253f0dd",
   "metadata": {},
   "source": [
    "<div class=\"alert alert-danger\" role=\"alert\">\n",
    "    <b>Convert Categorical Values and strings to Integers</b>\n",
    "</div>"
   ]
  },
  {
   "cell_type": "code",
   "execution_count": 285,
   "id": "6960a8e8",
   "metadata": {},
   "outputs": [],
   "source": [
    "df_events_int = df_events_int.fillna(0)\n",
    "df_events_int = df_events_int.replace('YES', 2)\n",
    "df_events_int = df_events_int.replace('NO', 1)\n"
   ]
  },
  {
   "cell_type": "markdown",
   "id": "47a93730",
   "metadata": {},
   "source": [
    "<div class=\"alert alert-danger\" role=\"alert\">\n",
    "    <b>Extract the integer from the event descriptions</b>\n",
    "</div>"
   ]
  },
  {
   "cell_type": "code",
   "execution_count": 286,
   "id": "6f15a817",
   "metadata": {},
   "outputs": [],
   "source": [
    "\n",
    "df_events_int['M0110_EPISODE_TIMING'] = df_events_int['M0110_EPISODE_TIMING'].replace({'EARLY':1 , 'LATER':2, 'NOT APPLICABLE':0, np.nan:0})"
   ]
  },
  {
   "cell_type": "code",
   "execution_count": 287,
   "id": "78b78bbe",
   "metadata": {},
   "outputs": [],
   "source": [
    "mask = df_events_int.select_dtypes(include=['object']).columns\n",
    "df_events_int.loc[:, mask] = df_events_int.loc[:, mask].apply(lambda x: x[mask.tolist()].str[:2].str.strip(), axis = 1).replace({'NA':0,np.nan:0, 'NAN':0, 'N/':0})"
   ]
  },
  {
   "cell_type": "code",
   "execution_count": 288,
   "id": "8fbba2e7",
   "metadata": {},
   "outputs": [],
   "source": [
    "for column in df_events_int:\n",
    "    if df_events_int[column].dtypes == object:\n",
    "        df_events_int[column]=df_events_int[column].astype(int)"
   ]
  },
  {
   "cell_type": "markdown",
   "id": "070fea56",
   "metadata": {},
   "source": [
    "<div class=\"alert alert-danger\" role=\"alert\">\n",
    "    <b>Verify All Feature Columns are either Int or Floats</b>\n",
    "</div>"
   ]
  },
  {
   "cell_type": "code",
   "execution_count": 289,
   "id": "fb54ed22",
   "metadata": {},
   "outputs": [
    {
     "data": {
      "text/plain": [
       "index                               int64\n",
       "M0100_ASSMT_REASON                  int64\n",
       "M0110_EPISODE_TIMING                int64\n",
       "M0140_ETHNIC_AI_AN                  int64\n",
       "M0140_ETHNIC_ASIAN                  int64\n",
       "M0140_ETHNIC_BLACK                  int64\n",
       "M0140_ETHNIC_HISP                   int64\n",
       "M0140_ETHNIC_NH_PI                  int64\n",
       "M0140_ETHNIC_WHITE                  int64\n",
       "M1000_DC_IPPS_14_DA                 int64\n",
       "M1000_DC_IRF_14_DA                  int64\n",
       "M1000_DC_LTC_14_DA                  int64\n",
       "M1000_DC_LTCH_14_DA                 int64\n",
       "M1000_DC_NONE_14_DA                 int64\n",
       "M1000_DC_OTH_14_DA                  int64\n",
       "M1000_DC_PSYCH_14_DA                int64\n",
       "M1000_DC_SNF_14_DA                  int64\n",
       "M1028_ACTV_DIAG_DM                  int64\n",
       "M1028_ACTV_DIAG_NOA                 int64\n",
       "M1028_ACTV_DIAG_PVD_PAD             int64\n",
       "M1030_THH_ENT_NUTRITION             int64\n",
       "M1030_THH_IV_INFUSION               int64\n",
       "M1030_THH_NONE_ABOVE                int64\n",
       "M1030_THH_PAR_NUTRITION             int64\n",
       "M1033_HOSP_RISK_5PLUS_MDCTN         int64\n",
       "M1033_HOSP_RISK_COMPLIANCE          int64\n",
       "M1033_HOSP_RISK_CRNT_EXHSTN         int64\n",
       "M1033_HOSP_RISK_HSTRY_FALLS         int64\n",
       "M1033_HOSP_RISK_MLTPL_ED_VISIT      int64\n",
       "M1033_HOSP_RISK_MLTPL_HOSPZTN       int64\n",
       "M1033_HOSP_RISK_MNTL_BHV_DCLN       int64\n",
       "M1033_HOSP_RISK_NONE_ABOVE          int64\n",
       "M1033_HOSP_RISK_OTHR_RISK           int64\n",
       "M1033_HOSP_RISK_WEIGHT_LOSS         int64\n",
       "M1051_PVX_RCVD_AGNCY                int64\n",
       "M1060_HEIGHT_A                    float64\n",
       "M1060_WEIGHT_B                    float64\n",
       "M1200_VISION                        int64\n",
       "M1242_PAIN_FREQ_ACTVTY_MVMT         int64\n",
       "M1306_UNHLD_STG2_PRSR_ULCR          int64\n",
       "M1322_NBR_PRSULC_STG1               int64\n",
       "M1324_STG_PRBLM_ULCER               int64\n",
       "M1330_STAS_ULCR_PRSNT               int64\n",
       "M1340_SRGCL_WND_PRSNT               int64\n",
       "M1400_WHEN_DYSPNEIC                 int64\n",
       "M1600_UTI                           int64\n",
       "M1610_UR_INCONT                     int64\n",
       "M1620_BWL_INCONT                    int64\n",
       "M1630_OSTOMY                        int64\n",
       "M1700_COG_FUNCTION                  int64\n",
       "M1710_WHEN_CONFUSED                 int64\n",
       "M1720_WHEN_ANXIOUS                  int64\n",
       "M1730_PHQ2_DPRSN                    int64\n",
       "M1730_PHQ2_LACK_INTRST              int64\n",
       "M1730_STDZ_DPRSN_SCRNG              int64\n",
       "M1740_BD_DELUSIONS                  int64\n",
       "M1740_BD_IMP_DECISN                 int64\n",
       "M1740_BD_MEM_DEFICIT                int64\n",
       "M1740_BD_NONE                       int64\n",
       "M1740_BD_PHYSICAL                   int64\n",
       "M1740_BD_SOC_INAPPRO                int64\n",
       "M1740_BD_VERBAL                     int64\n",
       "M1745_BEH_PROB_FREQ                 int64\n",
       "M1800_CRNT_GROOMING                 int64\n",
       "M1810_CRNT_DRESS_UPPER              int64\n",
       "M1820_CRNT_DRESS_LOWER              int64\n",
       "M1830_CRNT_BATHG                    int64\n",
       "M1840_CRNT_TOILTG                   int64\n",
       "M1845_CRNT_TOILTG_HYGN              int64\n",
       "M1850_CRNT_TRNSFRNG                 int64\n",
       "M1860_CRNT_AMBLTN                   int64\n",
       "M1870_CRNT_FEEDING                  int64\n",
       "M1910_MLT_FCTR_FALL_RISK_ASMT       int64\n",
       "M2001_DRUG_RGMN_RVW                 int64\n",
       "M2005_MDCTN_INTRVTN                 int64\n",
       "M2010_HIGH_RISK_DRUG_EDCTN          int64\n",
       "M2016_DRUG_EDCTN_INTRVTN            int64\n",
       "M2020_CRNT_MGMT_ORAL_MDCTN          int64\n",
       "M2030_CRNT_MGMT_INJCTN_MDCTN        int64\n",
       "M2102_CARE_TYPE_SRC_SPRVSN          int64\n",
       "M2200_THER_NEED_NA                  int64\n",
       "M2200_THER_NEED_NBR               float64\n",
       "M2301_EMER_USE_AFTR_LAST_ASMT       int64\n",
       "M2401_INTRVTN_SMRY_DBTS_FT          int64\n",
       "M2401_INTRVTN_SMRY_DPRSN            int64\n",
       "M2401_INTRVTN_SMRY_FALL_PRVNT       int64\n",
       "M2401_INTRVTN_SMRY_PAIN_MNTR        int64\n",
       "M2401_INTRVTN_SMRY_PRSULC_PRVN      int64\n",
       "M2401_INTRVTN_SMRY_PRSULC_WET       int64\n",
       "M2410_INPAT_FACILITY                int64\n",
       "dtype: object"
      ]
     },
     "execution_count": 289,
     "metadata": {},
     "output_type": "execute_result"
    }
   ],
   "source": [
    "df_events_int.dtypes"
   ]
  },
  {
   "cell_type": "markdown",
   "id": "91949cb1",
   "metadata": {},
   "source": [
    "<div class=\"alert alert-danger\" role=\"alert\">\n",
    "    <b>Combine the descriptive columns with the desired events</b>\n",
    "</div>"
   ]
  },
  {
   "cell_type": "code",
   "execution_count": 290,
   "id": "a6c6c1a6",
   "metadata": {},
   "outputs": [],
   "source": [
    "colsM = ['pa_id', 'epi_id', 'ceo_id', 'M0090_INFO_COMPLETED_DT']"
   ]
  },
  {
   "cell_type": "code",
   "execution_count": 291,
   "id": "4ea94190",
   "metadata": {},
   "outputs": [],
   "source": [
    "df_events = pd.concat([df[colsM], df_events_int], axis = 1).reset_index(drop=True).drop_duplicates().drop('index', axis=1, errors='ignore')#level=None, drop=False, inplace=False, col_level=0, col_fill=''"
   ]
  },
  {
   "cell_type": "code",
   "execution_count": 292,
   "id": "2e56be79",
   "metadata": {},
   "outputs": [
    {
     "data": {
      "text/html": [
       "\n",
       "        <iframe\n",
       "            width=\"100%\"\n",
       "            height=\"475\"\n",
       "            src=\"http://LAPTOP-3DIDAFIM:40000/dtale/iframe/61\"\n",
       "            frameborder=\"0\"\n",
       "            allowfullscreen\n",
       "            \n",
       "        ></iframe>\n",
       "        "
      ],
      "text/plain": [
       "<IPython.lib.display.IFrame at 0x7f65c351a820>"
      ]
     },
     "metadata": {},
     "output_type": "display_data"
    },
    {
     "data": {
      "text/plain": []
     },
     "execution_count": 292,
     "metadata": {},
     "output_type": "execute_result"
    }
   ],
   "source": [
    "dtale.show(df_events.head())"
   ]
  },
  {
   "cell_type": "code",
   "execution_count": 293,
   "id": "5821e7df",
   "metadata": {},
   "outputs": [
    {
     "data": {
      "text/html": [
       "\n",
       "        <iframe\n",
       "            width=\"100%\"\n",
       "            height=\"475\"\n",
       "            src=\"http://LAPTOP-3DIDAFIM:40000/dtale/iframe/62\"\n",
       "            frameborder=\"0\"\n",
       "            allowfullscreen\n",
       "            \n",
       "        ></iframe>\n",
       "        "
      ],
      "text/plain": [
       "<IPython.lib.display.IFrame at 0x7f66beda51c0>"
      ]
     },
     "metadata": {},
     "output_type": "display_data"
    },
    {
     "data": {
      "text/plain": []
     },
     "execution_count": 293,
     "metadata": {},
     "output_type": "execute_result"
    }
   ],
   "source": [
    "dtale.show(df_events.head(100))"
   ]
  },
  {
   "cell_type": "markdown",
   "id": "e9e8f5d4",
   "metadata": {},
   "source": [
    "<div class=\"alert alert-danger alert-info\">\n",
    "    <b>Convert from Wide to Long format</b>\n",
    "</div>"
   ]
  },
  {
   "cell_type": "code",
   "execution_count": 294,
   "id": "40d50489",
   "metadata": {},
   "outputs": [],
   "source": [
    "df_OASIS = df_events.melt(id_vars=colsM, var_name = 'OASIS')"
   ]
  },
  {
   "cell_type": "code",
   "execution_count": 295,
   "id": "219ed11c",
   "metadata": {},
   "outputs": [],
   "source": [
    "df_OASIS = df_OASIS.merge(event_mapping_df,left_on='OASIS', right_on='OASIS', how='left')"
   ]
  },
  {
   "cell_type": "code",
   "execution_count": 296,
   "id": "2cd95dff",
   "metadata": {},
   "outputs": [
    {
     "data": {
      "text/html": [
       "<div>\n",
       "<style scoped>\n",
       "    .dataframe tbody tr th:only-of-type {\n",
       "        vertical-align: middle;\n",
       "    }\n",
       "\n",
       "    .dataframe tbody tr th {\n",
       "        vertical-align: top;\n",
       "    }\n",
       "\n",
       "    .dataframe thead th {\n",
       "        text-align: right;\n",
       "    }\n",
       "</style>\n",
       "<table border=\"1\" class=\"dataframe\">\n",
       "  <thead>\n",
       "    <tr style=\"text-align: right;\">\n",
       "      <th></th>\n",
       "      <th>pa_id</th>\n",
       "      <th>epi_id</th>\n",
       "      <th>ceo_id</th>\n",
       "      <th>M0090_INFO_COMPLETED_DT</th>\n",
       "      <th>OASIS</th>\n",
       "      <th>value</th>\n",
       "      <th>itemID</th>\n",
       "    </tr>\n",
       "  </thead>\n",
       "  <tbody>\n",
       "  </tbody>\n",
       "</table>\n",
       "</div>"
      ],
      "text/plain": [
       "Empty DataFrame\n",
       "Columns: [pa_id, epi_id, ceo_id, M0090_INFO_COMPLETED_DT, OASIS, value, itemID]\n",
       "Index: []"
      ]
     },
     "execution_count": 296,
     "metadata": {},
     "output_type": "execute_result"
    }
   ],
   "source": [
    "df_OASIS[df_OASIS.itemID.isna()]\n"
   ]
  },
  {
   "cell_type": "markdown",
   "id": "a79b1b5d",
   "metadata": {},
   "source": [
    "<div class=\"alert alert-danger alert-info\">\n",
    "    <b>Convert itemID to Integers (this actually caused problems later on when serializing to JSON!!</b>\n",
    "</div>"
   ]
  },
  {
   "cell_type": "code",
   "execution_count": 297,
   "id": "d9432819",
   "metadata": {},
   "outputs": [],
   "source": [
    "#df_OASIS.fillna({'itemID':0,}, inplace=True)\n",
    "df_OASIS['itemID'] = df_OASIS['itemID'].apply(np.int64)\n",
    "\n",
    "np.where(~ItemID.isin([,]))"
   ]
  },
  {
   "cell_type": "markdown",
   "id": "810bc047",
   "metadata": {},
   "source": [
    "<div class=\"alert alert-danger alert-info\">\n",
    "    <b>Rearrange the columns to match MIMIC</b>\n",
    "</div>"
   ]
  },
  {
   "cell_type": "code",
   "execution_count": 298,
   "id": "ec19dc2e",
   "metadata": {},
   "outputs": [],
   "source": [
    "mid = df_OASIS['itemID']\n",
    "mid2 = df_OASIS['value']\n",
    "df_OASIS.drop(labels=['itemID', 'value'], axis=1, inplace = True)\n",
    "df_OASIS.insert(4, 'itemID', mid)\n",
    "df_OASIS.insert(5, 'value', mid2)"
   ]
  },
  {
   "cell_type": "code",
   "execution_count": 299,
   "id": "2545ecb8",
   "metadata": {
    "scrolled": true
   },
   "outputs": [
    {
     "data": {
      "text/plain": [
       "846479"
      ]
     },
     "execution_count": 299,
     "metadata": {},
     "output_type": "execute_result"
    },
    {
     "data": {
      "text/html": [
       "\n",
       "        <iframe\n",
       "            width=\"100%\"\n",
       "            height=\"475\"\n",
       "            src=\"http://LAPTOP-3DIDAFIM:40000/dtale/iframe/63\"\n",
       "            frameborder=\"0\"\n",
       "            allowfullscreen\n",
       "            \n",
       "        ></iframe>\n",
       "        "
      ],
      "text/plain": [
       "<IPython.lib.display.IFrame at 0x7f65c0e24a60>"
      ]
     },
     "metadata": {},
     "output_type": "display_data"
    },
    {
     "data": {
      "text/plain": []
     },
     "execution_count": 299,
     "metadata": {},
     "output_type": "execute_result"
    }
   ],
   "source": [
    "len(df_OASIS)\n",
    "#df_OASIS.head()\n",
    "dtale.show(df_OASIS.head(1000))"
   ]
  },
  {
   "cell_type": "markdown",
   "id": "1e121425",
   "metadata": {},
   "source": [
    "<div class=\"alert alert-danger alert-info\">\n",
    "    <b>Export to CSV</b>\n",
    "</div>"
   ]
  },
  {
   "cell_type": "code",
   "execution_count": 301,
   "id": "caf7dae8",
   "metadata": {},
   "outputs": [],
   "source": [
    "df_OASIS.to_csv(csvStore+'/df_OASIS.csv', sep=',', encoding='utf-8', index=False)"
   ]
  },
  {
   "cell_type": "markdown",
   "id": "5f93f0ba",
   "metadata": {},
   "source": [
    "<hr style=\"height:2px;border-width:0;color:black;background-color:black\">"
   ]
  },
  {
   "cell_type": "markdown",
   "id": "96d02737",
   "metadata": {},
   "source": [
    "<div class=\"alert alert-success\" role=\"alert\">\n",
    "  Create an visits df\n",
    "</div>"
   ]
  },
  {
   "cell_type": "code",
   "execution_count": 302,
   "id": "60246c34",
   "metadata": {},
   "outputs": [],
   "source": [
    "dfv = df.set_index(['pa_id', 'epi_id', 'ceo_id'])#[['M0090_INFO_COMPLETED_DT', 'M0100_ASSMT_REASON']]"
   ]
  },
  {
   "cell_type": "code",
   "execution_count": 303,
   "id": "14a4a7de",
   "metadata": {},
   "outputs": [
    {
     "data": {
      "text/html": [
       "\n",
       "        <iframe\n",
       "            width=\"100%\"\n",
       "            height=\"475\"\n",
       "            src=\"http://LAPTOP-3DIDAFIM:40000/dtale/iframe/64\"\n",
       "            frameborder=\"0\"\n",
       "            allowfullscreen\n",
       "            \n",
       "        ></iframe>\n",
       "        "
      ],
      "text/plain": [
       "<IPython.lib.display.IFrame at 0x7f65939f0e50>"
      ]
     },
     "metadata": {},
     "output_type": "display_data"
    },
    {
     "data": {
      "text/plain": []
     },
     "execution_count": 303,
     "metadata": {},
     "output_type": "execute_result"
    }
   ],
   "source": [
    "dtale.show(df[['M0090_INFO_COMPLETED_DT', 'M0100_ASSMT_REASON']].reset_index().drop_duplicates())"
   ]
  },
  {
   "cell_type": "code",
   "execution_count": 304,
   "id": "699065d3",
   "metadata": {},
   "outputs": [],
   "source": [
    "df_visits = dfv[['M0090_INFO_COMPLETED_DT', 'M0100_ASSMT_REASON']].reset_index().drop('index', axis=1, errors='ignore').duplicated(keep=False)"
   ]
  },
  {
   "cell_type": "code",
   "execution_count": 305,
   "id": "085e3caa",
   "metadata": {},
   "outputs": [
    {
     "data": {
      "text/html": [
       "\n",
       "        <iframe\n",
       "            width=\"100%\"\n",
       "            height=\"475\"\n",
       "            src=\"http://LAPTOP-3DIDAFIM:40000/dtale/iframe/65\"\n",
       "            frameborder=\"0\"\n",
       "            allowfullscreen\n",
       "            \n",
       "        ></iframe>\n",
       "        "
      ],
      "text/plain": [
       "<IPython.lib.display.IFrame at 0x7f65c3519760>"
      ]
     },
     "metadata": {},
     "output_type": "display_data"
    },
    {
     "data": {
      "text/plain": []
     },
     "execution_count": 305,
     "metadata": {},
     "output_type": "execute_result"
    }
   ],
   "source": [
    "dtale.show(df[df_visits][['pa_id', 'epi_id', 'ceo_id','M0090_INFO_COMPLETED_DT', 'M0100_ASSMT_REASON']])"
   ]
  },
  {
   "cell_type": "code",
   "execution_count": 306,
   "id": "c8ca15ec",
   "metadata": {},
   "outputs": [],
   "source": [
    "df_visits = dfv[['M0090_INFO_COMPLETED_DT', 'M0100_ASSMT_REASON']].reset_index().drop('index', axis=1, errors='ignore').drop_duplicates().reset_index().drop('index', axis=1, errors='ignore')"
   ]
  },
  {
   "cell_type": "code",
   "execution_count": 307,
   "id": "486342e9",
   "metadata": {},
   "outputs": [
    {
     "data": {
      "text/html": [
       "\n",
       "        <iframe\n",
       "            width=\"100%\"\n",
       "            height=\"475\"\n",
       "            src=\"http://LAPTOP-3DIDAFIM:40000/dtale/iframe/66\"\n",
       "            frameborder=\"0\"\n",
       "            allowfullscreen\n",
       "            \n",
       "        ></iframe>\n",
       "        "
      ],
      "text/plain": [
       "<IPython.lib.display.IFrame at 0x7f65c351be20>"
      ]
     },
     "metadata": {},
     "output_type": "display_data"
    },
    {
     "data": {
      "text/plain": []
     },
     "execution_count": 307,
     "metadata": {},
     "output_type": "execute_result"
    }
   ],
   "source": [
    "dtale.show(df_visits) #'epi_StartOfEpisode', 'epi_EndOfEpisode', 'epi_DischargeDate', "
   ]
  },
  {
   "cell_type": "code",
   "execution_count": 308,
   "id": "32856641",
   "metadata": {},
   "outputs": [],
   "source": [
    "df_visits.to_csv(csvStore+'/df_visits.csv', sep=',', encoding='utf-8', index=False)"
   ]
  },
  {
   "cell_type": "markdown",
   "id": "1efd9b16",
   "metadata": {},
   "source": [
    "<hr style=\"height:2px;border-width:0;color:black;background-color:black\">"
   ]
  },
  {
   "cell_type": "markdown",
   "id": "0a80dd5f",
   "metadata": {},
   "source": [
    "<div class=\"alert alert-success\" role=\"alert\">\n",
    "  Create an episodes df\n",
    "</div>"
   ]
  },
  {
   "cell_type": "code",
   "execution_count": 309,
   "id": "958b83fb",
   "metadata": {},
   "outputs": [],
   "source": [
    "dfe = df.set_index(['pa_id', 'epi_id'])#[['M0090_INFO_COMPLETED_DT', 'M0100_ASSMT_REASON']]"
   ]
  },
  {
   "cell_type": "code",
   "execution_count": 310,
   "id": "542d5d70",
   "metadata": {},
   "outputs": [],
   "source": [
    "df_episodes = dfe[['mortality','epi_StartOfEpisode', 'epi_EndOfEpisode', 'epi_DischargeDate', 'epi_AdmitType',  'dcc_desc', 'dcr_desc', 'icd_code', 'icd_code_description']].reset_index().drop('index', axis=1, errors='ignore').drop_duplicates().reset_index().drop('index', axis=1, errors='ignore')"
   ]
  },
  {
   "cell_type": "code",
   "execution_count": 311,
   "id": "c3ad17bc",
   "metadata": {},
   "outputs": [
    {
     "data": {
      "text/plain": [
       "1"
      ]
     },
     "execution_count": 311,
     "metadata": {},
     "output_type": "execute_result"
    }
   ],
   "source": [
    "int(~pd.isna(df_episodes.epi_DischargeDate).values[0])"
   ]
  },
  {
   "cell_type": "code",
   "execution_count": 312,
   "id": "89f963f4",
   "metadata": {},
   "outputs": [
    {
     "data": {
      "text/html": [
       "\n",
       "        <iframe\n",
       "            width=\"100%\"\n",
       "            height=\"475\"\n",
       "            src=\"http://LAPTOP-3DIDAFIM:40000/dtale/iframe/67\"\n",
       "            frameborder=\"0\"\n",
       "            allowfullscreen\n",
       "            \n",
       "        ></iframe>\n",
       "        "
      ],
      "text/plain": [
       "<IPython.lib.display.IFrame at 0x7f65c3515d90>"
      ]
     },
     "metadata": {},
     "output_type": "display_data"
    },
    {
     "data": {
      "text/plain": []
     },
     "execution_count": 312,
     "metadata": {},
     "output_type": "execute_result"
    }
   ],
   "source": [
    "dtale.show(df_episodes)"
   ]
  },
  {
   "cell_type": "code",
   "execution_count": 313,
   "id": "4ed36eac",
   "metadata": {},
   "outputs": [],
   "source": [
    "df_episodes.to_csv(csvStore+'/df_episode.csv', sep=',', encoding='utf-8', index=False)"
   ]
  },
  {
   "cell_type": "markdown",
   "id": "138a7790",
   "metadata": {},
   "source": [
    "<hr style=\"height:2px;border-width:0;color:black;background-color:black\">"
   ]
  },
  {
   "cell_type": "code",
   "execution_count": 314,
   "id": "a4b956a8",
   "metadata": {},
   "outputs": [
    {
     "name": "stdout",
     "output_type": "stream",
     "text": [
      "<class 'pandas.core.frame.DataFrame'>\n",
      "RangeIndex: 3128 entries, 0 to 3127\n",
      "Data columns (total 9 columns):\n",
      " #   Column                Non-Null Count  Dtype         \n",
      "---  ------                --------------  -----         \n",
      " 0   pa_id                 3128 non-null   int64         \n",
      " 1   DispositionId         3128 non-null   int64         \n",
      " 2   pa_gender             3128 non-null   object        \n",
      " 3   year_born             3128 non-null   int64         \n",
      " 4   M0906_DC_TRAN_DTH_DT  2932 non-null   datetime64[ns]\n",
      " 5   mortality             3128 non-null   int64         \n",
      " 6   cedd_dateofdeath      2841 non-null   datetime64[ns]\n",
      " 7   yod                   3128 non-null   int64         \n",
      " 8   aod                   3128 non-null   int64         \n",
      "dtypes: datetime64[ns](2), int64(6), object(1)\n",
      "memory usage: 220.1+ KB\n"
     ]
    }
   ],
   "source": [
    "df_patients.info()"
   ]
  },
  {
   "cell_type": "code",
   "execution_count": 315,
   "id": "1b238639",
   "metadata": {},
   "outputs": [
    {
     "name": "stdout",
     "output_type": "stream",
     "text": [
      "<class 'pandas.core.frame.DataFrame'>\n",
      "RangeIndex: 4575 entries, 0 to 4574\n",
      "Data columns (total 11 columns):\n",
      " #   Column                Non-Null Count  Dtype         \n",
      "---  ------                --------------  -----         \n",
      " 0   pa_id                 4575 non-null   int64         \n",
      " 1   epi_id                4575 non-null   int64         \n",
      " 2   mortality             4575 non-null   int64         \n",
      " 3   epi_StartOfEpisode    4575 non-null   datetime64[ns]\n",
      " 4   epi_EndOfEpisode      4575 non-null   datetime64[ns]\n",
      " 5   epi_DischargeDate     3557 non-null   datetime64[ns]\n",
      " 6   epi_AdmitType         4575 non-null   object        \n",
      " 7   dcc_desc              4571 non-null   object        \n",
      " 8   dcr_desc              4571 non-null   object        \n",
      " 9   icd_code              4420 non-null   object        \n",
      " 10  icd_code_description  4420 non-null   object        \n",
      "dtypes: datetime64[ns](3), int64(3), object(5)\n",
      "memory usage: 393.3+ KB\n"
     ]
    }
   ],
   "source": [
    "df_episodes.info()"
   ]
  },
  {
   "cell_type": "code",
   "execution_count": 316,
   "id": "61ed2334",
   "metadata": {},
   "outputs": [
    {
     "name": "stdout",
     "output_type": "stream",
     "text": [
      "<class 'pandas.core.frame.DataFrame'>\n",
      "RangeIndex: 9023 entries, 0 to 9022\n",
      "Data columns (total 5 columns):\n",
      " #   Column                   Non-Null Count  Dtype         \n",
      "---  ------                   --------------  -----         \n",
      " 0   pa_id                    9023 non-null   int64         \n",
      " 1   epi_id                   9023 non-null   int64         \n",
      " 2   ceo_id                   9023 non-null   int64         \n",
      " 3   M0090_INFO_COMPLETED_DT  9023 non-null   datetime64[ns]\n",
      " 4   M0100_ASSMT_REASON       9023 non-null   object        \n",
      "dtypes: datetime64[ns](1), int64(3), object(1)\n",
      "memory usage: 352.6+ KB\n"
     ]
    }
   ],
   "source": [
    "df_visits.info()"
   ]
  },
  {
   "cell_type": "code",
   "execution_count": 318,
   "id": "0bff99fc",
   "metadata": {},
   "outputs": [
    {
     "name": "stdout",
     "output_type": "stream",
     "text": [
      "<class 'pandas.core.frame.DataFrame'>\n",
      "Int64Index: 846479 entries, 0 to 846478\n",
      "Data columns (total 7 columns):\n",
      " #   Column                   Non-Null Count   Dtype         \n",
      "---  ------                   --------------   -----         \n",
      " 0   pa_id                    846479 non-null  int64         \n",
      " 1   epi_id                   846479 non-null  int64         \n",
      " 2   ceo_id                   846479 non-null  int64         \n",
      " 3   M0090_INFO_COMPLETED_DT  846479 non-null  datetime64[ns]\n",
      " 4   itemID                   846479 non-null  int64         \n",
      " 5   value                    846479 non-null  float64       \n",
      " 6   OASIS                    846479 non-null  object        \n",
      "dtypes: datetime64[ns](1), float64(1), int64(4), object(1)\n",
      "memory usage: 51.7+ MB\n"
     ]
    }
   ],
   "source": [
    "df_OASIS.info()"
   ]
  },
  {
   "cell_type": "code",
   "execution_count": null,
   "id": "eef542b4",
   "metadata": {},
   "outputs": [],
   "source": []
  },
  {
   "cell_type": "code",
   "execution_count": null,
   "id": "2c86a9d2",
   "metadata": {},
   "outputs": [],
   "source": []
  }
 ],
 "metadata": {
  "kernelspec": {
   "display_name": "Python [conda env:rapids-22.02]",
   "language": "python",
   "name": "conda-env-rapids-22.02-py"
  },
  "language_info": {
   "codemirror_mode": {
    "name": "ipython",
    "version": 3
   },
   "file_extension": ".py",
   "mimetype": "text/x-python",
   "name": "python",
   "nbconvert_exporter": "python",
   "pygments_lexer": "ipython3",
   "version": "3.8.12"
  }
 },
 "nbformat": 4,
 "nbformat_minor": 5
}
