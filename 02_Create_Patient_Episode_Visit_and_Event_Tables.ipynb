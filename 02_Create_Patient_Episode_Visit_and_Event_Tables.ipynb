{
 "cells": [
  {
   "cell_type": "markdown",
   "id": "b1e3ade0",
   "metadata": {},
   "source": [
    "<div class=\"alert alert-block alert-info\">\n",
    "     <b>Import Modules Needed</b> <i>(need pandas >= 1.2 and python >= 3.9.0 for all the data cleaning techniques to work)</i>\n",
    "</div>"
   ]
  },
  {
   "cell_type": "code",
   "execution_count": 1,
   "id": "9ecfe589",
   "metadata": {},
   "outputs": [],
   "source": [
    "import pandas as  pd\n",
    "import os\n",
    "import sweetviz as sv\n",
    "import numpy as np\n",
    "import dtale\n",
    "import cudf\n",
    "import dask_cudf\n",
    "\n",
    "#!pip install git+https://github.com/innovationOUtside/fstring-magic.git"
   ]
  },
  {
   "cell_type": "markdown",
   "id": "c242ff46",
   "metadata": {},
   "source": [
    "<div class=\"alert alert-block alert-info\">\n",
    "    <b>Jupyter Plumbing</b>\n",
    "</div>\n"
   ]
  },
  {
   "cell_type": "code",
   "execution_count": 2,
   "id": "8bb5b14c",
   "metadata": {},
   "outputs": [
    {
     "data": {
      "text/html": [
       "<style>.container { width:100% !important; }</style>"
      ],
      "text/plain": [
       "<IPython.core.display.HTML object>"
      ]
     },
     "metadata": {},
     "output_type": "display_data"
    }
   ],
   "source": [
    "# %load C:\\users\\derek\\.jupyter\\startup.py\n",
    "from IPython.core.interactiveshell import InteractiveShell\n",
    "InteractiveShell.ast_node_interactivity = \"all\"\n",
    "\n",
    "from IPython.core.display import display, HTML\n",
    "display(HTML(\"<style>.container { width:100% !important; }</style>\"))\n",
    "\n",
    "#pd.set_option('display.max_colwidth', 100)\n",
    "\n",
    "pd.set_option('display.max_colwidth', None)\n",
    "\n",
    "\n",
    "\n",
    "pd.set_option(\"display.max_rows\", None)\n",
    "\n",
    "pd.options.display.max_columns = 500\n",
    "\n",
    "pd.options.display.max_seq_items = 500\n",
    "\n"
   ]
  },
  {
   "cell_type": "markdown",
   "id": "056621e6",
   "metadata": {},
   "source": [
    "<div class=\"alert alert-block alert-info\">\n",
    "    <b>Find CSV Files in working dir</b>\n",
    "</div>"
   ]
  },
  {
   "cell_type": "code",
   "execution_count": 3,
   "id": "2e5ccc11",
   "metadata": {},
   "outputs": [
    {
     "name": "stdout",
     "output_type": "stream",
     "text": [
      "/df_visits.csv\n",
      "/df_episode.csv\n",
      "/final.csv\n",
      "/df_OASIS.csv\n",
      "/dead_patients_final.csv\n",
      "/orig_data2.csv\n",
      "/eliminated.csv\n",
      "/orig_data.csv\n",
      "/cleaned_data.csv\n",
      "/event_mapping_df.csv\n",
      "/du.csv\n",
      "/36693_135410.csv\n",
      "/df_episodes3.csv\n",
      "/36693_135410_episode.csv\n",
      "/df_episodes4.csv\n",
      "/patients.csv\n",
      "/soc.csv\n",
      "/alive_patients_final.csv\n",
      "/df_episodes2.csv\n",
      "/deduped_complete.csv\n"
     ]
    }
   ],
   "source": [
    "for file in os.listdir():\n",
    "    if file.endswith(\".csv\"):\n",
    "        print(os.path.join(\"/\", file))"
   ]
  },
  {
   "cell_type": "markdown",
   "id": "39e0c9f4",
   "metadata": {},
   "source": [
    "<div class=\"alert alert-block alert-info\">\n",
    "    <b>Import the raw data</b>\n",
    "</div>"
   ]
  },
  {
   "cell_type": "code",
   "execution_count": 4,
   "id": "e3ecd911",
   "metadata": {},
   "outputs": [],
   "source": [
    "df = pd.read_csv('final.csv').iloc[: , 2:]\n"
   ]
  },
  {
   "cell_type": "markdown",
   "id": "3b537621",
   "metadata": {},
   "source": [
    "<div class=\"alert alert-block alert-info\">\n",
    "    <b>Find Columns that contain mixed data types to investigate for possible data quality issues</b>\n",
    "</div>\n"
   ]
  },
  {
   "cell_type": "code",
   "execution_count": 5,
   "id": "ef2887ff",
   "metadata": {},
   "outputs": [],
   "source": [
    "if mixed_dtypes := {c: dtype for c in df.columns if (dtype := pd.api.types.infer_dtype(df[c])).startswith(\"mixed\")}:\n",
    "    raise TypeError(f\"Dataframe has one more mixed dtypes: {mixed_dtypes}\")"
   ]
  },
  {
   "cell_type": "markdown",
   "id": "3c3cd129",
   "metadata": {},
   "source": [
    "<div class=\"alert alert-block alert-info\">\n",
    "    <b>Find Columns with Dates and convert them to datetime type</b>\n",
    "</div>"
   ]
  },
  {
   "cell_type": "code",
   "execution_count": 6,
   "id": "eeb7b8ef",
   "metadata": {},
   "outputs": [
    {
     "data": {
      "text/plain": [
       "Index(['epi_SocDate', 'epi_StartOfEpisode', 'epi_EndOfEpisode',\n",
       "       'epi_DischargeDate', 'M0906_DC_TRAN_DTH_DT', 'M0090_INFO_COMPLETED_DT',\n",
       "       'cedd_dateofdeath'],\n",
       "      dtype='object')"
      ]
     },
     "execution_count": 6,
     "metadata": {},
     "output_type": "execute_result"
    }
   ],
   "source": [
    "cols_w_dates = df.columns[(df.columns.str.contains('DT', case=False) | df.columns.str.contains('date', case=False) | df.columns.str.contains('OFEPISODE', case=False))] \n",
    "df[cols_w_dates] = df[cols_w_dates].apply(pd.to_datetime)\n",
    "cols_w_dates\n"
   ]
  },
  {
   "cell_type": "markdown",
   "id": "e1d7db67",
   "metadata": {},
   "source": [
    "<div class=\"alert alert-block alert-info\">\n",
    "    <b>Break up columns</b>\n",
    "</div>"
   ]
  },
  {
   "cell_type": "code",
   "execution_count": 7,
   "id": "d8b20dc1",
   "metadata": {},
   "outputs": [
    {
     "data": {
      "text/plain": [
       "Index(['DispositionId', 'mortality', 'pa_id', 'year_born', 'pa_gender',\n",
       "       'epi_id', 'ceo_id', 'epi_SocDate', 'epi_StartOfEpisode',\n",
       "       'epi_EndOfEpisode', 'epi_DischargeDate', 'M0906_DC_TRAN_DTH_DT',\n",
       "       'M0090_INFO_COMPLETED_DT', 'cedd_dateofdeath', 'DaysToDeath',\n",
       "       'epi_AdmitType', 'dcc_desc', 'epi_dcrid', 'dcr_desc', 'ceo_HIPPS',\n",
       "       'ceo_HHRG', 'ceas_ascode', 'icd_code', 'icd_code_description',\n",
       "       'DiagnosisCategory', 'RoughAge', 'ceo_OASIScorrectionnum',\n",
       "       'M0100_ASSMT_REASON'],\n",
       "      dtype='object')"
      ]
     },
     "execution_count": 7,
     "metadata": {},
     "output_type": "execute_result"
    },
    {
     "data": {
      "text/plain": [
       "Index(['M0110_EPISODE_TIMING', 'M0140_ETHNIC_AI_AN', 'M0140_ETHNIC_ASIAN',\n",
       "       'M0140_ETHNIC_BLACK', 'M0140_ETHNIC_HISP', 'M0140_ETHNIC_NH_PI',\n",
       "       'M0140_ETHNIC_WHITE', 'M1000_DC_IPPS_14_DA', 'M1000_DC_IRF_14_DA',\n",
       "       'M1000_DC_LTC_14_DA', 'M1000_DC_LTCH_14_DA', 'M1000_DC_NONE_14_DA',\n",
       "       'M1000_DC_OTH_14_DA', 'M1000_DC_PSYCH_14_DA', 'M1000_DC_SNF_14_DA',\n",
       "       'M1028_ACTV_DIAG_DM', 'M1028_ACTV_DIAG_NOA', 'M1028_ACTV_DIAG_PVD_PAD',\n",
       "       'M1030_THH_ENT_NUTRITION', 'M1030_THH_IV_INFUSION',\n",
       "       'M1030_THH_NONE_ABOVE', 'M1030_THH_PAR_NUTRITION',\n",
       "       'M1033_HOSP_RISK_5PLUS_MDCTN', 'M1033_HOSP_RISK_COMPLIANCE',\n",
       "       'M1033_HOSP_RISK_CRNT_EXHSTN', 'M1033_HOSP_RISK_HSTRY_FALLS',\n",
       "       'M1033_HOSP_RISK_MLTPL_ED_VISIT', 'M1033_HOSP_RISK_MLTPL_HOSPZTN',\n",
       "       'M1033_HOSP_RISK_MNTL_BHV_DCLN', 'M1033_HOSP_RISK_NONE_ABOVE',\n",
       "       'M1033_HOSP_RISK_OTHR_RISK', 'M1033_HOSP_RISK_WEIGHT_LOSS',\n",
       "       'M1051_PVX_RCVD_AGNCY', 'M1060_HEIGHT_A', 'M1060_WEIGHT_B',\n",
       "       'M1200_VISION', 'M1242_PAIN_FREQ_ACTVTY_MVMT',\n",
       "       'M1306_UNHLD_STG2_PRSR_ULCR', 'M1322_NBR_PRSULC_STG1',\n",
       "       'M1324_STG_PRBLM_ULCER', 'M1330_STAS_ULCR_PRSNT',\n",
       "       'M1340_SRGCL_WND_PRSNT', 'M1400_WHEN_DYSPNEIC', 'M1600_UTI',\n",
       "       'M1610_UR_INCONT', 'M1620_BWL_INCONT', 'M1630_OSTOMY',\n",
       "       'M1700_COG_FUNCTION', 'M1710_WHEN_CONFUSED', 'M1720_WHEN_ANXIOUS',\n",
       "       'M1730_PHQ2_DPRSN', 'M1730_PHQ2_LACK_INTRST', 'M1730_STDZ_DPRSN_SCRNG',\n",
       "       'M1740_BD_DELUSIONS', 'M1740_BD_IMP_DECISN', 'M1740_BD_MEM_DEFICIT',\n",
       "       'M1740_BD_NONE', 'M1740_BD_PHYSICAL', 'M1740_BD_SOC_INAPPRO',\n",
       "       'M1740_BD_VERBAL', 'M1745_BEH_PROB_FREQ', 'M1800_CRNT_GROOMING',\n",
       "       'M1810_CRNT_DRESS_UPPER', 'M1820_CRNT_DRESS_LOWER', 'M1830_CRNT_BATHG',\n",
       "       'M1840_CRNT_TOILTG', 'M1845_CRNT_TOILTG_HYGN', 'M1850_CRNT_TRNSFRNG',\n",
       "       'M1860_CRNT_AMBLTN', 'M1870_CRNT_FEEDING',\n",
       "       'M1910_MLT_FCTR_FALL_RISK_ASMT', 'M2001_DRUG_RGMN_RVW',\n",
       "       'M2005_MDCTN_INTRVTN', 'M2010_HIGH_RISK_DRUG_EDCTN',\n",
       "       'M2016_DRUG_EDCTN_INTRVTN', 'M2020_CRNT_MGMT_ORAL_MDCTN',\n",
       "       'M2030_CRNT_MGMT_INJCTN_MDCTN', 'M2102_CARE_TYPE_SRC_SPRVSN',\n",
       "       'M2200_THER_NEED_NA', 'M2200_THER_NEED_NBR',\n",
       "       'M2301_EMER_USE_AFTR_LAST_ASMT', 'M2401_INTRVTN_SMRY_DBTS_FT',\n",
       "       'M2401_INTRVTN_SMRY_DPRSN', 'M2401_INTRVTN_SMRY_FALL_PRVNT',\n",
       "       'M2401_INTRVTN_SMRY_PAIN_MNTR', 'M2401_INTRVTN_SMRY_PRSULC_PRVN',\n",
       "       'M2401_INTRVTN_SMRY_PRSULC_WET', 'M2410_INPAT_FACILITY'],\n",
       "      dtype='object')"
      ]
     },
     "execution_count": 7,
     "metadata": {},
     "output_type": "execute_result"
    }
   ],
   "source": [
    "# Descriptive IDs\n",
    "df.columns[:28]\n",
    "colsMeta = df.columns[:26]\n",
    "# OASIS Factors\n",
    "df.columns[28:]\n",
    "colsOASIS = df.columns[26:]"
   ]
  },
  {
   "cell_type": "markdown",
   "id": "e58d1e37",
   "metadata": {},
   "source": [
    "<div class=\"alert alert-block alert-info\">\n",
    "    <b>Important Summary Stats</b>\n",
    "</div>"
   ]
  },
  {
   "cell_type": "code",
   "execution_count": 8,
   "id": "ed633d9a",
   "metadata": {},
   "outputs": [
    {
     "data": {
      "text/plain": [
       "'There are 1918 patients'"
      ]
     },
     "execution_count": 8,
     "metadata": {},
     "output_type": "execute_result"
    },
    {
     "data": {
      "text/plain": [
       "'Alive: 159 | Dead: 1759'"
      ]
     },
     "execution_count": 8,
     "metadata": {},
     "output_type": "execute_result"
    }
   ],
   "source": [
    "f\"There are {df.groupby('DispositionId').agg({'pa_id': 'nunique'}).sum().values[0]} patients\"\n",
    "\n",
    "f\"Alive: {df.groupby('mortality').agg({'pa_id': 'nunique'}).iloc[0,0]} | Dead: {df.groupby('mortality').agg({'pa_id': 'nunique'}).iloc[1,0]}\""
   ]
  },
  {
   "cell_type": "markdown",
   "id": "0dfce62a",
   "metadata": {},
   "source": [
    "<hr style=\"height:2px;border-width:0;color:black;background-color:black\">"
   ]
  },
  {
   "cell_type": "markdown",
   "id": "7519aa3f",
   "metadata": {},
   "source": [
    "<div class=\"alert alert-info\" role=\"alert\">\n",
    "    <b>Create a patients df and populate the death date by taking the most recent dates</b>\n",
    "</div>"
   ]
  },
  {
   "cell_type": "code",
   "execution_count": 9,
   "id": "7aa540fb",
   "metadata": {},
   "outputs": [
    {
     "data": {
      "text/plain": [
       "1918"
      ]
     },
     "execution_count": 9,
     "metadata": {},
     "output_type": "execute_result"
    }
   ],
   "source": [
    "len(df.groupby(['pa_id'])['pa_id','DispositionId','pa_gender','year_born', 'M0906_DC_TRAN_DTH_DT', 'mortality'].transform('max').drop_duplicates('pa_id'))\n",
    "\n",
    "df_patients = df.groupby(['pa_id'])['pa_id', 'DispositionId' , 'pa_gender','year_born', 'M0906_DC_TRAN_DTH_DT', 'mortality', 'cedd_dateofdeath'].transform('max').drop_duplicates('pa_id').reset_index(drop=True)"
   ]
  },
  {
   "cell_type": "markdown",
   "id": "d538057a",
   "metadata": {},
   "source": [
    "<div class=\"alert alert-info\" role=\"alert\">\n",
    "    <b>If no cedd_dateofdeath is provided then use the 'M0906_DC_TRAN_DTH_DT' </b>\n",
    "</div>"
   ]
  },
  {
   "cell_type": "code",
   "execution_count": 10,
   "id": "da315f11",
   "metadata": {},
   "outputs": [],
   "source": [
    "df_patients['cedd_dateofdeath'].where(((df_patients.mortality == 0) | (~df_patients.cedd_dateofdeath.isnull())), (df_patients['M0906_DC_TRAN_DTH_DT']), inplace=True)"
   ]
  },
  {
   "cell_type": "markdown",
   "id": "9bc2d215",
   "metadata": {},
   "source": [
    "<div class=\"alert alert-info\" role=\"alert\">\n",
    "    <b>Create a Year of Death + Age at Death column</b>\n",
    "</div>"
   ]
  },
  {
   "cell_type": "code",
   "execution_count": 11,
   "id": "cadadc2d",
   "metadata": {},
   "outputs": [],
   "source": [
    "df_patients['yod']= pd.DatetimeIndex(df_patients['cedd_dateofdeath']).year\n",
    "df_patients['aod'] = df_patients['yod'] - df_patients['year_born']\n"
   ]
  },
  {
   "cell_type": "markdown",
   "id": "3521e1f4",
   "metadata": {},
   "source": [
    "<div class=\"alert alert-info\" role=\"alert\">\n",
    "    <b>Convert YOD and AAD into integers</b>\n",
    "</div>"
   ]
  },
  {
   "cell_type": "code",
   "execution_count": 12,
   "id": "19d433fb",
   "metadata": {},
   "outputs": [],
   "source": [
    "#df_patients.fillna({'cedd_dateofdeath':0,}, inplace=True)\n",
    "df_patients.fillna({'yod':0,}, inplace=True)\n",
    "df_patients[\"yod\"] = df_patients[\"yod\"].apply(np.int64)\n",
    "df_patients.fillna({'aod':0,}, inplace=True)\n",
    "df_patients['aod'] = df_patients['aod'].apply(np.int64)"
   ]
  },
  {
   "cell_type": "code",
   "execution_count": 13,
   "id": "93f7b247",
   "metadata": {},
   "outputs": [
    {
     "data": {
      "text/html": [
       "\n",
       "        <iframe\n",
       "            width=\"100%\"\n",
       "            height=\"475\"\n",
       "            src=\"http://LAPTOP-3DIDAFIM:40000/dtale/iframe/1\"\n",
       "            frameborder=\"0\"\n",
       "            allowfullscreen\n",
       "            \n",
       "        ></iframe>\n",
       "        "
      ],
      "text/plain": [
       "<IPython.lib.display.IFrame at 0x7ffbddcb9130>"
      ]
     },
     "metadata": {},
     "output_type": "display_data"
    },
    {
     "data": {
      "text/plain": []
     },
     "execution_count": 13,
     "metadata": {},
     "output_type": "execute_result"
    }
   ],
   "source": [
    "dtale.show(df_patients)"
   ]
  },
  {
   "cell_type": "markdown",
   "id": "5c2f2f8d",
   "metadata": {},
   "source": [
    "<div class=\"alert alert-info\" role=\"alert\">\n",
    "    <b>Export df_patients to .csv</b>\n",
    "</div>"
   ]
  },
  {
   "cell_type": "code",
   "execution_count": 14,
   "id": "d3d8f832",
   "metadata": {},
   "outputs": [],
   "source": [
    "df_patients.to_csv('patients.csv', sep=',', encoding='utf-8', index=False)"
   ]
  },
  {
   "cell_type": "markdown",
   "id": "ea3ca53d",
   "metadata": {},
   "source": [
    "<hr style=\"height:2px;border-width:0;color:black;background-color:black\">"
   ]
  },
  {
   "cell_type": "markdown",
   "id": "4efd741e",
   "metadata": {},
   "source": [
    "<div class=\"alert alert-warning\" role=\"alert\">\n",
    "    <b>Find Best Columns to Use for Event Data </b>\n",
    "</div>"
   ]
  },
  {
   "cell_type": "code",
   "execution_count": 15,
   "id": "4a86e3d4",
   "metadata": {
    "scrolled": true
   },
   "outputs": [
    {
     "data": {
      "text/plain": [
       "M1060_WEIGHT_B                    0.955335\n",
       "M1060_HEIGHT_A                    0.952854\n",
       "M1730_PHQ2_LACK_INTRST            0.920596\n",
       "M1730_PHQ2_DPRSN                  0.920596\n",
       "M1000_DC_OTH_14_DA                0.913151\n",
       "M1910_MLT_FCTR_FALL_RISK_ASMT     0.913151\n",
       "M2001_DRUG_RGMN_RVW               0.913151\n",
       "M2010_HIGH_RISK_DRUG_EDCTN        0.913151\n",
       "M1730_STDZ_DPRSN_SCRNG            0.913151\n",
       "M1028_ACTV_DIAG_PVD_PAD           0.913151\n",
       "M1028_ACTV_DIAG_NOA               0.913151\n",
       "M1000_DC_SNF_14_DA                0.913151\n",
       "M1000_DC_PSYCH_14_DA              0.913151\n",
       "M1028_ACTV_DIAG_DM                0.913151\n",
       "M1000_DC_NONE_14_DA               0.913151\n",
       "M0140_ETHNIC_ASIAN                0.913151\n",
       "M1000_DC_LTC_14_DA                0.913151\n",
       "M1000_DC_IRF_14_DA                0.913151\n",
       "M1000_DC_IPPS_14_DA               0.913151\n",
       "M0140_ETHNIC_WHITE                0.913151\n",
       "M0140_ETHNIC_NH_PI                0.913151\n",
       "M0140_ETHNIC_HISP                 0.913151\n",
       "M0140_ETHNIC_BLACK                0.913151\n",
       "M1000_DC_LTCH_14_DA               0.913151\n",
       "M0140_ETHNIC_AI_AN                0.913151\n",
       "M1610_UR_INCONT                   0.779156\n",
       "M1740_BD_VERBAL                   0.774194\n",
       "M1740_BD_SOC_INAPPRO              0.774194\n",
       "M1720_WHEN_ANXIOUS                0.774194\n",
       "M1740_BD_DELUSIONS                0.774194\n",
       "M1740_BD_PHYSICAL                 0.774194\n",
       "M1740_BD_NONE                     0.774194\n",
       "M1740_BD_MEM_DEFICIT              0.774194\n",
       "M1740_BD_IMP_DECISN               0.774194\n",
       "M1600_UTI                         0.774194\n",
       "M1700_COG_FUNCTION                0.774194\n",
       "M1745_BEH_PROB_FREQ               0.774194\n",
       "M1845_CRNT_TOILTG_HYGN            0.774194\n",
       "M1870_CRNT_FEEDING                0.774194\n",
       "M2020_CRNT_MGMT_ORAL_MDCTN        0.774194\n",
       "M2102_CARE_TYPE_SRC_SPRVSN        0.774194\n",
       "M1710_WHEN_CONFUSED               0.774194\n",
       "M2301_EMER_USE_AFTR_LAST_ASMT     0.583127\n",
       "M2016_DRUG_EDCTN_INTRVTN          0.560794\n",
       "M2401_INTRVTN_SMRY_DBTS_FT        0.560794\n",
       "M2401_INTRVTN_SMRY_DPRSN          0.560794\n",
       "M2401_INTRVTN_SMRY_FALL_PRVNT     0.560794\n",
       "M2401_INTRVTN_SMRY_PAIN_MNTR      0.560794\n",
       "M2401_INTRVTN_SMRY_PRSULC_PRVN    0.560794\n",
       "M2401_INTRVTN_SMRY_PRSULC_WET     0.560794\n",
       "M2410_INPAT_FACILITY              0.560794\n",
       "M1051_PVX_RCVD_AGNCY              0.560794\n",
       "M1033_HOSP_RISK_MNTL_BHV_DCLN     0.545906\n",
       "M1033_HOSP_RISK_NONE_ABOVE        0.545906\n",
       "M1033_HOSP_RISK_OTHR_RISK         0.545906\n",
       "M1033_HOSP_RISK_MLTPL_ED_VISIT    0.545906\n",
       "M1033_HOSP_RISK_5PLUS_MDCTN       0.545906\n",
       "M1033_HOSP_RISK_COMPLIANCE        0.545906\n",
       "M1033_HOSP_RISK_HSTRY_FALLS       0.545906\n",
       "M1033_HOSP_RISK_MLTPL_HOSPZTN     0.545906\n",
       "M1033_HOSP_RISK_WEIGHT_LOSS       0.545906\n",
       "M1033_HOSP_RISK_CRNT_EXHSTN       0.545906\n",
       "M2200_THER_NEED_NBR               0.516129\n",
       "M2005_MDCTN_INTRVTN               0.513648\n",
       "M0110_EPISODE_TIMING              0.501241\n",
       "M1322_NBR_PRSULC_STG1             0.496278\n",
       "M2030_CRNT_MGMT_INJCTN_MDCTN      0.493797\n",
       "M1630_OSTOMY                      0.493797\n",
       "M2200_THER_NEED_NA                0.493797\n",
       "M1200_VISION                      0.493797\n",
       "M1030_THH_PAR_NUTRITION           0.493797\n",
       "M1030_THH_NONE_ABOVE              0.493797\n",
       "M1030_THH_IV_INFUSION             0.493797\n",
       "M1030_THH_ENT_NUTRITION           0.493797\n",
       "M1800_CRNT_GROOMING               0.406948\n",
       "M1860_CRNT_AMBLTN                 0.354839\n",
       "M1620_BWL_INCONT                  0.354839\n",
       "M1850_CRNT_TRNSFRNG               0.354839\n",
       "M1840_CRNT_TOILTG                 0.354839\n",
       "M1830_CRNT_BATHG                  0.354839\n",
       "M1820_CRNT_DRESS_LOWER            0.354839\n",
       "M1810_CRNT_DRESS_UPPER            0.354839\n",
       "M1242_PAIN_FREQ_ACTVTY_MVMT       0.354839\n",
       "M1306_UNHLD_STG2_PRSR_ULCR        0.354839\n",
       "M1324_STG_PRBLM_ULCER             0.354839\n",
       "M1330_STAS_ULCR_PRSNT             0.354839\n",
       "M1340_SRGCL_WND_PRSNT             0.354839\n",
       "M1400_WHEN_DYSPNEIC               0.354839\n",
       "M0100_ASSMT_REASON                0.000000\n",
       "ceo_OASIScorrectionnum            0.000000\n",
       "dtype: float64"
      ]
     },
     "execution_count": 15,
     "metadata": {},
     "output_type": "execute_result"
    }
   ],
   "source": [
    "(df.loc[:,colsOASIS][df['mortality']==0].isnull().sum()/len(df.loc[:,colsOASIS][df['mortality']==0])).sort_values(ascending=False)\n",
    "#mask2 = (df.loc[:,colsOASIS][df['DispositionId']==2].isnull().sum()/len(df.loc[:,colsOASIS][df['DispositionId']==2])>=.75).sort_values(ascending=False)"
   ]
  },
  {
   "cell_type": "code",
   "execution_count": 16,
   "id": "22efd891",
   "metadata": {},
   "outputs": [
    {
     "data": {
      "text/plain": [
       "ceo_OASIScorrectionnum            0.000000\n",
       "M0100_ASSMT_REASON                0.000000\n",
       "M1860_CRNT_AMBLTN                 0.202447\n",
       "M1850_CRNT_TRNSFRNG               0.202447\n",
       "M1840_CRNT_TOILTG                 0.202447\n",
       "M1830_CRNT_BATHG                  0.202447\n",
       "M1820_CRNT_DRESS_LOWER            0.202447\n",
       "M1810_CRNT_DRESS_UPPER            0.202447\n",
       "M1306_UNHLD_STG2_PRSR_ULCR        0.202447\n",
       "M1242_PAIN_FREQ_ACTVTY_MVMT       0.202447\n",
       "M1400_WHEN_DYSPNEIC               0.202447\n",
       "M1340_SRGCL_WND_PRSNT             0.202782\n",
       "M1330_STAS_ULCR_PRSNT             0.202782\n",
       "M1324_STG_PRBLM_ULCER             0.202782\n",
       "M1620_BWL_INCONT                  0.202950\n",
       "M1800_CRNT_GROOMING               0.216357\n",
       "M1710_WHEN_CONFUSED               0.383442\n",
       "M1740_BD_MEM_DEFICIT              0.383442\n",
       "M1740_BD_IMP_DECISN               0.383442\n",
       "M1740_BD_DELUSIONS                0.383442\n",
       "M1740_BD_SOC_INAPPRO              0.383442\n",
       "M1740_BD_VERBAL                   0.383442\n",
       "M1745_BEH_PROB_FREQ               0.383442\n",
       "M1720_WHEN_ANXIOUS                0.383442\n",
       "M1700_COG_FUNCTION                0.383442\n",
       "M1740_BD_NONE                     0.383442\n",
       "M1845_CRNT_TOILTG_HYGN            0.383442\n",
       "M1740_BD_PHYSICAL                 0.383442\n",
       "M2102_CARE_TYPE_SRC_SPRVSN        0.383442\n",
       "M1870_CRNT_FEEDING                0.383442\n",
       "M2020_CRNT_MGMT_ORAL_MDCTN        0.384448\n",
       "M1600_UTI                         0.386962\n",
       "M2200_THER_NEED_NA                0.404223\n",
       "M1030_THH_ENT_NUTRITION           0.404223\n",
       "M1630_OSTOMY                      0.404223\n",
       "M1030_THH_IV_INFUSION             0.404223\n",
       "M1030_THH_PAR_NUTRITION           0.404223\n",
       "M1030_THH_NONE_ABOVE              0.404223\n",
       "M1200_VISION                      0.404223\n",
       "M2030_CRNT_MGMT_INJCTN_MDCTN      0.405229\n",
       "M1322_NBR_PRSULC_STG1             0.406067\n",
       "M2200_THER_NEED_NBR               0.410592\n",
       "M1033_HOSP_RISK_WEIGHT_LOSS       0.418133\n",
       "M1033_HOSP_RISK_MLTPL_ED_VISIT    0.418133\n",
       "M1033_HOSP_RISK_MLTPL_HOSPZTN     0.418133\n",
       "M1033_HOSP_RISK_MNTL_BHV_DCLN     0.418133\n",
       "M1033_HOSP_RISK_NONE_ABOVE        0.418133\n",
       "M1033_HOSP_RISK_OTHR_RISK         0.418133\n",
       "M1033_HOSP_RISK_HSTRY_FALLS       0.418133\n",
       "M1033_HOSP_RISK_COMPLIANCE        0.418133\n",
       "M1033_HOSP_RISK_CRNT_EXHSTN       0.418133\n",
       "M1033_HOSP_RISK_5PLUS_MDCTN       0.418133\n",
       "M0110_EPISODE_TIMING              0.446288\n",
       "M1610_UR_INCONT                   0.534104\n",
       "M1910_MLT_FCTR_FALL_RISK_ASMT     0.585219\n",
       "M0140_ETHNIC_NH_PI                0.585219\n",
       "M0140_ETHNIC_ASIAN                0.585219\n",
       "M0140_ETHNIC_HISP                 0.585219\n",
       "M0140_ETHNIC_AI_AN                0.585219\n",
       "M0140_ETHNIC_BLACK                0.585219\n",
       "M1000_DC_LTC_14_DA                0.585219\n",
       "M1000_DC_LTCH_14_DA               0.585219\n",
       "M1000_DC_IRF_14_DA                0.585219\n",
       "M1000_DC_NONE_14_DA               0.585219\n",
       "M0140_ETHNIC_WHITE                0.585219\n",
       "M1000_DC_IPPS_14_DA               0.585219\n",
       "M1000_DC_OTH_14_DA                0.585219\n",
       "M1000_DC_PSYCH_14_DA              0.585219\n",
       "M1000_DC_SNF_14_DA                0.585219\n",
       "M1730_STDZ_DPRSN_SCRNG            0.585219\n",
       "M2001_DRUG_RGMN_RVW               0.585386\n",
       "M2010_HIGH_RISK_DRUG_EDCTN        0.586224\n",
       "M1028_ACTV_DIAG_PVD_PAD           0.588570\n",
       "M1028_ACTV_DIAG_NOA               0.588570\n",
       "M1028_ACTV_DIAG_DM                0.588570\n",
       "M2005_MDCTN_INTRVTN               0.599799\n",
       "M1730_PHQ2_LACK_INTRST            0.616223\n",
       "M1730_PHQ2_DPRSN                  0.616223\n",
       "M1060_HEIGHT_A                    0.657282\n",
       "M1060_WEIGHT_B                    0.658622\n",
       "M1051_PVX_RCVD_AGNCY              0.663147\n",
       "M2401_INTRVTN_SMRY_PRSULC_WET     0.663147\n",
       "M2401_INTRVTN_SMRY_DBTS_FT        0.663147\n",
       "M2401_INTRVTN_SMRY_DPRSN          0.663147\n",
       "M2401_INTRVTN_SMRY_FALL_PRVNT     0.663147\n",
       "M2401_INTRVTN_SMRY_PAIN_MNTR      0.663147\n",
       "M2401_INTRVTN_SMRY_PRSULC_PRVN    0.663147\n",
       "M2016_DRUG_EDCTN_INTRVTN          0.663147\n",
       "M2410_INPAT_FACILITY              0.663147\n",
       "M2301_EMER_USE_AFTR_LAST_ASMT     0.671694\n",
       "dtype: float64"
      ]
     },
     "execution_count": 16,
     "metadata": {},
     "output_type": "execute_result"
    }
   ],
   "source": [
    "(df.loc[:,colsOASIS][df['mortality']==1].isnull().sum()/len(df.loc[:,colsOASIS][df['mortality']==1])).sort_values(ascending=True)\n",
    "#mask2 = (df.loc[:,colsOASIS][df['DispositionId']==2].isnull().sum()/len(df.loc[:,colsOASIS][df['DispositionId']==2])>=.75).sort_values(ascending=False)"
   ]
  },
  {
   "cell_type": "code",
   "execution_count": 17,
   "id": "bd8ac284",
   "metadata": {},
   "outputs": [
    {
     "data": {
      "text/plain": [
       "ceo_OASIScorrectionnum            0.000000\n",
       "M0100_ASSMT_REASON                0.000000\n",
       "M1860_CRNT_AMBLTN                 0.212088\n",
       "M1850_CRNT_TRNSFRNG               0.212088\n",
       "M1840_CRNT_TOILTG                 0.212088\n",
       "M1830_CRNT_BATHG                  0.212088\n",
       "M1820_CRNT_DRESS_LOWER            0.212088\n",
       "M1810_CRNT_DRESS_UPPER            0.212088\n",
       "M1306_UNHLD_STG2_PRSR_ULCR        0.212088\n",
       "M1242_PAIN_FREQ_ACTVTY_MVMT       0.212088\n",
       "M1400_WHEN_DYSPNEIC               0.212088\n",
       "M1340_SRGCL_WND_PRSNT             0.212402\n",
       "M1330_STAS_ULCR_PRSNT             0.212402\n",
       "M1324_STG_PRBLM_ULCER             0.212402\n",
       "M1620_BWL_INCONT                  0.212559\n",
       "M1800_CRNT_GROOMING               0.228414\n",
       "M1710_WHEN_CONFUSED               0.408163\n",
       "M1740_BD_NONE                     0.408163\n",
       "M1740_BD_MEM_DEFICIT              0.408163\n",
       "M1740_BD_IMP_DECISN               0.408163\n",
       "M1740_BD_DELUSIONS                0.408163\n",
       "M1740_BD_VERBAL                   0.408163\n",
       "M1745_BEH_PROB_FREQ               0.408163\n",
       "M1720_WHEN_ANXIOUS                0.408163\n",
       "M1700_COG_FUNCTION                0.408163\n",
       "M1845_CRNT_TOILTG_HYGN            0.408163\n",
       "M1740_BD_PHYSICAL                 0.408163\n",
       "M1740_BD_SOC_INAPPRO              0.408163\n",
       "M1870_CRNT_FEEDING                0.408163\n",
       "M2102_CARE_TYPE_SRC_SPRVSN        0.408163\n",
       "M2020_CRNT_MGMT_ORAL_MDCTN        0.409105\n",
       "M1030_THH_ENT_NUTRITION           0.409890\n",
       "M1630_OSTOMY                      0.409890\n",
       "M1030_THH_IV_INFUSION             0.409890\n",
       "M1200_VISION                      0.409890\n",
       "M2200_THER_NEED_NA                0.409890\n",
       "M1030_THH_NONE_ABOVE              0.409890\n",
       "M1030_THH_PAR_NUTRITION           0.409890\n",
       "M2030_CRNT_MGMT_INJCTN_MDCTN      0.410832\n",
       "M1600_UTI                         0.411460\n",
       "M1322_NBR_PRSULC_STG1             0.411774\n",
       "M2200_THER_NEED_NBR               0.417268\n",
       "M1033_HOSP_RISK_HSTRY_FALLS       0.426217\n",
       "M1033_HOSP_RISK_MLTPL_ED_VISIT    0.426217\n",
       "M1033_HOSP_RISK_COMPLIANCE        0.426217\n",
       "M1033_HOSP_RISK_CRNT_EXHSTN       0.426217\n",
       "M1033_HOSP_RISK_WEIGHT_LOSS       0.426217\n",
       "M1033_HOSP_RISK_OTHR_RISK         0.426217\n",
       "M1033_HOSP_RISK_NONE_ABOVE        0.426217\n",
       "M1033_HOSP_RISK_MNTL_BHV_DCLN     0.426217\n",
       "M1033_HOSP_RISK_MLTPL_HOSPZTN     0.426217\n",
       "M1033_HOSP_RISK_5PLUS_MDCTN       0.426217\n",
       "M0110_EPISODE_TIMING              0.449765\n",
       "M1610_UR_INCONT                   0.549608\n",
       "M2005_MDCTN_INTRVTN               0.594349\n",
       "M0140_ETHNIC_HISP                 0.605965\n",
       "M0140_ETHNIC_NH_PI                0.605965\n",
       "M0140_ETHNIC_BLACK                0.605965\n",
       "M0140_ETHNIC_ASIAN                0.605965\n",
       "M1910_MLT_FCTR_FALL_RISK_ASMT     0.605965\n",
       "M0140_ETHNIC_AI_AN                0.605965\n",
       "M1000_DC_LTC_14_DA                0.605965\n",
       "M1000_DC_LTCH_14_DA               0.605965\n",
       "M1000_DC_IRF_14_DA                0.605965\n",
       "M1000_DC_NONE_14_DA               0.605965\n",
       "M0140_ETHNIC_WHITE                0.605965\n",
       "M1000_DC_IPPS_14_DA               0.605965\n",
       "M1000_DC_OTH_14_DA                0.605965\n",
       "M1000_DC_PSYCH_14_DA              0.605965\n",
       "M1000_DC_SNF_14_DA                0.605965\n",
       "M1730_STDZ_DPRSN_SCRNG            0.605965\n",
       "M2001_DRUG_RGMN_RVW               0.606122\n",
       "M2010_HIGH_RISK_DRUG_EDCTN        0.606907\n",
       "M1028_ACTV_DIAG_PVD_PAD           0.609105\n",
       "M1028_ACTV_DIAG_NOA               0.609105\n",
       "M1028_ACTV_DIAG_DM                0.609105\n",
       "M1730_PHQ2_LACK_INTRST            0.635479\n",
       "M1730_PHQ2_DPRSN                  0.635479\n",
       "M1051_PVX_RCVD_AGNCY              0.656672\n",
       "M2401_INTRVTN_SMRY_PRSULC_WET     0.656672\n",
       "M2401_INTRVTN_SMRY_DBTS_FT        0.656672\n",
       "M2401_INTRVTN_SMRY_DPRSN          0.656672\n",
       "M2401_INTRVTN_SMRY_FALL_PRVNT     0.656672\n",
       "M2401_INTRVTN_SMRY_PAIN_MNTR      0.656672\n",
       "M2401_INTRVTN_SMRY_PRSULC_PRVN    0.656672\n",
       "M2016_DRUG_EDCTN_INTRVTN          0.656672\n",
       "M2410_INPAT_FACILITY              0.656672\n",
       "M2301_EMER_USE_AFTR_LAST_ASMT     0.666091\n",
       "M1060_HEIGHT_A                    0.675981\n",
       "M1060_WEIGHT_B                    0.677394\n",
       "dtype: float64"
      ]
     },
     "execution_count": 17,
     "metadata": {},
     "output_type": "execute_result"
    }
   ],
   "source": [
    "(df.loc[:,colsOASIS].isnull().sum()/len(df.loc[:,colsOASIS])).sort_values(ascending=True)"
   ]
  },
  {
   "cell_type": "markdown",
   "id": "806780d0",
   "metadata": {},
   "source": [
    "<hr style=\"height:2px;border-width:0;color:black;background-color:black\">"
   ]
  },
  {
   "cell_type": "markdown",
   "id": "8b85c607",
   "metadata": {},
   "source": [
    "<div class=\"alert alert-success\" role=\"alert\">\n",
    "    <b>Create an events dataframe</b>\n",
    "</div>"
   ]
  },
  {
   "cell_type": "code",
   "execution_count": 10,
   "id": "0917fb2c",
   "metadata": {},
   "outputs": [],
   "source": [
    "cols_Oevents = ['M0100_ASSMT_REASON', \n",
    "                'M1860_CRNT_AMBLTN', \n",
    "                'M1850_CRNT_TRNSFRNG', \n",
    "                'M1830_CRNT_BATHG', \n",
    "                'M1820_CRNT_DRESS_LOWER', \n",
    "                'M1810_CRNT_DRESS_UPPER', \n",
    "                'M1306_UNHLD_STG2_PRSR_ULCR', \n",
    "                'M1242_PAIN_FREQ_ACTVTY_MVMT', \n",
    "                'M1400_WHEN_DYSPNEIC', \n",
    "                'M1340_SRGCL_WND_PRSNT', \n",
    "                'M1330_STAS_ULCR_PRSNT',\n",
    "                'M1324_STG_PRBLM_ULCER', \n",
    "                'M1620_BWL_INCONT', \n",
    "                'M1800_CRNT_GROOMING'] "
   ]
  },
  {
   "cell_type": "markdown",
   "id": "223f0807",
   "metadata": {},
   "source": [
    "<div class=\"alert alert-success\" role=\"alert\">\n",
    "    <b>Create an Items Mapping</b>\n",
    "</div>"
   ]
  },
  {
   "cell_type": "code",
   "execution_count": 11,
   "id": "de7acc14",
   "metadata": {},
   "outputs": [],
   "source": [
    "event_mapping_df = pd.DataFrame(cols_Oevents,columns =['OASIS']).rename_axis('itemID').shift()[1:].reset_index(inplace=False)"
   ]
  },
  {
   "cell_type": "code",
   "execution_count": 12,
   "id": "ed668382",
   "metadata": {},
   "outputs": [
    {
     "data": {
      "text/html": [
       "\n",
       "        <iframe\n",
       "            width=\"100%\"\n",
       "            height=\"475\"\n",
       "            src=\"http://LAPTOP-3DIDAFIM:40000/dtale/iframe/1\"\n",
       "            frameborder=\"0\"\n",
       "            allowfullscreen\n",
       "            \n",
       "        ></iframe>\n",
       "        "
      ],
      "text/plain": [
       "<IPython.lib.display.IFrame at 0x7fe0a50a1ee0>"
      ]
     },
     "metadata": {},
     "output_type": "display_data"
    },
    {
     "data": {
      "text/plain": []
     },
     "execution_count": 12,
     "metadata": {},
     "output_type": "execute_result"
    }
   ],
   "source": [
    "dtale.show(event_mapping_df)"
   ]
  },
  {
   "cell_type": "code",
   "execution_count": 18,
   "id": "798c7d9c",
   "metadata": {},
   "outputs": [],
   "source": [
    "event_mapping_df.to_csv('event_mapping_df.csv', sep=',', encoding='utf-8', index=False)"
   ]
  },
  {
   "cell_type": "markdown",
   "id": "06f3d4bb",
   "metadata": {},
   "source": [
    "<hr style=\"height:2px;border-width:0;color:black;background-color:black\">"
   ]
  },
  {
   "cell_type": "markdown",
   "id": "47a93730",
   "metadata": {},
   "source": [
    "<div class=\"alert alert-danger\" role=\"alert\">\n",
    "    <b>Extract the integer from the event descriptions</b>\n",
    "</div>"
   ]
  },
  {
   "cell_type": "code",
   "execution_count": 38,
   "id": "78b78bbe",
   "metadata": {},
   "outputs": [],
   "source": [
    "df_events_int = df[cols_Oevents].apply(lambda x: x[cols_Oevents].str[:2].str.strip(), axis = 1).replace('NA',0)"
   ]
  },
  {
   "cell_type": "code",
   "execution_count": 20,
   "id": "4a53a29c",
   "metadata": {},
   "outputs": [],
   "source": [
    "df_events_desc = df[cols_Oevents].apply(lambda x: x[cols_Oevents].str[2:].str.strip(), axis = 1)"
   ]
  },
  {
   "cell_type": "code",
   "execution_count": 21,
   "id": "cf01f440",
   "metadata": {},
   "outputs": [
    {
     "data": {
      "text/plain": [
       "6370"
      ]
     },
     "execution_count": 21,
     "metadata": {},
     "output_type": "execute_result"
    },
    {
     "data": {
      "text/plain": [
       "Index(['M0100_ASSMT_REASON', 'M1860_CRNT_AMBLTN', 'M1850_CRNT_TRNSFRNG',\n",
       "       'M1830_CRNT_BATHG', 'M1820_CRNT_DRESS_LOWER', 'M1810_CRNT_DRESS_UPPER',\n",
       "       'M1306_UNHLD_STG2_PRSR_ULCR', 'M1242_PAIN_FREQ_ACTVTY_MVMT',\n",
       "       'M1400_WHEN_DYSPNEIC', 'M1340_SRGCL_WND_PRSNT', 'M1330_STAS_ULCR_PRSNT',\n",
       "       'M1324_STG_PRBLM_ULCER', 'M1620_BWL_INCONT', 'M1800_CRNT_GROOMING'],\n",
       "      dtype='object')"
      ]
     },
     "execution_count": 21,
     "metadata": {},
     "output_type": "execute_result"
    }
   ],
   "source": [
    "len(df_events_int)\n",
    "df_events_desc.columns"
   ]
  },
  {
   "cell_type": "code",
   "execution_count": 151,
   "id": "df59ca2b",
   "metadata": {},
   "outputs": [],
   "source": [
    "from math import isnan\n",
    "xet = dict(zip(df_events_int.M1860_CRNT_AMBLTN, df_events_desc.M1860_CRNT_AMBLTN))"
   ]
  },
  {
   "cell_type": "code",
   "execution_count": 152,
   "id": "8ebf34fe",
   "metadata": {},
   "outputs": [
    {
     "data": {
      "text/plain": [
       "dict_keys(['3', '2', '4', nan, '1', '5', '0', '6'])"
      ]
     },
     "execution_count": 152,
     "metadata": {},
     "output_type": "execute_result"
    }
   ],
   "source": [
    "xet.keys()\n"
   ]
  },
  {
   "cell_type": "code",
   "execution_count": 157,
   "id": "33cb77b4",
   "metadata": {},
   "outputs": [
    {
     "data": {
      "text/plain": [
       "{'3': '- ABLE TO WALK ONLY WITH THE SUPERVISION OR ASSISTANCE OF ANOTHER PERSON AT ALL TIMES.',\n",
       " '2': '- REQUIRES USE OF A TWO-HANDED DEVICE (FOR EXAMPLE, WALKER OR CRUTCHES) TO WALK ALONE ON A LEVEL SURFACE AND/OR REQUIRES HUMAN SUPERVISION OR ASSISTANCE TO NEGOTIATE STAIRS OR STEPS OR UNEVEN SURFACES.',\n",
       " '4': '- CHAIRFAST, UNABLE TO AMBULATE BUT IS ABLE TO WHEEL SELF INDEPENDENTLY.',\n",
       " '1': '- WITH THE USE OF A ONE-HANDED DEVICE (FOR EXAMPLE, CANE, SINGLE CRUTCH, HEMI-WALKER), ABLE TO INDEPENDENTLY WALK ON EVEN AND UNEVEN SURFACES AND NEGOTIATE STAIRS WITH OR WITHOUT RAILINGS.',\n",
       " '5': '- CHAIRFAST, UNABLE TO AMBULATE AND IS UNABLE TO WHEEL SELF.',\n",
       " '0': '- ABLE TO INDEPENDENTLY WALK ON EVEN AND UNEVEN SURFACES AND NEGOTIATE STAIRS WITH OR WITHOUT RAILINGS (SPECIFICALLY: NEEDS NO HUMAN ASSISTANCE OR ASSISTIVE DEVICE).',\n",
       " '6': '- BEDFAST, UNABLE TO AMBULATE OR BE UP IN A CHAIR'}"
      ]
     },
     "execution_count": 157,
     "metadata": {},
     "output_type": "execute_result"
    }
   ],
   "source": [
    "clean_dict = {k: xet[k] for k in xet if not pd.isna(k)}\n",
    "#clean_dict = filter(lambda k: not pd.isna(k), xet)\n",
    "clean_dict\n",
    "\n"
   ]
  },
  {
   "cell_type": "code",
   "execution_count": null,
   "id": "e5ada3cf",
   "metadata": {},
   "outputs": [],
   "source": []
  },
  {
   "cell_type": "code",
   "execution_count": 118,
   "id": "b3d56b63",
   "metadata": {},
   "outputs": [
    {
     "data": {
      "text/plain": [
       "6370"
      ]
     },
     "execution_count": 118,
     "metadata": {},
     "output_type": "execute_result"
    },
    {
     "data": {
      "text/plain": [
       "Index(['M0100_ASSMT_REASON', 'M1860_CRNT_AMBLTN', 'M1850_CRNT_TRNSFRNG',\n",
       "       'M1830_CRNT_BATHG', 'M1820_CRNT_DRESS_LOWER', 'M1810_CRNT_DRESS_UPPER',\n",
       "       'M1306_UNHLD_STG2_PRSR_ULCR', 'M1242_PAIN_FREQ_ACTVTY_MVMT',\n",
       "       'M1400_WHEN_DYSPNEIC', 'M1340_SRGCL_WND_PRSNT', 'M1330_STAS_ULCR_PRSNT',\n",
       "       'M1324_STG_PRBLM_ULCER', 'M1620_BWL_INCONT', 'M1800_CRNT_GROOMING'],\n",
       "      dtype='object')"
      ]
     },
     "execution_count": 118,
     "metadata": {},
     "output_type": "execute_result"
    }
   ],
   "source": [
    "len(df_events_desc)\n",
    "df_events_desc.columns"
   ]
  },
  {
   "cell_type": "markdown",
   "id": "91949cb1",
   "metadata": {},
   "source": [
    "<div class=\"alert alert-danger\" role=\"alert\">\n",
    "    <b>Combine the descriptive columns with the desired events</b>\n",
    "</div>"
   ]
  },
  {
   "cell_type": "code",
   "execution_count": 39,
   "id": "a6c6c1a6",
   "metadata": {},
   "outputs": [],
   "source": [
    "colsM = ['pa_id', 'epi_id', 'ceo_id', 'M0090_INFO_COMPLETED_DT']"
   ]
  },
  {
   "cell_type": "code",
   "execution_count": 40,
   "id": "4ea94190",
   "metadata": {},
   "outputs": [],
   "source": [
    "df_events = pd.concat([df[colsM], df_events_int], axis = 1).drop_duplicates().reset_index().drop('index', axis=1, errors='ignore')"
   ]
  },
  {
   "cell_type": "code",
   "execution_count": 43,
   "id": "f6235cf1",
   "metadata": {},
   "outputs": [
    {
     "data": {
      "text/html": [
       "\n",
       "        <iframe\n",
       "            width=\"100%\"\n",
       "            height=\"475\"\n",
       "            src=\"http://LAPTOP-3DIDAFIM:40000/dtale/iframe/6\"\n",
       "            frameborder=\"0\"\n",
       "            allowfullscreen\n",
       "            \n",
       "        ></iframe>\n",
       "        "
      ],
      "text/plain": [
       "<IPython.lib.display.IFrame at 0x7fe07ef1b3a0>"
      ]
     },
     "metadata": {},
     "output_type": "display_data"
    },
    {
     "data": {
      "text/plain": []
     },
     "execution_count": 43,
     "metadata": {},
     "output_type": "execute_result"
    }
   ],
   "source": [
    "dtale.show(df_events)"
   ]
  },
  {
   "cell_type": "markdown",
   "id": "e9e8f5d4",
   "metadata": {},
   "source": [
    "<div class=\"alert alert-danger alert-info\">\n",
    "    <b>Convert from Wide to Long format</b>\n",
    "</div>"
   ]
  },
  {
   "cell_type": "code",
   "execution_count": 44,
   "id": "40d50489",
   "metadata": {},
   "outputs": [],
   "source": [
    "df_OASIS = df_events.melt(id_vars=colsM, var_name = 'OASIS', value_vars=cols_Oevents)"
   ]
  },
  {
   "cell_type": "code",
   "execution_count": 45,
   "id": "219ed11c",
   "metadata": {},
   "outputs": [],
   "source": [
    "df_OASIS = df_OASIS.merge(event_mapping_df,left_on='OASIS', right_on='OASIS', how='left')"
   ]
  },
  {
   "cell_type": "markdown",
   "id": "a79b1b5d",
   "metadata": {},
   "source": [
    "<div class=\"alert alert-danger alert-info\">\n",
    "    <b>Convert itemID to Integers (this actually caused problems later on when serializing to JSON!!</b>\n",
    "</div>"
   ]
  },
  {
   "cell_type": "code",
   "execution_count": 46,
   "id": "d9432819",
   "metadata": {},
   "outputs": [],
   "source": [
    "df_OASIS.fillna({'itemID':0,}, inplace=True)\n",
    "df_OASIS['itemID'] = df_OASIS['itemID'].apply(np.int64)"
   ]
  },
  {
   "cell_type": "markdown",
   "id": "810bc047",
   "metadata": {},
   "source": [
    "<div class=\"alert alert-danger alert-info\">\n",
    "    <b>Rearrange the columns to match MIMIC</b>\n",
    "</div>"
   ]
  },
  {
   "cell_type": "code",
   "execution_count": 47,
   "id": "ec19dc2e",
   "metadata": {},
   "outputs": [],
   "source": [
    "mid = df_OASIS['itemID']\n",
    "mid2 = df_OASIS['value']\n",
    "df_OASIS.drop(labels=['itemID', 'value'], axis=1, inplace = True)\n",
    "df_OASIS.insert(4, 'itemID', mid)\n",
    "df_OASIS.insert(5, 'value', mid2)"
   ]
  },
  {
   "cell_type": "code",
   "execution_count": 48,
   "id": "2545ecb8",
   "metadata": {
    "scrolled": true
   },
   "outputs": [
    {
     "data": {
      "text/plain": [
       "88900"
      ]
     },
     "execution_count": 48,
     "metadata": {},
     "output_type": "execute_result"
    },
    {
     "data": {
      "text/html": [
       "\n",
       "        <iframe\n",
       "            width=\"100%\"\n",
       "            height=\"475\"\n",
       "            src=\"http://LAPTOP-3DIDAFIM:40000/dtale/iframe/7\"\n",
       "            frameborder=\"0\"\n",
       "            allowfullscreen\n",
       "            \n",
       "        ></iframe>\n",
       "        "
      ],
      "text/plain": [
       "<IPython.lib.display.IFrame at 0x7fe0762d5850>"
      ]
     },
     "metadata": {},
     "output_type": "display_data"
    },
    {
     "data": {
      "text/plain": []
     },
     "execution_count": 48,
     "metadata": {},
     "output_type": "execute_result"
    }
   ],
   "source": [
    "len(df_OASIS)\n",
    "#df_OASIS.head()\n",
    "dtale.show(df_OASIS.head())"
   ]
  },
  {
   "cell_type": "markdown",
   "id": "1e121425",
   "metadata": {},
   "source": [
    "<div class=\"alert alert-danger alert-info\">\n",
    "    <b>Export to CSV</b>\n",
    "</div>"
   ]
  },
  {
   "cell_type": "code",
   "execution_count": 50,
   "id": "caf7dae8",
   "metadata": {},
   "outputs": [
    {
     "name": "stdout",
     "output_type": "stream",
     "text": [
      "Executing shutdown due to inactivity...\n"
     ]
    },
    {
     "name": "stderr",
     "output_type": "stream",
     "text": [
      "2022-04-04 14:40:29,764 - INFO     - Executing shutdown due to inactivity...\n"
     ]
    },
    {
     "name": "stdout",
     "output_type": "stream",
     "text": [
      "Executing shutdown...\n"
     ]
    },
    {
     "name": "stderr",
     "output_type": "stream",
     "text": [
      "2022-04-04 14:40:29,771 - INFO     - Executing shutdown...\n"
     ]
    }
   ],
   "source": [
    "df_OASIS.to_csv('df_OASIS.csv', sep=',', encoding='utf-8', index=False)"
   ]
  },
  {
   "cell_type": "markdown",
   "id": "5f93f0ba",
   "metadata": {},
   "source": [
    "<hr style=\"height:2px;border-width:0;color:black;background-color:black\">"
   ]
  },
  {
   "cell_type": "markdown",
   "id": "96d02737",
   "metadata": {},
   "source": [
    "<div class=\"alert alert-success\" role=\"alert\">\n",
    "  Create an visits df\n",
    "</div>"
   ]
  },
  {
   "cell_type": "code",
   "execution_count": 75,
   "id": "60246c34",
   "metadata": {},
   "outputs": [],
   "source": [
    "dfv = df.set_index(['pa_id', 'epi_id', 'ceo_id'])#[['M0090_INFO_COMPLETED_DT', 'M0100_ASSMT_REASON']]"
   ]
  },
  {
   "cell_type": "code",
   "execution_count": null,
   "id": "14a4a7de",
   "metadata": {},
   "outputs": [],
   "source": [
    "dtale.show(df[['M0090_INFO_COMPLETED_DT', 'M0100_ASSMT_REASON']].reset_index().drop_duplicates())"
   ]
  },
  {
   "cell_type": "code",
   "execution_count": 73,
   "id": "699065d3",
   "metadata": {},
   "outputs": [],
   "source": [
    "df_visits = dfv[['M0090_INFO_COMPLETED_DT', 'M0100_ASSMT_REASON']].reset_index().drop('index', axis=1, errors='ignore').duplicated(keep=False)"
   ]
  },
  {
   "cell_type": "code",
   "execution_count": 74,
   "id": "085e3caa",
   "metadata": {},
   "outputs": [
    {
     "data": {
      "text/html": [
       "\n",
       "        <iframe\n",
       "            width=\"100%\"\n",
       "            height=\"475\"\n",
       "            src=\"http://LAPTOP-3DIDAFIM:40000/dtale/iframe/25\"\n",
       "            frameborder=\"0\"\n",
       "            allowfullscreen\n",
       "            \n",
       "        ></iframe>\n",
       "        "
      ],
      "text/plain": [
       "<IPython.lib.display.IFrame at 0x7fdab1309b80>"
      ]
     },
     "metadata": {},
     "output_type": "display_data"
    },
    {
     "data": {
      "text/plain": []
     },
     "execution_count": 74,
     "metadata": {},
     "output_type": "execute_result"
    }
   ],
   "source": [
    "dtale.show(df[df_visits][['pa_id', 'epi_id', 'ceo_id','M0090_INFO_COMPLETED_DT', 'M0100_ASSMT_REASON']])"
   ]
  },
  {
   "cell_type": "code",
   "execution_count": 80,
   "id": "c8ca15ec",
   "metadata": {},
   "outputs": [],
   "source": [
    "df_visits = dfv[['M0090_INFO_COMPLETED_DT', 'M0100_ASSMT_REASON']].reset_index().drop('index', axis=1, errors='ignore').drop_duplicates().reset_index().drop('index', axis=1, errors='ignore')"
   ]
  },
  {
   "cell_type": "code",
   "execution_count": 81,
   "id": "486342e9",
   "metadata": {},
   "outputs": [
    {
     "data": {
      "text/html": [
       "\n",
       "        <iframe\n",
       "            width=\"100%\"\n",
       "            height=\"475\"\n",
       "            src=\"http://LAPTOP-3DIDAFIM:40000/dtale/iframe/28\"\n",
       "            frameborder=\"0\"\n",
       "            allowfullscreen\n",
       "            \n",
       "        ></iframe>\n",
       "        "
      ],
      "text/plain": [
       "<IPython.lib.display.IFrame at 0x7fd967035160>"
      ]
     },
     "metadata": {},
     "output_type": "display_data"
    },
    {
     "data": {
      "text/plain": []
     },
     "execution_count": 81,
     "metadata": {},
     "output_type": "execute_result"
    }
   ],
   "source": [
    "dtale.show(df_visits) #'epi_StartOfEpisode', 'epi_EndOfEpisode', 'epi_DischargeDate', "
   ]
  },
  {
   "cell_type": "code",
   "execution_count": 82,
   "id": "32856641",
   "metadata": {},
   "outputs": [],
   "source": [
    "df_visits.to_csv('df_visits.csv', sep=',', encoding='utf-8', index=False)"
   ]
  },
  {
   "cell_type": "markdown",
   "id": "1efd9b16",
   "metadata": {},
   "source": [
    "<hr style=\"height:2px;border-width:0;color:black;background-color:black\">"
   ]
  },
  {
   "cell_type": "markdown",
   "id": "0a80dd5f",
   "metadata": {},
   "source": [
    "<div class=\"alert alert-success\" role=\"alert\">\n",
    "  Create an episodes df\n",
    "</div>"
   ]
  },
  {
   "cell_type": "code",
   "execution_count": 25,
   "id": "958b83fb",
   "metadata": {},
   "outputs": [],
   "source": [
    "dfe = df.set_index(['pa_id', 'epi_id'])#[['M0090_INFO_COMPLETED_DT', 'M0100_ASSMT_REASON']]"
   ]
  },
  {
   "cell_type": "code",
   "execution_count": 26,
   "id": "542d5d70",
   "metadata": {},
   "outputs": [],
   "source": [
    "df_episodes = dfe[['mortality','epi_StartOfEpisode', 'epi_EndOfEpisode', 'epi_DischargeDate', 'epi_AdmitType',  'dcc_desc', 'dcr_desc', 'icd_code', 'icd_code_description']].reset_index().drop('index', axis=1, errors='ignore').drop_duplicates().reset_index().drop('index', axis=1, errors='ignore')"
   ]
  },
  {
   "cell_type": "code",
   "execution_count": 37,
   "id": "c3ad17bc",
   "metadata": {},
   "outputs": [
    {
     "data": {
      "text/plain": [
       "1"
      ]
     },
     "execution_count": 37,
     "metadata": {},
     "output_type": "execute_result"
    }
   ],
   "source": [
    "int(~pd.isna(df_episodes.epi_DischargeDate).values[0])"
   ]
  },
  {
   "cell_type": "code",
   "execution_count": 27,
   "id": "89f963f4",
   "metadata": {},
   "outputs": [
    {
     "data": {
      "text/html": [
       "\n",
       "        <iframe\n",
       "            width=\"100%\"\n",
       "            height=\"475\"\n",
       "            src=\"http://LAPTOP-3DIDAFIM:40000/dtale/iframe/4\"\n",
       "            frameborder=\"0\"\n",
       "            allowfullscreen\n",
       "            \n",
       "        ></iframe>\n",
       "        "
      ],
      "text/plain": [
       "<IPython.lib.display.IFrame at 0x7fa6093e88b0>"
      ]
     },
     "metadata": {},
     "output_type": "display_data"
    },
    {
     "data": {
      "text/plain": []
     },
     "execution_count": 27,
     "metadata": {},
     "output_type": "execute_result"
    }
   ],
   "source": [
    "dtale.show(df_episodes)"
   ]
  },
  {
   "cell_type": "code",
   "execution_count": 38,
   "id": "4ed36eac",
   "metadata": {},
   "outputs": [
    {
     "name": "stdout",
     "output_type": "stream",
     "text": [
      "Executing shutdown due to inactivity...\n"
     ]
    },
    {
     "name": "stderr",
     "output_type": "stream",
     "text": [
      "2022-04-01 17:02:25,867 - INFO     - Executing shutdown due to inactivity...\n"
     ]
    },
    {
     "name": "stdout",
     "output_type": "stream",
     "text": [
      "Executing shutdown...\n"
     ]
    },
    {
     "name": "stderr",
     "output_type": "stream",
     "text": [
      "2022-04-01 17:02:25,874 - INFO     - Executing shutdown...\n"
     ]
    }
   ],
   "source": [
    "df_episodes.to_csv('df_episode.csv', sep=',', encoding='utf-8', index=False)"
   ]
  },
  {
   "cell_type": "markdown",
   "id": "138a7790",
   "metadata": {},
   "source": [
    "<hr style=\"height:2px;border-width:0;color:black;background-color:black\">"
   ]
  },
  {
   "cell_type": "code",
   "execution_count": null,
   "id": "a4b956a8",
   "metadata": {},
   "outputs": [],
   "source": []
  }
 ],
 "metadata": {
  "kernelspec": {
   "display_name": "Python [conda env:rapids-22.02]",
   "language": "python",
   "name": "conda-env-rapids-22.02-py"
  },
  "language_info": {
   "codemirror_mode": {
    "name": "ipython",
    "version": 3
   },
   "file_extension": ".py",
   "mimetype": "text/x-python",
   "name": "python",
   "nbconvert_exporter": "python",
   "pygments_lexer": "ipython3",
   "version": "3.8.12"
  }
 },
 "nbformat": 4,
 "nbformat_minor": 5
}
