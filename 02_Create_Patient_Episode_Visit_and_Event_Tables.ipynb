{
 "cells": [
  {
   "cell_type": "markdown",
   "id": "b1e3ade0",
   "metadata": {},
   "source": [
    "<div class=\"alert alert-block alert-info\">\n",
    "     <b>Import Modules Needed</b> <i>(need pandas >= 1.2 and python >= 3.9.0 for all the data cleaning techniques to work)</i>\n",
    "</div>"
   ]
  },
  {
   "cell_type": "code",
   "execution_count": null,
   "id": "9ecfe589",
   "metadata": {},
   "outputs": [],
   "source": [
    "import pandas as  pd\n",
    "import os\n",
    "import sweetviz as sv\n",
    "import numpy as np\n",
    "import dtale\n",
    "import cudf\n",
    "import dask_cudf\n",
    "\n",
    "#!pip install git+https://github.com/innovationOUtside/fstring-magic.git"
   ]
  },
  {
   "cell_type": "markdown",
   "id": "c242ff46",
   "metadata": {},
   "source": [
    "<div class=\"alert alert-block alert-info\">\n",
    "    <b>Jupyter Plumbing</b>\n",
    "</div>\n"
   ]
  },
  {
   "cell_type": "code",
   "execution_count": null,
   "id": "8bb5b14c",
   "metadata": {},
   "outputs": [],
   "source": [
    "# %load C:\\users\\derek\\.jupyter\\startup.py\n",
    "from IPython.core.interactiveshell import InteractiveShell\n",
    "InteractiveShell.ast_node_interactivity = \"all\"\n",
    "\n",
    "from IPython.core.display import display, HTML\n",
    "display(HTML(\"<style>.container { width:100% !important; }</style>\"))\n",
    "\n",
    "#pd.set_option('display.max_colwidth', 100)\n",
    "\n",
    "pd.set_option('display.max_colwidth', None)\n",
    "\n",
    "\n",
    "\n",
    "pd.set_option(\"display.max_rows\", None)\n",
    "\n",
    "pd.options.display.max_columns = 500\n",
    "\n",
    "pd.options.display.max_seq_items = 500\n",
    "\n"
   ]
  },
  {
   "cell_type": "markdown",
   "id": "056621e6",
   "metadata": {},
   "source": [
    "<div class=\"alert alert-block alert-info\">\n",
    "    <b>Find CSV Files in working dir</b>\n",
    "</div>"
   ]
  },
  {
   "cell_type": "code",
   "execution_count": null,
   "id": "7d834cbb",
   "metadata": {},
   "outputs": [],
   "source": [
    "csvStore = os.path.join(os.getcwd(),'__csvStore' )\n",
    "csvlist = []\n",
    "for file in enumerate(os.listdir(csvStore)):\n",
    "    if file[1].endswith(\".csv\"):\n",
    "        csvlist.append(os.path.join(str(csvStore), file[1]))\n",
    "        print(os.path.join(str(csvStore), file[1]))"
   ]
  },
  {
   "cell_type": "code",
   "execution_count": null,
   "id": "cf8995f4",
   "metadata": {},
   "outputs": [],
   "source": [
    "list(enumerate(csvlist))"
   ]
  },
  {
   "cell_type": "markdown",
   "id": "39e0c9f4",
   "metadata": {},
   "source": [
    "<div class=\"alert alert-block alert-info\">\n",
    "    <b>Import the raw data</b>\n",
    "</div>"
   ]
  },
  {
   "cell_type": "code",
   "execution_count": null,
   "id": "e3ecd911",
   "metadata": {},
   "outputs": [],
   "source": [
    "df = pd.read_csv(csvlist[2])#.iloc[: , 2:]\n"
   ]
  },
  {
   "cell_type": "code",
   "execution_count": null,
   "id": "4bef0d9e",
   "metadata": {},
   "outputs": [],
   "source": [
    "dtale.show(df)"
   ]
  },
  {
   "cell_type": "markdown",
   "id": "3b537621",
   "metadata": {},
   "source": [
    "<div class=\"alert alert-block alert-info\">\n",
    "    <b>Find Columns that contain mixed data types to investigate for possible data quality issues</b>\n",
    "</div>\n"
   ]
  },
  {
   "cell_type": "code",
   "execution_count": null,
   "id": "ef2887ff",
   "metadata": {},
   "outputs": [],
   "source": [
    "if mixed_dtypes := {c: dtype for c in df.columns if (dtype := pd.api.types.infer_dtype(df[c])).startswith(\"mixed\")}:\n",
    "    raise TypeError(f\"Dataframe has one more mixed dtypes: {mixed_dtypes}\")"
   ]
  },
  {
   "cell_type": "markdown",
   "id": "3c3cd129",
   "metadata": {},
   "source": [
    "<div class=\"alert alert-block alert-info\">\n",
    "    <b>Find Columns with Dates and convert them to datetime type</b>\n",
    "</div>"
   ]
  },
  {
   "cell_type": "code",
   "execution_count": null,
   "id": "eeb7b8ef",
   "metadata": {},
   "outputs": [],
   "source": [
    "cols_w_dates = df.columns[(df.columns.str.contains('DT', case=False) | df.columns.str.contains('date', case=False) | df.columns.str.contains('OFEPISODE', case=False))] \n",
    "df[cols_w_dates] = df[cols_w_dates].apply(pd.to_datetime)\n",
    "cols_w_dates\n"
   ]
  },
  {
   "cell_type": "markdown",
   "id": "e1d7db67",
   "metadata": {},
   "source": [
    "<div class=\"alert alert-block alert-info\">\n",
    "    <b>Break up columns</b>\n",
    "</div>"
   ]
  },
  {
   "cell_type": "code",
   "execution_count": null,
   "id": "d8b20dc1",
   "metadata": {},
   "outputs": [],
   "source": [
    "# Descriptive IDs\n",
    "df.columns[:27]\n",
    "colsMeta = df.columns[:27]\n",
    "# OASIS Factors\n",
    "df.columns[27:]\n",
    "colsOASIS = df.columns[27:]"
   ]
  },
  {
   "cell_type": "markdown",
   "id": "e58d1e37",
   "metadata": {},
   "source": [
    "<div class=\"alert alert-block alert-info\">\n",
    "    <b>Important Summary Stats</b>\n",
    "</div>"
   ]
  },
  {
   "cell_type": "code",
   "execution_count": null,
   "id": "ed633d9a",
   "metadata": {},
   "outputs": [],
   "source": [
    "f\"There are {df.groupby('DispositionId').agg({'pa_id': 'nunique'}).sum().values[0]} patients\"\n",
    "\n",
    "f\"Alive: {df.groupby('mortality').agg({'pa_id': 'nunique'}).iloc[0,0]} | Dead: {df.groupby('mortality').agg({'pa_id': 'nunique'}).iloc[1,0]}\""
   ]
  },
  {
   "cell_type": "markdown",
   "id": "0dfce62a",
   "metadata": {},
   "source": [
    "<hr style=\"height:2px;border-width:0;color:black;background-color:black\">"
   ]
  },
  {
   "cell_type": "markdown",
   "id": "7519aa3f",
   "metadata": {},
   "source": [
    "<div class=\"alert alert-info\" role=\"alert\">\n",
    "    <b>Create a patients df and populate the death date by taking the most recent dates</b>\n",
    "</div>"
   ]
  },
  {
   "cell_type": "code",
   "execution_count": null,
   "id": "7aa540fb",
   "metadata": {},
   "outputs": [],
   "source": [
    "len(df.groupby(['pa_id'])['pa_id','DispositionId','pa_gender','year_born', 'M0906_DC_TRAN_DTH_DT', 'mortality'].transform('max').drop_duplicates('pa_id'))\n",
    "\n",
    "df_patients = df.groupby(['pa_id'])['pa_id', 'DispositionId' , 'pa_gender','year_born', 'M0906_DC_TRAN_DTH_DT', 'mortality', 'cedd_dateofdeath'].transform('max').drop_duplicates('pa_id').reset_index(drop=True)"
   ]
  },
  {
   "cell_type": "markdown",
   "id": "d538057a",
   "metadata": {},
   "source": [
    "<div class=\"alert alert-info\" role=\"alert\">\n",
    "    <b>If no cedd_dateofdeath is provided then use the 'M0906_DC_TRAN_DTH_DT' </b>\n",
    "</div>"
   ]
  },
  {
   "cell_type": "code",
   "execution_count": null,
   "id": "da315f11",
   "metadata": {},
   "outputs": [],
   "source": [
    "df_patients['cedd_dateofdeath'].where(((df_patients.mortality == 0) | (~df_patients.cedd_dateofdeath.isnull())), (df_patients['M0906_DC_TRAN_DTH_DT']), inplace=True)"
   ]
  },
  {
   "cell_type": "markdown",
   "id": "9bc2d215",
   "metadata": {},
   "source": [
    "<div class=\"alert alert-info\" role=\"alert\">\n",
    "    <b>Create a Year of Death + Age at Death column</b>\n",
    "</div>"
   ]
  },
  {
   "cell_type": "code",
   "execution_count": null,
   "id": "cadadc2d",
   "metadata": {},
   "outputs": [],
   "source": [
    "df_patients['yod']= pd.DatetimeIndex(df_patients['cedd_dateofdeath']).year\n",
    "df_patients['aod'] = df_patients['yod'] - df_patients['year_born']\n"
   ]
  },
  {
   "cell_type": "markdown",
   "id": "3521e1f4",
   "metadata": {},
   "source": [
    "<div class=\"alert alert-info\" role=\"alert\">\n",
    "    <b>Convert YOD and AAD into integers</b>\n",
    "</div>"
   ]
  },
  {
   "cell_type": "code",
   "execution_count": null,
   "id": "19d433fb",
   "metadata": {},
   "outputs": [],
   "source": [
    "#df_patients.fillna({'cedd_dateofdeath':0,}, inplace=True)\n",
    "df_patients.fillna({'yod':0,}, inplace=True)\n",
    "df_patients[\"yod\"] = df_patients[\"yod\"].apply(np.int64)\n",
    "df_patients.fillna({'aod':0,}, inplace=True)\n",
    "df_patients['aod'] = df_patients['aod'].apply(np.int64)"
   ]
  },
  {
   "cell_type": "code",
   "execution_count": null,
   "id": "93f7b247",
   "metadata": {},
   "outputs": [],
   "source": [
    "dtale.show(df_patients)"
   ]
  },
  {
   "cell_type": "markdown",
   "id": "5c2f2f8d",
   "metadata": {},
   "source": [
    "<div class=\"alert alert-info\" role=\"alert\">\n",
    "    <b>Export df_patients to .csv</b>\n",
    "</div>"
   ]
  },
  {
   "cell_type": "code",
   "execution_count": null,
   "id": "d3d8f832",
   "metadata": {},
   "outputs": [],
   "source": [
    "df_patients.to_csv(csvStore+'/patients.csv', sep=',', encoding='utf-8', index=False)"
   ]
  },
  {
   "cell_type": "markdown",
   "id": "ea3ca53d",
   "metadata": {},
   "source": [
    "<hr style=\"height:2px;border-width:0;color:black;background-color:black\">"
   ]
  },
  {
   "cell_type": "markdown",
   "id": "4efd741e",
   "metadata": {},
   "source": [
    "<div class=\"alert alert-warning\" role=\"alert\">\n",
    "    <b>Find Best Columns to Use for Event Data </b>\n",
    "</div>"
   ]
  },
  {
   "cell_type": "code",
   "execution_count": null,
   "id": "4a86e3d4",
   "metadata": {
    "scrolled": true
   },
   "outputs": [],
   "source": [
    "(df.loc[:,colsOASIS][df['mortality']==0].isnull().sum()/len(df.loc[:,colsOASIS][df['mortality']==0])).sort_values(ascending=False)\n",
    "#mask2 = (df.loc[:,colsOASIS][df['DispositionId']==2].isnull().sum()/len(df.loc[:,colsOASIS][df['DispositionId']==2])>=.75).sort_values(ascending=False)"
   ]
  },
  {
   "cell_type": "code",
   "execution_count": null,
   "id": "22efd891",
   "metadata": {},
   "outputs": [],
   "source": [
    "(df.loc[:,colsOASIS][df['mortality']==1].isnull().sum()/len(df.loc[:,colsOASIS][df['mortality']==1])).sort_values(ascending=True)\n",
    "#mask2 = (df.loc[:,colsOASIS][df['DispositionId']==2].isnull().sum()/len(df.loc[:,colsOASIS][df['DispositionId']==2])>=.75).sort_values(ascending=False)"
   ]
  },
  {
   "cell_type": "code",
   "execution_count": null,
   "id": "bd8ac284",
   "metadata": {},
   "outputs": [],
   "source": [
    "(df.loc[:,colsOASIS].isnull().sum()/len(df.loc[:,colsOASIS])).sort_values(ascending=True)"
   ]
  },
  {
   "cell_type": "markdown",
   "id": "806780d0",
   "metadata": {},
   "source": [
    "<hr style=\"height:2px;border-width:0;color:black;background-color:black\">"
   ]
  },
  {
   "cell_type": "markdown",
   "id": "8b85c607",
   "metadata": {},
   "source": [
    "<div class=\"alert alert-success\" role=\"alert\">\n",
    "    <b>Create an events dataframe</b>\n",
    "</div>"
   ]
  },
  {
   "cell_type": "code",
   "execution_count": null,
   "id": "0917fb2c",
   "metadata": {},
   "outputs": [],
   "source": [
    "cols_Oevents = ['M0100_ASSMT_REASON', \n",
    "                'M1860_CRNT_AMBLTN', \n",
    "                'M1850_CRNT_TRNSFRNG', \n",
    "                'M1830_CRNT_BATHG', \n",
    "                'M1820_CRNT_DRESS_LOWER', \n",
    "                'M1810_CRNT_DRESS_UPPER', \n",
    "                'M1306_UNHLD_STG2_PRSR_ULCR', \n",
    "                'M1242_PAIN_FREQ_ACTVTY_MVMT', \n",
    "                'M1400_WHEN_DYSPNEIC', \n",
    "                'M1340_SRGCL_WND_PRSNT', \n",
    "                'M1330_STAS_ULCR_PRSNT',\n",
    "                'M1324_STG_PRBLM_ULCER', \n",
    "                'M1620_BWL_INCONT', \n",
    "                'M1800_CRNT_GROOMING',\n",
    "                'M1030_THH_PAR_NUTRITION',\n",
    "                'M1030_THH_NONE_ABOVE',\n",
    "                'M1030_THH_IV_INFUSION',\n",
    "                'M1630_OSTOMY',\n",
    "                'M1030_THH_ENT_NUTRITION',\n",
    "                'M1200_VISION',\n",
    "                'M2200_THER_NEED_NA',\n",
    "                'M1322_NBR_PRSULC_STG1']"
   ]
  },
  {
   "cell_type": "code",
   "execution_count": null,
   "id": "6a9d8cd8",
   "metadata": {},
   "outputs": [],
   "source": [
    "cols_Oevents = colsOASIS.tolist()"
   ]
  },
  {
   "cell_type": "markdown",
   "id": "223f0807",
   "metadata": {},
   "source": [
    "<div class=\"alert alert-success\" role=\"alert\">\n",
    "    <b>Create an Items Mapping</b>\n",
    "</div>"
   ]
  },
  {
   "cell_type": "code",
   "execution_count": null,
   "id": "de7acc14",
   "metadata": {},
   "outputs": [],
   "source": [
    "event_mapping_df = pd.DataFrame(cols_Oevents,columns =['OASIS']).rename_axis('itemID').shift()[1:].reset_index(inplace=False)"
   ]
  },
  {
   "cell_type": "code",
   "execution_count": null,
   "id": "ed668382",
   "metadata": {},
   "outputs": [],
   "source": [
    "dtale.show(event_mapping_df)"
   ]
  },
  {
   "cell_type": "code",
   "execution_count": null,
   "id": "798c7d9c",
   "metadata": {},
   "outputs": [],
   "source": [
    "event_mapping_df.to_csv(csvStore+'/event_mapping_df.csv', sep=',', encoding='utf-8', index=False)"
   ]
  },
  {
   "cell_type": "markdown",
   "id": "06f3d4bb",
   "metadata": {},
   "source": [
    "<hr style=\"height:2px;border-width:0;color:black;background-color:black\">"
   ]
  },
  {
   "cell_type": "markdown",
   "id": "47a93730",
   "metadata": {},
   "source": [
    "<div class=\"alert alert-danger\" role=\"alert\">\n",
    "    <b>Extract the integer from the event descriptions</b>\n",
    "</div>"
   ]
  },
  {
   "cell_type": "code",
   "execution_count": null,
   "id": "78b78bbe",
   "metadata": {},
   "outputs": [],
   "source": [
    "df_events_int = df[cols_Oevents].apply(lambda x: x[cols_Oevents].str[:2].str.strip(), axis = 1).replace('NA',0)"
   ]
  },
  {
   "cell_type": "code",
   "execution_count": null,
   "id": "6960a8e8",
   "metadata": {},
   "outputs": [],
   "source": [
    "df_events_int.fillna(0, inplace=True)\n",
    "df_events_int = df_events_int.replace('YE',2)\n",
    "df_events_int = df_events_int.replace('NO',2)"
   ]
  },
  {
   "cell_type": "code",
   "execution_count": null,
   "id": "8fbba2e7",
   "metadata": {},
   "outputs": [],
   "source": [
    "for column in df_events_int:\n",
    "    if isinstance(df_events_int[column].dtypes, object):\n",
    "        df_events_int[column]=df_events_int[column].astype(int)\n",
    "        \n",
    "#df_events_int = df_events_int.apply(np.int64)"
   ]
  },
  {
   "cell_type": "code",
   "execution_count": null,
   "id": "fb54ed22",
   "metadata": {},
   "outputs": [],
   "source": [
    "df_events_int.dtypes"
   ]
  },
  {
   "cell_type": "code",
   "execution_count": null,
   "id": "4a53a29c",
   "metadata": {},
   "outputs": [],
   "source": [
    "#df_events_desc = df[cols_Oevents].apply(lambda x: x[cols_Oevents].str[2:].str.strip(), axis = 1)"
   ]
  },
  {
   "cell_type": "markdown",
   "id": "91949cb1",
   "metadata": {},
   "source": [
    "<div class=\"alert alert-danger\" role=\"alert\">\n",
    "    <b>Combine the descriptive columns with the desired events</b>\n",
    "</div>"
   ]
  },
  {
   "cell_type": "code",
   "execution_count": null,
   "id": "a6c6c1a6",
   "metadata": {},
   "outputs": [],
   "source": [
    "colsM = ['pa_id', 'epi_id', 'ceo_id', 'M0090_INFO_COMPLETED_DT']"
   ]
  },
  {
   "cell_type": "code",
   "execution_count": null,
   "id": "4ea94190",
   "metadata": {},
   "outputs": [],
   "source": [
    "df_events = pd.concat([df[colsM], df_events_int], axis = 1).drop_duplicates().reset_index().drop('index', axis=1, errors='ignore')"
   ]
  },
  {
   "cell_type": "code",
   "execution_count": null,
   "id": "f6235cf1",
   "metadata": {},
   "outputs": [],
   "source": [
    "dtale.show(df_events.head())"
   ]
  },
  {
   "cell_type": "markdown",
   "id": "e9e8f5d4",
   "metadata": {},
   "source": [
    "<div class=\"alert alert-danger alert-info\">\n",
    "    <b>Convert from Wide to Long format</b>\n",
    "</div>"
   ]
  },
  {
   "cell_type": "code",
   "execution_count": null,
   "id": "40d50489",
   "metadata": {},
   "outputs": [],
   "source": [
    "df_OASIS = df_events.melt(id_vars=colsM, var_name = 'OASIS', value_vars=cols_Oevents)"
   ]
  },
  {
   "cell_type": "code",
   "execution_count": null,
   "id": "219ed11c",
   "metadata": {},
   "outputs": [],
   "source": [
    "df_OASIS = df_OASIS.merge(event_mapping_df,left_on='OASIS', right_on='OASIS', how='left')"
   ]
  },
  {
   "cell_type": "markdown",
   "id": "a79b1b5d",
   "metadata": {},
   "source": [
    "<div class=\"alert alert-danger alert-info\">\n",
    "    <b>Convert itemID to Integers (this actually caused problems later on when serializing to JSON!!</b>\n",
    "</div>"
   ]
  },
  {
   "cell_type": "code",
   "execution_count": null,
   "id": "d9432819",
   "metadata": {},
   "outputs": [],
   "source": [
    "df_OASIS.fillna({'itemID':0,}, inplace=True)\n",
    "df_OASIS['itemID'] = df_OASIS['itemID'].apply(np.int64)"
   ]
  },
  {
   "cell_type": "markdown",
   "id": "810bc047",
   "metadata": {},
   "source": [
    "<div class=\"alert alert-danger alert-info\">\n",
    "    <b>Rearrange the columns to match MIMIC</b>\n",
    "</div>"
   ]
  },
  {
   "cell_type": "code",
   "execution_count": null,
   "id": "ec19dc2e",
   "metadata": {},
   "outputs": [],
   "source": [
    "mid = df_OASIS['itemID']\n",
    "mid2 = df_OASIS['value']\n",
    "df_OASIS.drop(labels=['itemID', 'value'], axis=1, inplace = True)\n",
    "df_OASIS.insert(4, 'itemID', mid)\n",
    "df_OASIS.insert(5, 'value', mid2)"
   ]
  },
  {
   "cell_type": "code",
   "execution_count": null,
   "id": "2545ecb8",
   "metadata": {
    "scrolled": true
   },
   "outputs": [],
   "source": [
    "len(df_OASIS)\n",
    "#df_OASIS.head()\n",
    "dtale.show(df_OASIS.head())"
   ]
  },
  {
   "cell_type": "markdown",
   "id": "1e121425",
   "metadata": {},
   "source": [
    "<div class=\"alert alert-danger alert-info\">\n",
    "    <b>Export to CSV</b>\n",
    "</div>"
   ]
  },
  {
   "cell_type": "code",
   "execution_count": null,
   "id": "caf7dae8",
   "metadata": {},
   "outputs": [],
   "source": [
    "df_OASIS.to_csv(csvStore+'/df_OASIS.csv', sep=',', encoding='utf-8', index=False)"
   ]
  },
  {
   "cell_type": "markdown",
   "id": "5f93f0ba",
   "metadata": {},
   "source": [
    "<hr style=\"height:2px;border-width:0;color:black;background-color:black\">"
   ]
  },
  {
   "cell_type": "markdown",
   "id": "96d02737",
   "metadata": {},
   "source": [
    "<div class=\"alert alert-success\" role=\"alert\">\n",
    "  Create an visits df\n",
    "</div>"
   ]
  },
  {
   "cell_type": "code",
   "execution_count": null,
   "id": "60246c34",
   "metadata": {},
   "outputs": [],
   "source": [
    "dfv = df.set_index(['pa_id', 'epi_id', 'ceo_id'])#[['M0090_INFO_COMPLETED_DT', 'M0100_ASSMT_REASON']]"
   ]
  },
  {
   "cell_type": "code",
   "execution_count": null,
   "id": "14a4a7de",
   "metadata": {},
   "outputs": [],
   "source": [
    "dtale.show(df[['M0090_INFO_COMPLETED_DT', 'M0100_ASSMT_REASON']].reset_index().drop_duplicates())"
   ]
  },
  {
   "cell_type": "code",
   "execution_count": null,
   "id": "699065d3",
   "metadata": {},
   "outputs": [],
   "source": [
    "df_visits = dfv[['M0090_INFO_COMPLETED_DT', 'M0100_ASSMT_REASON']].reset_index().drop('index', axis=1, errors='ignore').duplicated(keep=False)"
   ]
  },
  {
   "cell_type": "code",
   "execution_count": null,
   "id": "085e3caa",
   "metadata": {},
   "outputs": [],
   "source": [
    "dtale.show(df[df_visits][['pa_id', 'epi_id', 'ceo_id','M0090_INFO_COMPLETED_DT', 'M0100_ASSMT_REASON']])"
   ]
  },
  {
   "cell_type": "code",
   "execution_count": null,
   "id": "c8ca15ec",
   "metadata": {},
   "outputs": [],
   "source": [
    "df_visits = dfv[['M0090_INFO_COMPLETED_DT', 'M0100_ASSMT_REASON']].reset_index().drop('index', axis=1, errors='ignore').drop_duplicates().reset_index().drop('index', axis=1, errors='ignore')"
   ]
  },
  {
   "cell_type": "code",
   "execution_count": null,
   "id": "486342e9",
   "metadata": {},
   "outputs": [],
   "source": [
    "dtale.show(df_visits) #'epi_StartOfEpisode', 'epi_EndOfEpisode', 'epi_DischargeDate', "
   ]
  },
  {
   "cell_type": "code",
   "execution_count": null,
   "id": "32856641",
   "metadata": {},
   "outputs": [],
   "source": [
    "df_visits.to_csv(csvStore+'/df_visits.csv', sep=',', encoding='utf-8', index=False)"
   ]
  },
  {
   "cell_type": "markdown",
   "id": "1efd9b16",
   "metadata": {},
   "source": [
    "<hr style=\"height:2px;border-width:0;color:black;background-color:black\">"
   ]
  },
  {
   "cell_type": "markdown",
   "id": "0a80dd5f",
   "metadata": {},
   "source": [
    "<div class=\"alert alert-success\" role=\"alert\">\n",
    "  Create an episodes df\n",
    "</div>"
   ]
  },
  {
   "cell_type": "code",
   "execution_count": null,
   "id": "958b83fb",
   "metadata": {},
   "outputs": [],
   "source": [
    "dfe = df.set_index(['pa_id', 'epi_id'])#[['M0090_INFO_COMPLETED_DT', 'M0100_ASSMT_REASON']]"
   ]
  },
  {
   "cell_type": "code",
   "execution_count": null,
   "id": "542d5d70",
   "metadata": {},
   "outputs": [],
   "source": [
    "df_episodes = dfe[['mortality','epi_StartOfEpisode', 'epi_EndOfEpisode', 'epi_DischargeDate', 'epi_AdmitType',  'dcc_desc', 'dcr_desc', 'icd_code', 'icd_code_description']].reset_index().drop('index', axis=1, errors='ignore').drop_duplicates().reset_index().drop('index', axis=1, errors='ignore')"
   ]
  },
  {
   "cell_type": "code",
   "execution_count": null,
   "id": "c3ad17bc",
   "metadata": {},
   "outputs": [],
   "source": [
    "int(~pd.isna(df_episodes.epi_DischargeDate).values[0])"
   ]
  },
  {
   "cell_type": "code",
   "execution_count": null,
   "id": "89f963f4",
   "metadata": {},
   "outputs": [],
   "source": [
    "dtale.show(df_episodes)"
   ]
  },
  {
   "cell_type": "code",
   "execution_count": null,
   "id": "4ed36eac",
   "metadata": {},
   "outputs": [],
   "source": [
    "df_episodes.to_csv(csvStore+'/df_episode.csv', sep=',', encoding='utf-8', index=False)"
   ]
  },
  {
   "cell_type": "markdown",
   "id": "138a7790",
   "metadata": {},
   "source": [
    "<hr style=\"height:2px;border-width:0;color:black;background-color:black\">"
   ]
  },
  {
   "cell_type": "code",
   "execution_count": null,
   "id": "a4b956a8",
   "metadata": {},
   "outputs": [],
   "source": []
  }
 ],
 "metadata": {
  "kernelspec": {
   "display_name": "Python [conda env:rapids-22.02]",
   "language": "python",
   "name": "conda-env-rapids-22.02-py"
  },
  "language_info": {
   "codemirror_mode": {
    "name": "ipython",
    "version": 3
   },
   "file_extension": ".py",
   "mimetype": "text/x-python",
   "name": "python",
   "nbconvert_exporter": "python",
   "pygments_lexer": "ipython3",
   "version": "3.8.12"
  }
 },
 "nbformat": 4,
 "nbformat_minor": 5
}
