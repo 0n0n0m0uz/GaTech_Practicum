{
 "cells": [
  {
   "cell_type": "markdown",
   "id": "df770bea",
   "metadata": {},
   "source": [
    "<div class=\"alert alert-block alert-info\">\n",
    "    <b>Import Packages</b>\n",
    "</div>\n"
   ]
  },
  {
   "cell_type": "code",
   "execution_count": 1,
   "id": "64c226b0",
   "metadata": {},
   "outputs": [],
   "source": [
    "import pandas as  pd\n",
    "import os\n",
    "import sys\n",
    "import numpy as np\n",
    "import dtale\n",
    "import json\n",
    "from tqdm import tqdm"
   ]
  },
  {
   "cell_type": "markdown",
   "id": "aff41bb6",
   "metadata": {},
   "source": [
    "<div class=\"alert alert-block alert-info\">\n",
    "    <b>Import the local pyhospice module so it can be accessed like any other module</b>\n",
    "</div>\n"
   ]
  },
  {
   "cell_type": "code",
   "execution_count": 2,
   "id": "f14bdae0",
   "metadata": {},
   "outputs": [],
   "source": [
    "sys.path.append('/pyhospice')"
   ]
  },
  {
   "cell_type": "markdown",
   "id": "2a9d0213",
   "metadata": {},
   "source": [
    "<div class=\"alert alert-block alert-info\">\n",
    "    <b>Jupyter Plumbing</b>\n",
    "</div>\n"
   ]
  },
  {
   "cell_type": "code",
   "execution_count": 3,
   "id": "4ddcf0c3",
   "metadata": {},
   "outputs": [
    {
     "data": {
      "text/html": [
       "<style>.container { width:100% !important; }</style>"
      ],
      "text/plain": [
       "<IPython.core.display.HTML object>"
      ]
     },
     "metadata": {},
     "output_type": "display_data"
    }
   ],
   "source": [
    "# %load C:\\users\\derek\\.jupyter\\startup.py\n",
    "from IPython.core.interactiveshell import InteractiveShell\n",
    "InteractiveShell.ast_node_interactivity = \"all\"\n",
    "\n",
    "from IPython.core.display import display, HTML\n",
    "display(HTML(\"<style>.container { width:100% !important; }</style>\"))\n",
    "\n",
    "#pd.set_option('display.max_colwidth', 100)\n",
    "pd.set_option('display.max_colwidth', None)\n",
    "pd.set_option(\"display.max_rows\", None)\n",
    "pd.options.display.max_columns = 500\n",
    "pd.options.display.max_seq_items = 500"
   ]
  },
  {
   "cell_type": "markdown",
   "id": "4a3b416a",
   "metadata": {},
   "source": [
    "<div class=\"alert alert-block alert-info\">\n",
    "    <b>View .csv files in the _csvStore working directory</b>\n",
    "</div>\n"
   ]
  },
  {
   "cell_type": "code",
   "execution_count": 4,
   "id": "ddb3ea6d",
   "metadata": {},
   "outputs": [
    {
     "name": "stdout",
     "output_type": "stream",
     "text": [
      "/home/derek/Jupyter_Notebooks/__csvStore/df_visits.csv\n",
      "/home/derek/Jupyter_Notebooks/__csvStore/df_episode.csv\n",
      "/home/derek/Jupyter_Notebooks/__csvStore/final.csv\n",
      "/home/derek/Jupyter_Notebooks/__csvStore/df_OASIS.csv\n",
      "/home/derek/Jupyter_Notebooks/__csvStore/dead_patients_final.csv\n",
      "/home/derek/Jupyter_Notebooks/__csvStore/orig_data2.csv\n",
      "/home/derek/Jupyter_Notebooks/__csvStore/eliminated.csv\n",
      "/home/derek/Jupyter_Notebooks/__csvStore/orig_data.csv\n",
      "/home/derek/Jupyter_Notebooks/__csvStore/cleaned_data.csv\n",
      "/home/derek/Jupyter_Notebooks/__csvStore/event_mapping_df.csv\n",
      "/home/derek/Jupyter_Notebooks/__csvStore/soc2.csv\n",
      "/home/derek/Jupyter_Notebooks/__csvStore/du.csv\n",
      "/home/derek/Jupyter_Notebooks/__csvStore/patients.csv\n",
      "/home/derek/Jupyter_Notebooks/__csvStore/duplicate_ceo_ids.csv\n",
      "/home/derek/Jupyter_Notebooks/__csvStore/soc.csv\n",
      "/home/derek/Jupyter_Notebooks/__csvStore/alive_patients_final.csv\n",
      "/home/derek/Jupyter_Notebooks/__csvStore/dv.csv\n",
      "/home/derek/Jupyter_Notebooks/__csvStore/deduped_complete.csv\n",
      "/home/derek/Jupyter_Notebooks/__csvStore/duplicate_DispositionIDs.csv\n"
     ]
    }
   ],
   "source": [
    "csvStore = os.path.join(os.getcwd(),'__csvStore' )\n",
    "csvlist = []\n",
    "for file in enumerate(os.listdir(csvStore)):\n",
    "    if file[1].endswith(\".csv\"):\n",
    "        csvlist.append(os.path.join(str(csvStore), file[1]))\n",
    "        print(os.path.join(str(csvStore), file[1]))"
   ]
  },
  {
   "cell_type": "code",
   "execution_count": 5,
   "id": "b7c7914e",
   "metadata": {},
   "outputs": [
    {
     "data": {
      "text/plain": [
       "[(0, '/home/derek/Jupyter_Notebooks/__csvStore/df_visits.csv'),\n",
       " (1, '/home/derek/Jupyter_Notebooks/__csvStore/df_episode.csv'),\n",
       " (2, '/home/derek/Jupyter_Notebooks/__csvStore/final.csv'),\n",
       " (3, '/home/derek/Jupyter_Notebooks/__csvStore/df_OASIS.csv'),\n",
       " (4, '/home/derek/Jupyter_Notebooks/__csvStore/dead_patients_final.csv'),\n",
       " (5, '/home/derek/Jupyter_Notebooks/__csvStore/orig_data2.csv'),\n",
       " (6, '/home/derek/Jupyter_Notebooks/__csvStore/eliminated.csv'),\n",
       " (7, '/home/derek/Jupyter_Notebooks/__csvStore/orig_data.csv'),\n",
       " (8, '/home/derek/Jupyter_Notebooks/__csvStore/cleaned_data.csv'),\n",
       " (9, '/home/derek/Jupyter_Notebooks/__csvStore/event_mapping_df.csv'),\n",
       " (10, '/home/derek/Jupyter_Notebooks/__csvStore/soc2.csv'),\n",
       " (11, '/home/derek/Jupyter_Notebooks/__csvStore/du.csv'),\n",
       " (12, '/home/derek/Jupyter_Notebooks/__csvStore/patients.csv'),\n",
       " (13, '/home/derek/Jupyter_Notebooks/__csvStore/duplicate_ceo_ids.csv'),\n",
       " (14, '/home/derek/Jupyter_Notebooks/__csvStore/soc.csv'),\n",
       " (15, '/home/derek/Jupyter_Notebooks/__csvStore/alive_patients_final.csv'),\n",
       " (16, '/home/derek/Jupyter_Notebooks/__csvStore/dv.csv'),\n",
       " (17, '/home/derek/Jupyter_Notebooks/__csvStore/deduped_complete.csv'),\n",
       " (18, '/home/derek/Jupyter_Notebooks/__csvStore/duplicate_DispositionIDs.csv')]"
      ]
     },
     "execution_count": 5,
     "metadata": {},
     "output_type": "execute_result"
    }
   ],
   "source": [
    "# enumerate csvlist for easier dynamic import of different versions\n",
    "list(enumerate(csvlist))"
   ]
  },
  {
   "cell_type": "markdown",
   "id": "bd7f9b49",
   "metadata": {},
   "source": [
    "<div class=\"alert alert-block alert-info\">\n",
    "    <b>Create df by import .csv files created in previous step</b>\n",
    "</div>\n"
   ]
  },
  {
   "cell_type": "code",
   "execution_count": 6,
   "id": "fce16b06",
   "metadata": {},
   "outputs": [],
   "source": [
    "df_patients = pd.read_csv(csvlist[12])#.iloc[:1000,:]\n",
    "df_episodes = pd.read_csv(csvlist[1])#.iloc[:150,:]\n",
    "df_visits = pd.read_csv(csvlist[0])#.iloc[:150,:]\n",
    "df_OASIS = pd.read_csv(csvlist[3])#.iloc[:150,:]\n",
    "df_event_mapping = pd.read_csv(csvlist[9])"
   ]
  },
  {
   "cell_type": "markdown",
   "id": "30a40726",
   "metadata": {},
   "source": [
    "<hr style=\"height:2px;border-width:0;color:black;background-color:black\">"
   ]
  },
  {
   "cell_type": "markdown",
   "id": "d32e3a9d",
   "metadata": {},
   "source": [
    "<div class=\"alert alert-block alert-info\">\n",
    "    <b>This allows us to filter our data to only a handful of patients for testing purposes</b>\n",
    "</div>\n"
   ]
  },
  {
   "cell_type": "code",
   "execution_count": 7,
   "id": "2e226247",
   "metadata": {},
   "outputs": [
    {
     "data": {
      "text/plain": [
       "'There are 2903 patients'"
      ]
     },
     "execution_count": 7,
     "metadata": {},
     "output_type": "execute_result"
    }
   ],
   "source": [
    "dead = df_patients[df_patients.mortality == 1].pa_id\n",
    "f\"There are {len(dead)} patients\""
   ]
  },
  {
   "cell_type": "code",
   "execution_count": 8,
   "id": "7f0cb5a6",
   "metadata": {},
   "outputs": [
    {
     "data": {
      "text/plain": [
       "pa_id                       int64\n",
       "epi_id                      int64\n",
       "ceo_id                      int64\n",
       "M0090_INFO_COMPLETED_DT    object\n",
       "itemID                      int64\n",
       "value                       int64\n",
       "OASIS                      object\n",
       "dtype: object"
      ]
     },
     "execution_count": 8,
     "metadata": {},
     "output_type": "execute_result"
    }
   ],
   "source": [
    "df_OASIS_dead = df_OASIS[df_OASIS.pa_id.isin(dead)]\n",
    "df_OASIS_dead.dtypes"
   ]
  },
  {
   "cell_type": "markdown",
   "id": "ef732b37",
   "metadata": {},
   "source": [
    "<div class=\"alert alert-block alert-info\">\n",
    "    <b>Creates A Dictionary with {pa_id: row_numbers/num of rows} to see which patients have the most rows (most number of visits/data)</b>\n",
    "</div>\n"
   ]
  },
  {
   "cell_type": "code",
   "execution_count": 9,
   "id": "5bee4816",
   "metadata": {},
   "outputs": [],
   "source": [
    "grpz = df_OASIS_dead.groupby('pa_id').groups\n",
    "#df_OASIS.groupby('pa_id').groups[36796]\n",
    "#df_OASIS.groupby('pa_id').get_group(tup)"
   ]
  },
  {
   "cell_type": "markdown",
   "id": "0f557ef2",
   "metadata": {},
   "source": [
    "<div class=\"alert alert-block alert-info\">\n",
    "    <b>Find the Patient w the most Rows which are good candiates for testing</b>\n",
    "</div>\n"
   ]
  },
  {
   "cell_type": "code",
   "execution_count": 10,
   "id": "3cd2f16a",
   "metadata": {},
   "outputs": [],
   "source": [
    "def patient_most_rows(grpz):\n",
    "    maxcount = max(len(v) for v in grpz.values())\n",
    "    print(f'The max rownum is {maxcount}, and the pa_id is:')\n",
    "    return [k for k, v in grpz.items() if len(v) == maxcount]\n"
   ]
  },
  {
   "cell_type": "code",
   "execution_count": 11,
   "id": "ad5776fc",
   "metadata": {},
   "outputs": [
    {
     "name": "stdout",
     "output_type": "stream",
     "text": [
      "The max rownum is 437, and the pa_id is:\n"
     ]
    },
    {
     "data": {
      "text/plain": [
       "[253877, 269826, 348164]"
      ]
     },
     "execution_count": 11,
     "metadata": {},
     "output_type": "execute_result"
    }
   ],
   "source": [
    "patient_most_rows(grpz)"
   ]
  },
  {
   "cell_type": "code",
   "execution_count": 12,
   "id": "4f912c4e",
   "metadata": {},
   "outputs": [
    {
     "data": {
      "text/plain": [
       "[253877, 269826, 348164]"
      ]
     },
     "execution_count": 12,
     "metadata": {},
     "output_type": "execute_result"
    }
   ],
   "source": [
    "length_dict = {k: len(v) for k, v in grpz.items()}\n",
    "[k for k, v in length_dict.items() if v == max(length_dict.values())]\n",
    "#length_dict"
   ]
  },
  {
   "cell_type": "code",
   "execution_count": 13,
   "id": "082a824d",
   "metadata": {},
   "outputs": [
    {
     "data": {
      "text/plain": [
       "254"
      ]
     },
     "execution_count": 13,
     "metadata": {},
     "output_type": "execute_result"
    }
   ],
   "source": [
    "import heapq\n",
    "dead100 = [k for k, v in length_dict.items() if v in heapq.nlargest(225, length_dict.values())]\n",
    "len(dead100)"
   ]
  },
  {
   "cell_type": "markdown",
   "id": "09a2655b",
   "metadata": {},
   "source": [
    "<div class=\"alert alert-block alert-info\">\n",
    "    <b>We will take all the 'Alive' patients since there are only 225</b>\n",
    "</div>"
   ]
  },
  {
   "cell_type": "code",
   "execution_count": 14,
   "id": "a692fd6b",
   "metadata": {},
   "outputs": [
    {
     "data": {
      "text/plain": [
       "'There are, 225, alive patients'"
      ]
     },
     "execution_count": 14,
     "metadata": {},
     "output_type": "execute_result"
    }
   ],
   "source": [
    "alive = df_patients[df_patients.mortality==0].pa_id\n",
    "f\"There are, {len(alive)}, alive patients\""
   ]
  },
  {
   "cell_type": "markdown",
   "id": "6ea9813d",
   "metadata": {},
   "source": [
    "<div class=\"alert alert-block alert-info\">\n",
    "    <b>This is our testing patient subset</b>\n",
    "</div>"
   ]
  },
  {
   "cell_type": "code",
   "execution_count": 15,
   "id": "e2411bec",
   "metadata": {},
   "outputs": [
    {
     "data": {
      "text/plain": [
       "'For testing purposes we will use 479 patient subset'"
      ]
     },
     "execution_count": 15,
     "metadata": {},
     "output_type": "execute_result"
    }
   ],
   "source": [
    "pa_subset = alive.tolist() + dead100\n",
    "f\"For testing purposes we will use {len(set(pa_subset))} patient subset\""
   ]
  },
  {
   "cell_type": "markdown",
   "id": "5d455247",
   "metadata": {},
   "source": [
    "<div class=\"alert alert-block alert-info\">\n",
    "    <b>Final Filter for the main df: we can hard code specific patients if desired</b>\n",
    "</div>"
   ]
  },
  {
   "cell_type": "code",
   "execution_count": 16,
   "id": "378a7220",
   "metadata": {},
   "outputs": [],
   "source": [
    "# Use this to hardcode patients you want to keep for testing\n",
    "#grpidx = (17191,44654,25607,18808,16862,17018,24556,16274,26475,27968,36781,17747,37870,18011,30512,51094,38501,36509,17716,42124,16950,353347,326385,319247,318537,307867,283257,268061,347156,325432,348164,348170,350202,335984,359871,364367,320405,306152,322487,322263,308977,280963)\n",
    "\n",
    "grpidx = pa_subset"
   ]
  },
  {
   "cell_type": "markdown",
   "id": "7a733e07",
   "metadata": {},
   "source": [
    "<div class=\"alert alert-block alert-info\">\n",
    "    <b>Repopulate the original df with test data</b>\n",
    "</div>\n"
   ]
  },
  {
   "cell_type": "code",
   "execution_count": 17,
   "id": "6d1e57f9",
   "metadata": {},
   "outputs": [],
   "source": [
    "df_patients = df_patients[df_patients.pa_id.isin(grpidx)]\n",
    "df_episodes = df_episodes[df_episodes.pa_id.isin(grpidx)]\n",
    "df_visits = df_visits[df_visits.pa_id.isin(grpidx)]\n",
    "df_OASIS = df_OASIS[df_OASIS.pa_id.isin(grpidx)]"
   ]
  },
  {
   "cell_type": "code",
   "execution_count": 18,
   "id": "38e22b7e",
   "metadata": {},
   "outputs": [
    {
     "data": {
      "text/plain": [
       "479"
      ]
     },
     "execution_count": 18,
     "metadata": {},
     "output_type": "execute_result"
    }
   ],
   "source": [
    "df_OASIS.pa_id.nunique()"
   ]
  },
  {
   "cell_type": "markdown",
   "id": "7a0cf9fc",
   "metadata": {},
   "source": [
    "<hr style=\"height:2px;border-width:0;color:black;background-color:black\">"
   ]
  },
  {
   "cell_type": "markdown",
   "id": "6f0a4167",
   "metadata": {},
   "source": [
    "<div class=\"alert alert-danger\">\n",
    "    <b>View datatypes - the int64 were causing a bug when serializing to JSON</b>\n",
    "</div>"
   ]
  },
  {
   "cell_type": "code",
   "execution_count": 19,
   "id": "b3ebcd0b",
   "metadata": {},
   "outputs": [
    {
     "data": {
      "text/plain": [
       "pa_id                    int64\n",
       "DispositionId            int64\n",
       "pa_gender               object\n",
       "year_born                int64\n",
       "M0906_DC_TRAN_DTH_DT    object\n",
       "mortality                int64\n",
       "cedd_dateofdeath        object\n",
       "yod                      int64\n",
       "aod                      int64\n",
       "dtype: object"
      ]
     },
     "execution_count": 19,
     "metadata": {},
     "output_type": "execute_result"
    },
    {
     "data": {
      "text/plain": [
       "pa_id                    int64\n",
       "epi_id                   int64\n",
       "mortality                int64\n",
       "epi_StartOfEpisode      object\n",
       "epi_EndOfEpisode        object\n",
       "epi_DischargeDate       object\n",
       "epi_AdmitType           object\n",
       "dcc_desc                object\n",
       "dcr_desc                object\n",
       "icd_code                object\n",
       "icd_code_description    object\n",
       "dtype: object"
      ]
     },
     "execution_count": 19,
     "metadata": {},
     "output_type": "execute_result"
    },
    {
     "data": {
      "text/plain": [
       "pa_id                       int64\n",
       "epi_id                      int64\n",
       "ceo_id                      int64\n",
       "M0090_INFO_COMPLETED_DT    object\n",
       "M0100_ASSMT_REASON         object\n",
       "dtype: object"
      ]
     },
     "execution_count": 19,
     "metadata": {},
     "output_type": "execute_result"
    },
    {
     "data": {
      "text/plain": [
       "pa_id                       int64\n",
       "epi_id                      int64\n",
       "ceo_id                      int64\n",
       "M0090_INFO_COMPLETED_DT    object\n",
       "itemID                      int64\n",
       "value                       int64\n",
       "OASIS                      object\n",
       "dtype: object"
      ]
     },
     "execution_count": 19,
     "metadata": {},
     "output_type": "execute_result"
    },
    {
     "data": {
      "text/plain": [
       "itemID     int64\n",
       "OASIS     object\n",
       "dtype: object"
      ]
     },
     "execution_count": 19,
     "metadata": {},
     "output_type": "execute_result"
    }
   ],
   "source": [
    "df_patients.dtypes#.head()\n",
    "df_episodes.dtypes#.head()\n",
    "df_visits.dtypes#.head()\n",
    "df_OASIS.dtypes#.head()\n",
    "df_event_mapping.dtypes#.head()"
   ]
  },
  {
   "cell_type": "markdown",
   "id": "89e82fa7",
   "metadata": {},
   "source": [
    "<hr style=\"height:2px;border-width:0;color:black;background-color:black\">"
   ]
  },
  {
   "cell_type": "markdown",
   "id": "98cd56ac",
   "metadata": {},
   "source": [
    "# Model Setup and Data Processing"
   ]
  },
  {
   "cell_type": "markdown",
   "id": "4d2cb8f8",
   "metadata": {},
   "source": [
    "<div class=\"alert alert-warning\">\n",
    "    <b>Import packages needed to Parallel process the Data</b>\n",
    "</div>"
   ]
  },
  {
   "cell_type": "code",
   "execution_count": 20,
   "id": "adb9be4f",
   "metadata": {},
   "outputs": [],
   "source": [
    "import joblib\n",
    "from joblib import Parallel, delayed\n",
    "import inspect"
   ]
  },
  {
   "cell_type": "markdown",
   "id": "c5ae21c7",
   "metadata": {},
   "source": [
    "<div class=\"alert alert-warning\">\n",
    "    <b>View the number of cores recognized for parallel processing</b>\n",
    "</div>"
   ]
  },
  {
   "cell_type": "code",
   "execution_count": 21,
   "id": "9ac0f5c9",
   "metadata": {},
   "outputs": [
    {
     "name": "stdout",
     "output_type": "stream",
     "text": [
      "12\n"
     ]
    }
   ],
   "source": [
    "\n",
    "print(joblib.cpu_count() - 4)\n"
   ]
  },
  {
   "cell_type": "markdown",
   "id": "87cfc682",
   "metadata": {},
   "source": [
    "<div class=\"alert alert-warning\">\n",
    "    <b>Import pyhealth classes and functions</b>\n",
    "</div>"
   ]
  },
  {
   "cell_type": "code",
   "execution_count": 22,
   "id": "d536c6c6",
   "metadata": {},
   "outputs": [],
   "source": [
    "from pyhospice.data.base_mimic import parallel_parse_tables\n",
    "from pyhospice.utils.utility_parallel import unfold_parallel\n",
    "from pyhospice.utils.utility_parallel import partition_estimators\n",
    "from pyhospice.utils.utility import read_csv_to_df\n",
    "from pyhospice.utils.utility import make_dirs_if_not_exists"
   ]
  },
  {
   "cell_type": "code",
   "execution_count": 23,
   "id": "4e49e714",
   "metadata": {},
   "outputs": [
    {
     "data": {
      "text/plain": [
       "'/home/derek/Jupyter_Notebooks/pyhospice/data/base_mimic.py'"
      ]
     },
     "execution_count": 23,
     "metadata": {},
     "output_type": "execute_result"
    },
    {
     "data": {
      "text/plain": [
       "'/home/derek/Jupyter_Notebooks/pyhospice/utils/utility_parallel.py'"
      ]
     },
     "execution_count": 23,
     "metadata": {},
     "output_type": "execute_result"
    },
    {
     "data": {
      "text/plain": [
       "'/home/derek/Jupyter_Notebooks/pyhospice/utils/utility_parallel.py'"
      ]
     },
     "execution_count": 23,
     "metadata": {},
     "output_type": "execute_result"
    },
    {
     "data": {
      "text/plain": [
       "'/home/derek/Jupyter_Notebooks/pyhospice/utils/utility.py'"
      ]
     },
     "execution_count": 23,
     "metadata": {},
     "output_type": "execute_result"
    },
    {
     "data": {
      "text/plain": [
       "'/home/derek/Jupyter_Notebooks/pyhospice/utils/utility.py'"
      ]
     },
     "execution_count": 23,
     "metadata": {},
     "output_type": "execute_result"
    }
   ],
   "source": [
    "inspect.getsourcefile(parallel_parse_tables)\n",
    "inspect.getsourcefile(unfold_parallel)\n",
    "inspect.getsourcefile(partition_estimators)\n",
    "inspect.getsourcefile(read_csv_to_df)\n",
    "inspect.getsourcefile(make_dirs_if_not_exists)\n"
   ]
  },
  {
   "cell_type": "markdown",
   "id": "8cd73fe4",
   "metadata": {},
   "source": [
    "<div class=\"alert alert-warning\">\n",
    "    <b>Create Output Directory to Save Files</b>\n",
    "</div>"
   ]
  },
  {
   "cell_type": "code",
   "execution_count": 24,
   "id": "6b51d4aa",
   "metadata": {},
   "outputs": [],
   "source": [
    "#from pathlib import Path\n",
    "#Path(\"pyhealth_export\").mkdir(parents=True, exist_ok=True)"
   ]
  },
  {
   "cell_type": "markdown",
   "id": "489478c3",
   "metadata": {},
   "source": [
    "<div class=\"alert alert-warning\">\n",
    "    <b>Setup the Parallel Proccesing Workflow</b>\n",
    "</div>"
   ]
  },
  {
   "cell_type": "code",
   "execution_count": 25,
   "id": "5f3989ca",
   "metadata": {},
   "outputs": [],
   "source": [
    "save_dir = os.getcwd() + '/__exported'+ '/pyhealth_export'\n",
    "n_jobz = (joblib.cpu_count() - 4)  # number of parallel jobs\n",
    "duration = 21600  # time window for episode generation\n",
    "selection_method = 'last'\n",
    "var_list = df_event_mapping.OASIS.tolist()\n",
    "patient_id_list = df_patients['pa_id'].tolist()"
   ]
  },
  {
   "cell_type": "markdown",
   "id": "772d3fe0",
   "metadata": {},
   "source": [
    "<div class=\"alert alert-danger\">\n",
    "    <b>Custom JSON Encoder to deal with np.int64 serialization Bug</b>\n",
    "</div>"
   ]
  },
  {
   "cell_type": "code",
   "execution_count": 26,
   "id": "693323b8",
   "metadata": {},
   "outputs": [],
   "source": [
    "class NpEncoder(json.JSONEncoder):\n",
    "    def default(self, obj):\n",
    "        if isinstance(obj, np.integer):\n",
    "            return int(obj)\n",
    "        if isinstance(obj, np.floating):\n",
    "            return float(obj)\n",
    "        if isinstance(obj, np.ndarray):\n",
    "            return obj.tolist()\n",
    "        return super(NpEncoder, self).default(obj)"
   ]
  },
  {
   "cell_type": "markdown",
   "id": "e1a8ef91",
   "metadata": {},
   "source": [
    "<div class=\"alert alert-warning\">\n",
    "    <b>Execute the Parallel Data Processing</b>\n",
    "</div>"
   ]
  },
  {
   "cell_type": "code",
   "execution_count": 27,
   "id": "bd52d477",
   "metadata": {},
   "outputs": [
    {
     "name": "stdout",
     "output_type": "stream",
     "text": [
      "Split tasks into 12 cores...\n"
     ]
    }
   ],
   "source": [
    "n_patients_list, starts, n_jobs = partition_estimators(\n",
    "        len(patient_id_list), n_jobs=n_jobz)"
   ]
  },
  {
   "cell_type": "code",
   "execution_count": null,
   "id": "700de1c7",
   "metadata": {},
   "outputs": [],
   "source": [
    "all_results = Parallel(n_jobs=n_jobs, max_nbytes=None, verbose=True)(\n",
    "delayed(parallel_parse_tables)(\n",
    "     patient_df=df_patients,\n",
    "     admission_df=df_episodes,\n",
    "      icu_df=df_visits,\n",
    "     event_df=df_OASIS,\n",
    "     event_mapping_df=df_event_mapping,\n",
    "     duration=duration,\n",
    "     save_dir=save_dir,selection_method = selection_method, var_list = var_list, patient_id_list = patient_id_list)\n",
    " for i in range(n_jobs))"
   ]
  },
  {
   "cell_type": "markdown",
   "id": "2e57ab48",
   "metadata": {},
   "source": [
    "<div class=\"alert alert-warning\">\n",
    "    <b>Create JSON File With Patient-Level Data</b>\n",
    "</div>"
   ]
  },
  {
   "cell_type": "code",
   "execution_count": null,
   "id": "783b49f1",
   "metadata": {},
   "outputs": [],
   "source": [
    "patient_data_loc = os.path.join(save_dir, 'patient_data_demo.json')\n",
    "all_results = list(map(list, zip(*all_results)))\n",
    "valid_data_list = unfold_parallel(all_results[0], n_jobs)\n",
    "valid_id_list = unfold_parallel(all_results[1], n_jobs)\n",
    "\n",
    "patient_data_list = []\n",
    "for p in valid_data_list:\n",
    "        patient_data_list.append(p.data)\n",
    "\n",
    "with open(patient_data_loc, 'w') as outfile:\n",
    "        json.dump(patient_data_list, outfile, cls=NpEncoder)"
   ]
  },
  {
   "cell_type": "markdown",
   "id": "6e53ac91",
   "metadata": {},
   "source": [
    "<div class=\"alert alert-warning\">\n",
    "    <b>Use Jupyter Magics which sends commands via Bash</b>\n",
    "</div>"
   ]
  },
  {
   "cell_type": "markdown",
   "id": "41d11a5e",
   "metadata": {},
   "source": [
    "##### the data must be in these folders to work correctly"
   ]
  },
  {
   "cell_type": "code",
   "execution_count": null,
   "id": "51788976",
   "metadata": {},
   "outputs": [],
   "source": [
    "x_data = save_dir+'/x_data'\n",
    "y_data = save_dir+'/y_data'\n",
    "move = save_dir+'/*_episode.csv'"
   ]
  },
  {
   "cell_type": "code",
   "execution_count": null,
   "id": "85bafaf0",
   "metadata": {},
   "outputs": [],
   "source": [
    "move"
   ]
  },
  {
   "cell_type": "code",
   "execution_count": null,
   "id": "85b58164",
   "metadata": {},
   "outputs": [],
   "source": [
    "!mkdir $x_data\n",
    "!mkdir $y_data"
   ]
  },
  {
   "cell_type": "code",
   "execution_count": null,
   "id": "1d0f3af4",
   "metadata": {},
   "outputs": [],
   "source": [
    "save_dir"
   ]
  },
  {
   "cell_type": "code",
   "execution_count": null,
   "id": "d2f069dd",
   "metadata": {},
   "outputs": [],
   "source": [
    "!mv $save_dir*_episode.csv $x_data"
   ]
  },
  {
   "cell_type": "code",
   "execution_count": null,
   "id": "6e35b5d2",
   "metadata": {},
   "outputs": [],
   "source": [
    "#!Powershell.exe -Command \"Move-Item -Path * -Filter *_episode.csv -Destination .\\x_data\""
   ]
  },
  {
   "cell_type": "markdown",
   "id": "d519fd5e",
   "metadata": {},
   "source": [
    "\n",
    "\n",
    "<div class=\"alert alert-danger\">\n",
    "    <b>Examination of the Output</b>\n",
    "</div>"
   ]
  },
  {
   "cell_type": "code",
   "execution_count": null,
   "id": "f3405682",
   "metadata": {},
   "outputs": [],
   "source": [
    "type(all_results[0][0][0])\n",
    "all_results[0][0][0]\n",
    "patient_data_list"
   ]
  },
  {
   "cell_type": "markdown",
   "id": "20f54f92",
   "metadata": {},
   "source": [
    "<div class=\"alert alert-warning\">\n",
    "    <b>Generate Labels for Mortality or Not</b>\n",
    "</div>"
   ]
  },
  {
   "cell_type": "code",
   "execution_count": null,
   "id": "e540de4b",
   "metadata": {},
   "outputs": [],
   "source": [
    "os.path.exists(save_dir+'/y_data')"
   ]
  },
  {
   "cell_type": "code",
   "execution_count": null,
   "id": "c70f40fa",
   "metadata": {},
   "outputs": [],
   "source": [
    "with open(patient_data_loc) as f:\n",
    "    patient_data_list = json.load(f)\n",
    "##########################################################\n",
    "output_headers = ['episode_file', 'death_indicator']\n",
    "output_df = pd.DataFrame(columns=output_headers)\n",
    "ydir = save_dir+'/y_data'\n",
    "\n",
    "for i, p_id in enumerate(tqdm(patient_data_list)):\n",
    "    for adm in p_id['admission_list']:\n",
    "        # csv file does not exist\n",
    "        if 'episode_csv' in adm.keys():\n",
    "            temp_list = [adm['episode_csv'], adm['death_indicator']]\n",
    "            # append to the major episode dataframe\n",
    "            temp_df = pd.DataFrame(temp_list).transpose()\n",
    "            temp_df.columns = output_headers\n",
    "            output_df = pd.concat([output_df, temp_df], axis=0)\n",
    "# change file header to lower case\n",
    "\n",
    "output_df.columns = output_df.columns.str.lower()\n",
    "if not os.path.exists(ydir):\n",
    "    os.makedirs(ydir)\n",
    "output_df.to_csv(\n",
    "        os.path.join(save_dir+'/y_data', 'mortality.csv'),\n",
    "        index=False)"
   ]
  },
  {
   "cell_type": "markdown",
   "id": "b182df8f",
   "metadata": {},
   "source": [
    "<hr style=\"height:2px;border-width:0;color:black;background-color:black\">"
   ]
  },
  {
   "cell_type": "markdown",
   "id": "6c98344a",
   "metadata": {},
   "source": [
    "<div class=\"alert alert-warning\">\n",
    "    <b>Import Python Package and Libraries needed for model execution</b>\n",
    "</div>"
   ]
  },
  {
   "cell_type": "code",
   "execution_count": null,
   "id": "c5eb3c76",
   "metadata": {},
   "outputs": [],
   "source": [
    "from __future__ import division\n",
    "from __future__ import print_function\n",
    "from pathlib import Path\n",
    "import torch # Needed if we will use GPU for model\n",
    "print(torch.__version__)"
   ]
  },
  {
   "cell_type": "markdown",
   "id": "24053bd6",
   "metadata": {},
   "source": [
    "<div class=\"alert alert-warning\">\n",
    "    <b>Import functions and classes from the pyhosice module</b>\n",
    "</div>"
   ]
  },
  {
   "cell_type": "code",
   "execution_count": null,
   "id": "3b99d5e2",
   "metadata": {},
   "outputs": [],
   "source": [
    "from pyhospice.data.expdata_generator import sequencedata as expdata_generator\n",
    "from pyhospice.evaluation.evaluator import func\n",
    "from pyhospice.models.sequence.lstm import LSTM as model"
   ]
  },
  {
   "cell_type": "markdown",
   "id": "00698c63",
   "metadata": {},
   "source": [
    "<div class=\"alert alert-warning\">\n",
    "    <b>Verify the pyhosice model is importing from your Jupyter homebase</b>\n",
    "</div>"
   ]
  },
  {
   "cell_type": "code",
   "execution_count": null,
   "id": "7742b611",
   "metadata": {},
   "outputs": [],
   "source": [
    "inspect.getsourcefile(expdata_generator)\n",
    "inspect.getsourcefile(func)\n",
    "inspect.getsourcefile(model)"
   ]
  },
  {
   "cell_type": "markdown",
   "id": "bafc9902",
   "metadata": {},
   "source": [
    "<div class=\"alert alert-warning\">\n",
    "    <b>Serialize the Data into Pickles for Model Input</b>\n",
    "</div>"
   ]
  },
  {
   "cell_type": "code",
   "execution_count": null,
   "id": "1dae6db0",
   "metadata": {},
   "outputs": [],
   "source": [
    "#data_dir = os.path.join(save_dir, 'model_output')"
   ]
  },
  {
   "cell_type": "code",
   "execution_count": null,
   "id": "c49c0724",
   "metadata": {},
   "outputs": [],
   "source": [
    "expdata_id = '04.16.mortality'\n",
    "# set up the datasets\n",
    "cur_dataset = expdata_generator(expdata_id, root_dir=save_dir)\n",
    "cur_dataset.get_exp_data(sel_task='mortality', data_root=save_dir)\n",
    "cur_dataset.load_exp_data()\n",
    "cur_dataset.show_data()\n"
   ]
  },
  {
   "cell_type": "markdown",
   "id": "23374464",
   "metadata": {},
   "source": [
    "<div class=\"alert alert-warning\">\n",
    "    <b>Run the Chosen Model!</b>\n",
    "</div>"
   ]
  },
  {
   "cell_type": "code",
   "execution_count": null,
   "id": "0e48f76a",
   "metadata": {},
   "outputs": [],
   "source": [
    "# initialize the model for training\n",
    "# turn on GPU by setting use_gpu to True\n",
    "expmodel_id = '04.16.mortality.LTSM.cpu'\n",
    "clf = model(expmodel_id=expmodel_id, n_batchsize=64, use_gpu=False, n_epoch=10, gpu_ids='0, 1')\n",
    "clf.fit(cur_dataset.train, cur_dataset.valid)"
   ]
  },
  {
   "cell_type": "code",
   "execution_count": null,
   "id": "f55fe143",
   "metadata": {},
   "outputs": [],
   "source": [
    "# load the best model for inference\n",
    "clf.load_model()\n",
    "clf.inference(cur_dataset.test)\n",
    "pred_results = clf.get_results()\n",
    "print(pred_results['hat_y'])"
   ]
  },
  {
   "cell_type": "code",
   "execution_count": null,
   "id": "bc16f49e",
   "metadata": {},
   "outputs": [],
   "source": [
    "# evaluate the model\n",
    "r = func(pred_results['hat_y'], pred_results['y'])"
   ]
  },
  {
   "cell_type": "markdown",
   "id": "c0c189ee",
   "metadata": {},
   "source": [
    "<div class=\"alert alert-warning\">\n",
    "    <b>View Results</b>\n",
    "</div>"
   ]
  },
  {
   "cell_type": "code",
   "execution_count": null,
   "id": "3c2ecca4",
   "metadata": {},
   "outputs": [],
   "source": [
    "from sklearn.metrics import accuracy_score\n",
    "\n",
    "accuracy_score(pred_results['y'], pred_results['hat_y'])"
   ]
  },
  {
   "cell_type": "code",
   "execution_count": null,
   "id": "aaa2596d",
   "metadata": {},
   "outputs": [],
   "source": [
    "len(pred_results['y'])\n",
    "len(pred_results['hat_y'])"
   ]
  },
  {
   "cell_type": "code",
   "execution_count": null,
   "id": "c4e3585f",
   "metadata": {},
   "outputs": [],
   "source": [
    "pred_results['y'].tolist()"
   ]
  },
  {
   "cell_type": "code",
   "execution_count": null,
   "id": "41fd0666",
   "metadata": {},
   "outputs": [],
   "source": [
    "pred_results['hat_y'].tolist()"
   ]
  },
  {
   "cell_type": "code",
   "execution_count": null,
   "id": "71158fe7",
   "metadata": {},
   "outputs": [],
   "source": [
    "np.sum(np.abs(pred_results['y'] - pred_results['hat_y']))"
   ]
  },
  {
   "cell_type": "code",
   "execution_count": null,
   "id": "52988752",
   "metadata": {
    "scrolled": true
   },
   "outputs": [],
   "source": [
    "r\n"
   ]
  },
  {
   "cell_type": "code",
   "execution_count": null,
   "id": "5e5f4d2a",
   "metadata": {},
   "outputs": [],
   "source": [
    "np.sum(pred_results['hat_y'] * pred_results['y'])/ np.sum(pred_results['y']) if np.sum(pred_results['y'])>0 else 0."
   ]
  },
  {
   "cell_type": "code",
   "execution_count": null,
   "id": "b08c1b95",
   "metadata": {},
   "outputs": [],
   "source": [
    "np.sum(pred_results['hat_y'] * pred_results['y'])"
   ]
  },
  {
   "cell_type": "code",
   "execution_count": null,
   "id": "ad2f9327",
   "metadata": {},
   "outputs": [],
   "source": [
    "np.sum(pred_results['y'])"
   ]
  },
  {
   "cell_type": "code",
   "execution_count": null,
   "id": "c3012ca5",
   "metadata": {},
   "outputs": [],
   "source": [
    "pred_results['y'].tolist()"
   ]
  },
  {
   "cell_type": "code",
   "execution_count": null,
   "id": "f63bf2f8",
   "metadata": {},
   "outputs": [],
   "source": [
    "y_score = clf.decision_function(X_test)"
   ]
  },
  {
   "cell_type": "code",
   "execution_count": null,
   "id": "094117ed",
   "metadata": {},
   "outputs": [],
   "source": [
    " %load_ext autoreload"
   ]
  },
  {
   "cell_type": "code",
   "execution_count": null,
   "id": "5bed20c2",
   "metadata": {},
   "outputs": [],
   "source": [
    "from sklearn.metrics import PrecisionRecallDisplay\n",
    "display = PrecisionRecallDisplay.from_predictions(pred_results['y'], pred_results['hat_y'], name=\"LinearSVC\")\n",
    "_ = display.ax_.set_title(\"2-class Precision-Recall curve\")"
   ]
  },
  {
   "cell_type": "code",
   "execution_count": null,
   "id": "a802fd0a",
   "metadata": {},
   "outputs": [],
   "source": [
    "%matplotlib\n",
    "from sklearn.metrics import precision_recall_curve\n",
    "import matplotlib.pyplot as plt\n",
    "#calculate precision and recall\n",
    "precision, recall, thresholds = precision_recall_curve(pred_results['y'], pred_results['hat_y'])\n",
    "\n",
    "#create precision recall curve\n",
    "fig, ax = plt.subplots()\n",
    "ax.plot(recall, precision, color='purple')\n",
    "\n",
    "#add axis labels to plot\n",
    "ax.set_title('Precision-Recall Curve')\n",
    "ax.set_ylabel('Precision')\n",
    "ax.set_xlabel('Recall')\n",
    "\n",
    "#display plot\n",
    "plt.show()"
   ]
  },
  {
   "cell_type": "code",
   "execution_count": null,
   "id": "e13a496f",
   "metadata": {},
   "outputs": [],
   "source": [
    "from sklearn.metrics import precision_recall_curve\n",
    "from sklearn.metrics import PrecisionRecallDisplay\n",
    "\n",
    "prec, recall, _ = precision_recall_curve(pred_results['y'], pred_results['hat_y'], pos_label=1)\n",
    "pr_display = PrecisionRecallDisplay(precision=prec, recall=recall).plot()"
   ]
  },
  {
   "cell_type": "code",
   "execution_count": null,
   "id": "ecb9f65b",
   "metadata": {},
   "outputs": [],
   "source": [
    "import sklearn\n",
    "sklearn.metrics.precision_recall_curve(pred_results['y'], pred_results['hat_y'], pos_label=1, sample_weight=None)"
   ]
  },
  {
   "cell_type": "code",
   "execution_count": null,
   "id": "30bec257",
   "metadata": {},
   "outputs": [],
   "source": [
    "pred_results['hat_y'].tolist()"
   ]
  },
  {
   "cell_type": "code",
   "execution_count": null,
   "id": "91bb7eba",
   "metadata": {},
   "outputs": [],
   "source": [
    "len(pred_results['hat_y'].tolist())"
   ]
  },
  {
   "cell_type": "code",
   "execution_count": null,
   "id": "ac83c0ea",
   "metadata": {},
   "outputs": [],
   "source": [
    "Compute Area Under the Receiver Operating Characteristic Curve (ROC AUC) from prediction scores.\n",
    "The roc_auc_score function computes the area under the receiver operating characteristic (ROC) curve, which is also denoted by AUC\n",
    "By computing the area under the roc curve, the curve information is summarized in one number."
   ]
  },
  {
   "cell_type": "code",
   "execution_count": null,
   "id": "7a7f700f",
   "metadata": {},
   "outputs": [],
   "source": [
    "clf.inference(cur_dataset.valid)"
   ]
  }
 ],
 "metadata": {
  "kernelspec": {
   "display_name": "Python [conda env:pyhealth]",
   "language": "python",
   "name": "conda-env-pyhealth-py"
  },
  "language_info": {
   "codemirror_mode": {
    "name": "ipython",
    "version": 3
   },
   "file_extension": ".py",
   "mimetype": "text/x-python",
   "name": "python",
   "nbconvert_exporter": "python",
   "pygments_lexer": "ipython3",
   "version": "3.6.13"
  }
 },
 "nbformat": 4,
 "nbformat_minor": 5
}
